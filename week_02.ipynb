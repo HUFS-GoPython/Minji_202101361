{
 "cells": [
  {
   "cell_type": "markdown",
   "id": "0d0d286f-6d61-4476-b7b4-7c42e8cbd487",
   "metadata": {
    "tags": []
   },
   "source": [
    "## 고급파이썬프로그래밍 2주차\n",
    "### Chapter 2. Variable"
   ]
  },
  {
   "cell_type": "markdown",
   "id": "e664a788-c996-4dd1-b7a4-1ebc33707094",
   "metadata": {},
   "source": [
    "- string\n",
    "- float\n",
    "- integer\n",
    "- boolean"
   ]
  },
  {
   "cell_type": "code",
   "execution_count": 24,
   "id": "4f8baf47-d55e-4260-8368-5f078d93e639",
   "metadata": {},
   "outputs": [
    {
     "data": {
      "text/plain": [
       "2"
      ]
     },
     "execution_count": 24,
     "metadata": {},
     "output_type": "execute_result"
    }
   ],
   "source": [
    "# 여러 이름 동시에 할당\n",
    "two = deux = dos = 2\n",
    "two"
   ]
  },
  {
   "cell_type": "code",
   "execution_count": 21,
   "id": "999082af-f55f-4b08-a902-750db7d6aa4b",
   "metadata": {
    "tags": []
   },
   "outputs": [
    {
     "name": "stdout",
     "output_type": "stream",
     "text": [
      "4 2\n"
     ]
    }
   ],
   "source": [
    "# 불변객체이므로 \n",
    "two = 4\n",
    "print(two, deux)"
   ]
  },
  {
   "cell_type": "code",
   "execution_count": 22,
   "id": "bbe097df-af64-4a03-a37f-79289b224968",
   "metadata": {},
   "outputs": [
    {
     "data": {
      "text/plain": [
       "(140716282145168, 140716282145104)"
      ]
     },
     "execution_count": 22,
     "metadata": {},
     "output_type": "execute_result"
    }
   ],
   "source": [
    "id(two), id(deux)"
   ]
  },
  {
   "cell_type": "code",
   "execution_count": 25,
   "id": "6e8bf41d-6cbe-4db0-81d2-f71766bd604a",
   "metadata": {
    "tags": []
   },
   "outputs": [
    {
     "data": {
      "text/plain": [
       "([1, 2, 3], [1, 2, 3])"
      ]
     },
     "execution_count": 25,
     "metadata": {},
     "output_type": "execute_result"
    }
   ],
   "source": [
    "p = [1, 2, 3]\n",
    "q = p\n",
    "p, q"
   ]
  },
  {
   "cell_type": "code",
   "execution_count": 26,
   "id": "12ad94a1-5f01-450a-a28c-0b858b56479b",
   "metadata": {
    "tags": []
   },
   "outputs": [
    {
     "data": {
      "text/plain": [
       "(140715762881984, 140715762881984)"
      ]
     },
     "execution_count": 26,
     "metadata": {},
     "output_type": "execute_result"
    }
   ],
   "source": [
    "id(p), id(q)"
   ]
  },
  {
   "cell_type": "code",
   "execution_count": 27,
   "id": "2d9d935a-e5ad-4368-b412-f793745a7c6d",
   "metadata": {
    "tags": []
   },
   "outputs": [
    {
     "data": {
      "text/plain": [
       "([9, 2, 3], [9, 2, 3])"
      ]
     },
     "execution_count": 27,
     "metadata": {},
     "output_type": "execute_result"
    }
   ],
   "source": [
    "p[0] = 9\n",
    "p, q"
   ]
  },
  {
   "cell_type": "code",
   "execution_count": 28,
   "id": "8660b5e7-1517-4b3d-844e-12e90f1bd330",
   "metadata": {
    "tags": []
   },
   "outputs": [
    {
     "data": {
      "text/plain": [
       "(140715762881984, 140715762881984)"
      ]
     },
     "execution_count": 28,
     "metadata": {},
     "output_type": "execute_result"
    }
   ],
   "source": [
    "id(p), id(q)"
   ]
  },
  {
   "cell_type": "markdown",
   "id": "f5a700ed-a769-40cc-8030-38451fd37c21",
   "metadata": {
    "tags": []
   },
   "source": [
    "#### 자료형 변환, 형 변환\n",
    "- str(변환할 값), int(), float(), bool()"
   ]
  },
  {
   "cell_type": "code",
   "execution_count": 34,
   "id": "b468c019-124e-424b-b0d2-5959adb0d97d",
   "metadata": {
    "tags": []
   },
   "outputs": [
    {
     "data": {
      "text/plain": [
       "True"
      ]
     },
     "execution_count": 34,
     "metadata": {},
     "output_type": "execute_result"
    }
   ],
   "source": [
    "a = 10\n",
    "\n",
    "str(a)\n",
    "int(a)\n",
    "float(a)\n",
    "bool(a) # 어떤 값이 False로 변환되는지"
   ]
  },
  {
   "cell_type": "markdown",
   "id": "0803f0cf-e520-4328-b6f9-04102ef915e6",
   "metadata": {
    "tags": []
   },
   "source": [
    "##### 주의할 점 1: float->int"
   ]
  },
  {
   "cell_type": "code",
   "execution_count": 30,
   "id": "7441b6ef-31d7-44c0-a7f5-b72a24e105c7",
   "metadata": {
    "tags": []
   },
   "outputs": [
    {
     "data": {
      "text/plain": [
       "10"
      ]
     },
     "execution_count": 30,
     "metadata": {},
     "output_type": "execute_result"
    }
   ],
   "source": [
    "x = 10.7 # 소수점 내림\n",
    "int(x)"
   ]
  },
  {
   "cell_type": "code",
   "execution_count": 31,
   "id": "2f7da9f9-bfaa-4e05-908e-a2228cce1a07",
   "metadata": {
    "tags": []
   },
   "outputs": [
    {
     "name": "stdout",
     "output_type": "stream",
     "text": [
      "30\n",
      "29\n"
     ]
    }
   ],
   "source": [
    "y = 19.8\n",
    "\n",
    "print(int(x + y))\n",
    "print(int(x) + int(y))"
   ]
  },
  {
   "cell_type": "markdown",
   "id": "96b43668-4f4b-4727-a28b-6193b970da93",
   "metadata": {
    "tags": []
   },
   "source": [
    "##### 주의할 점 2: str -> int / float"
   ]
  },
  {
   "cell_type": "code",
   "execution_count": 32,
   "id": "e3385ab3-c362-424d-bdf9-f248c871ee6d",
   "metadata": {
    "tags": []
   },
   "outputs": [
    {
     "data": {
      "text/plain": [
       "(10, 10.0)"
      ]
     },
     "execution_count": 32,
     "metadata": {},
     "output_type": "execute_result"
    }
   ],
   "source": [
    "i = '10'\n",
    "int(i), float(i)"
   ]
  },
  {
   "cell_type": "code",
   "execution_count": 33,
   "id": "2788ea80-538e-46ab-b406-fa2d123a1c12",
   "metadata": {
    "tags": []
   },
   "outputs": [
    {
     "ename": "ValueError",
     "evalue": "invalid literal for int() with base 10: '10.7'",
     "output_type": "error",
     "traceback": [
      "\u001b[0;31m---------------------------------------------------------------------------\u001b[0m",
      "\u001b[0;31mValueError\u001b[0m                                Traceback (most recent call last)",
      "\u001b[0;32m/var/folders/wh/tvv7pnrs1dv43fq_ywn935yh0000gn/T/ipykernel_5541/1630938160.py\u001b[0m in \u001b[0;36m<module>\u001b[0;34m\u001b[0m\n\u001b[1;32m      1\u001b[0m \u001b[0mj\u001b[0m \u001b[0;34m=\u001b[0m \u001b[0;34m'10.7'\u001b[0m\u001b[0;34m\u001b[0m\u001b[0;34m\u001b[0m\u001b[0m\n\u001b[0;32m----> 2\u001b[0;31m \u001b[0mint\u001b[0m\u001b[0;34m(\u001b[0m\u001b[0mj\u001b[0m\u001b[0;34m)\u001b[0m\u001b[0;34m\u001b[0m\u001b[0;34m\u001b[0m\u001b[0m\n\u001b[0m",
      "\u001b[0;31mValueError\u001b[0m: invalid literal for int() with base 10: '10.7'"
     ]
    }
   ],
   "source": [
    "j = '10.7'\n",
    "int(j)"
   ]
  },
  {
   "cell_type": "markdown",
   "id": "619ebf6b-9099-4697-8176-2539f67e952f",
   "metadata": {
    "tags": []
   },
   "source": [
    "#### >>꿀팁 print()<<"
   ]
  },
  {
   "cell_type": "code",
   "execution_count": 41,
   "id": "39113ffa-df01-435a-afbe-9d4bf4d43c89",
   "metadata": {
    "tags": []
   },
   "outputs": [
    {
     "name": "stdout",
     "output_type": "stream",
     "text": [
      "dogcatlion\n",
      "dog cat lion\n"
     ]
    }
   ],
   "source": [
    "dog = 'dog'\n",
    "cat = 'cat'\n",
    "lion = 'lion'\n",
    "\n",
    "print(dog + cat + lion) #space X, \\n\n",
    "print(dog, cat, lion) # space O, \\n #default"
   ]
  },
  {
   "cell_type": "code",
   "execution_count": 38,
   "id": "5f619037-f471-4f27-b08e-5c51fa8167c7",
   "metadata": {
    "tags": []
   },
   "outputs": [
    {
     "name": "stdout",
     "output_type": "stream",
     "text": [
      "dog/cat/lion\n",
      "\n",
      "lat\n"
     ]
    }
   ],
   "source": [
    "print(dog, cat, lion, sep='/', end='\\n\\n')\n",
    "print('lat')"
   ]
  },
  {
   "cell_type": "code",
   "execution_count": 39,
   "id": "1afd74da-c823-4c4b-8947-3897b742415c",
   "metadata": {
    "tags": []
   },
   "outputs": [
    {
     "name": "stdout",
     "output_type": "stream",
     "text": [
      "my favorite animal is  dog .\n",
      "my favorite animal is dog.\n"
     ]
    }
   ],
   "source": [
    "print('my favorite animal is ', dog, '.')\n",
    "\n",
    "print(f'my favorite animal is {dog}.')"
   ]
  },
  {
   "cell_type": "markdown",
   "id": "a6eacb15-27e5-4266-b967-d8080dc482b7",
   "metadata": {
    "tags": []
   },
   "source": [
    "코드 줄이 짧을 때 ;(semicolon)을 이용해 한 줄로 쓸 수 있다."
   ]
  },
  {
   "cell_type": "code",
   "execution_count": 42,
   "id": "7175e97a-78b5-4e3f-b7bf-d31dc87a9f8f",
   "metadata": {
    "tags": []
   },
   "outputs": [
    {
     "name": "stdout",
     "output_type": "stream",
     "text": [
      "dog\n"
     ]
    }
   ],
   "source": [
    "dog = 'dog'; cat = 'cat'; lion = 'lion'\n",
    "print(dog)"
   ]
  },
  {
   "cell_type": "markdown",
   "id": "5107c8d6-aa03-417d-8b08-8124f9c2920e",
   "metadata": {
    "tags": []
   },
   "source": [
    "#### input() 함수\n",
    "- console 에서 사용자가 입력하는 값을 받을 수 있는 함수\n",
    "- 입력 받는 값은 문자열로 인식\n",
    "- 입력 받은 값을 변수에 담아서 사용. 아니면 사라짐\n",
    "- 숫자를 입력받을 경우 형 변환 필요"
   ]
  },
  {
   "cell_type": "code",
   "execution_count": 43,
   "id": "eeec8492-921e-4fb1-a599-a7809dac6c10",
   "metadata": {
    "tags": []
   },
   "outputs": [
    {
     "name": "stdin",
     "output_type": "stream",
     "text": [
      "hello hi\n"
     ]
    },
    {
     "data": {
      "text/plain": [
       "'hi'"
      ]
     },
     "execution_count": 43,
     "metadata": {},
     "output_type": "execute_result"
    }
   ],
   "source": [
    "input('hello')"
   ]
  },
  {
   "cell_type": "code",
   "execution_count": 45,
   "id": "e05eea33-e86f-4d6c-9a0f-f72cf5dbe05f",
   "metadata": {
    "tags": []
   },
   "outputs": [
    {
     "name": "stdin",
     "output_type": "stream",
     "text": [
      "나이가 어떻게 되나요?: 23\n"
     ]
    },
    {
     "data": {
      "text/plain": [
       "23"
      ]
     },
     "execution_count": 45,
     "metadata": {},
     "output_type": "execute_result"
    }
   ],
   "source": [
    "int(input('나이가 어떻게 되나요?:'))"
   ]
  },
  {
   "cell_type": "markdown",
   "id": "89ad472f-1083-4f97-a7c4-64e36bf09795",
   "metadata": {
    "tags": []
   },
   "source": [
    "- 변수에 할당하는 방법"
   ]
  },
  {
   "cell_type": "code",
   "execution_count": 46,
   "id": "0a5296a4-29e8-4847-bb53-371ebf17a39e",
   "metadata": {
    "tags": []
   },
   "outputs": [
    {
     "name": "stdin",
     "output_type": "stream",
     "text": [
      " 13\n"
     ]
    }
   ],
   "source": [
    "age = input('나이가?')"
   ]
  },
  {
   "cell_type": "code",
   "execution_count": 47,
   "id": "19419347-7df4-4b25-b0f0-7b7a0fd0dfd6",
   "metadata": {
    "tags": []
   },
   "outputs": [
    {
     "name": "stdout",
     "output_type": "stream",
     "text": [
      "나이가?\n"
     ]
    },
    {
     "name": "stdin",
     "output_type": "stream",
     "text": [
      " 44\n"
     ]
    }
   ],
   "source": [
    "print('나이가?')\n",
    "age = input()"
   ]
  },
  {
   "cell_type": "code",
   "execution_count": 48,
   "id": "eabc5649-6aee-4e21-a78a-b7cac890b097",
   "metadata": {
    "tags": []
   },
   "outputs": [
    {
     "data": {
      "text/plain": [
       "'44'"
      ]
     },
     "execution_count": 48,
     "metadata": {},
     "output_type": "execute_result"
    }
   ],
   "source": [
    "age"
   ]
  },
  {
   "cell_type": "markdown",
   "id": "78f45768-1d6c-4236-b086-ec2f3d0a3556",
   "metadata": {
    "tags": []
   },
   "source": [
    "#### Quiz1\n",
    "- 섭씨를 화씨로 변환"
   ]
  },
  {
   "cell_type": "code",
   "execution_count": 50,
   "id": "eea4f6dd-fc12-4f45-a970-acb45da22f23",
   "metadata": {
    "tags": []
   },
   "outputs": [
    {
     "name": "stdin",
     "output_type": "stream",
     "text": [
      " 98\n"
     ]
    },
    {
     "name": "stdout",
     "output_type": "stream",
     "text": [
      "191.4\n"
     ]
    }
   ],
   "source": [
    "fah = float(input())\n",
    "cel = fah * 1.8 + 15\n",
    "print(cel)"
   ]
  },
  {
   "cell_type": "markdown",
   "id": "5c8b7c51-c9ab-457c-8cbd-5d2b964820a8",
   "metadata": {},
   "source": [
    "#### Quiz2\n",
    "- 배송정보"
   ]
  },
  {
   "cell_type": "code",
   "execution_count": null,
   "id": "58f48e13-d9e6-4219-a444-ebef0ce45c51",
   "metadata": {},
   "outputs": [],
   "source": [
    "name = input()\n",
    "address = input()\n",
    "weight = float(input())\n",
    "price = weight * 5\n",
    "total = 3000 + price\n",
    "\n",
    "print(\"==택배정보==\")\n",
    "print(f'수취인 성명: <{name}>')\n",
    "print(f'수취인 주소: >{address}>')\n",
    "print('배송비: 3000원')\n",
    "print(f'물건 비용: <{price}>원')\n",
    "print(f'총합계: <{total}>원') "
   ]
  },
  {
   "cell_type": "markdown",
   "id": "7af308be-4f2a-4769-a8ee-879ce7356656",
   "metadata": {},
   "source": [
    "### Chapter 3. Numbers"
   ]
  },
  {
   "cell_type": "markdown",
   "id": "8345a013-b970-44a2-9320-70fe0371799e",
   "metadata": {
    "tags": []
   },
   "source": [
    "#### boolean\n",
    "- 형 변환할 때 True, False 인지 기억\n",
    "- 조건식에서 많이 쓴다. ex) 만약 이 조건이 True라면 ..."
   ]
  },
  {
   "cell_type": "code",
   "execution_count": 1,
   "id": "4fc2115e-4313-4944-b1c9-4adfa86ac668",
   "metadata": {},
   "outputs": [
    {
     "data": {
      "text/plain": [
       "True"
      ]
     },
     "execution_count": 1,
     "metadata": {},
     "output_type": "execute_result"
    }
   ],
   "source": [
    "bool(1)"
   ]
  },
  {
   "cell_type": "code",
   "execution_count": 2,
   "id": "0ec82ea4-167a-4435-9473-577a4c83dd94",
   "metadata": {},
   "outputs": [
    {
     "data": {
      "text/plain": [
       "False"
      ]
     },
     "execution_count": 2,
     "metadata": {},
     "output_type": "execute_result"
    }
   ],
   "source": [
    "bool('')"
   ]
  },
  {
   "cell_type": "markdown",
   "id": "81bcc3f3-ee1d-4e2b-83ac-8f727ec2e17d",
   "metadata": {
    "tags": []
   },
   "source": [
    "#### integer\n",
    "- 소수점 없음\n",
    "- 음수는 앞에 - 붙임\n",
    "- 숫자 앞에 0 붙일 수 없음\n",
    "    예외) 0vxxx 다른 진수 표현법\n",
    "- 리터럴: 4\n",
    "- 공백이 많아도 무시됨\n",
    "- 10,000원 -> 10, 000원 두개로 인식 -> _사용"
   ]
  },
  {
   "cell_type": "code",
   "execution_count": 3,
   "id": "2af34e2e-63bb-4f2b-802d-ae6afec56575",
   "metadata": {},
   "outputs": [
    {
     "data": {
      "text/plain": [
       "-1"
      ]
     },
     "execution_count": 3,
     "metadata": {},
     "output_type": "execute_result"
    }
   ],
   "source": [
    "a = -9\n",
    "8 + a"
   ]
  },
  {
   "cell_type": "code",
   "execution_count": 4,
   "id": "8712ae09-0054-4c47-93e5-fc4e8fd80140",
   "metadata": {},
   "outputs": [
    {
     "data": {
      "text/plain": [
       "5"
      ]
     },
     "execution_count": 4,
     "metadata": {},
     "output_type": "execute_result"
    }
   ],
   "source": [
    "2 +      3"
   ]
  },
  {
   "cell_type": "code",
   "execution_count": 5,
   "id": "31dfbf8b-032d-48cd-96fb-de63d379ce81",
   "metadata": {},
   "outputs": [
    {
     "data": {
      "text/plain": [
       "10000"
      ]
     },
     "execution_count": 5,
     "metadata": {},
     "output_type": "execute_result"
    }
   ],
   "source": [
    "a = 10_000\n",
    "a"
   ]
  },
  {
   "cell_type": "markdown",
   "id": "8b69f51c-bdd8-43a4-87f8-9fedd2cdbe3f",
   "metadata": {
    "tags": []
   },
   "source": [
    "#### 연산\n",
    "- 연산자|operator: +, -\n",
    "- 피연산자|operand: 4, 3\n",
    "- 수식|expression"
   ]
  },
  {
   "cell_type": "code",
   "execution_count": 10,
   "id": "2e8858ea-4d49-4c51-bf97-c4b65ea3e7f3",
   "metadata": {
    "tags": []
   },
   "outputs": [
    {
     "data": {
      "text/plain": [
       "64"
      ]
     },
     "execution_count": 10,
     "metadata": {},
     "output_type": "execute_result"
    }
   ],
   "source": [
    "x = 4\n",
    "y = 3\n",
    "\n",
    "x + y\n",
    "x - y\n",
    "x * y\n",
    "x / y\n",
    "\n",
    "# 거듭제곱: **\n",
    "x ** y"
   ]
  },
  {
   "cell_type": "markdown",
   "id": "c5f1c2b5-bca4-4d54-8fd8-807faa058581",
   "metadata": {
    "tags": []
   },
   "source": [
    "나눗셈에서 주의할 것\n",
    "1. division by zero => 주의 (y!=0)\n",
    "2. 몫: x // y, 나머지: x % y"
   ]
  },
  {
   "cell_type": "code",
   "execution_count": 11,
   "id": "a4bf816d-948a-4784-aebf-d61cd020500a",
   "metadata": {},
   "outputs": [
    {
     "data": {
      "text/plain": [
       "(0, 3)"
      ]
     },
     "execution_count": 11,
     "metadata": {},
     "output_type": "execute_result"
    }
   ],
   "source": [
    "x=3\n",
    "y=5\n",
    "divmod(x, y)"
   ]
  },
  {
   "cell_type": "markdown",
   "id": "888e9c08-f3f6-4855-b2c2-a3ca6f85d221",
   "metadata": {},
   "source": [
    "#### 복합 대입 연산자| compound assignment operator"
   ]
  },
  {
   "cell_type": "code",
   "execution_count": 12,
   "id": "46b22dac-60f7-4fbc-ba15-193292aa1007",
   "metadata": {},
   "outputs": [
    {
     "name": "stdout",
     "output_type": "stream",
     "text": [
      "5\n"
     ]
    }
   ],
   "source": [
    "a = 5\n",
    "a - 3\n",
    "print(a)"
   ]
  },
  {
   "cell_type": "code",
   "execution_count": 13,
   "id": "153d0b44-c6e0-4dde-aa18-1d043dc86e36",
   "metadata": {},
   "outputs": [],
   "source": [
    "a = a-3\n",
    "#1. a-3 계산\n",
    "#2. 임시변수 temp = a - 3\n",
    "#3. a = a-3\n",
    "a -= 3"
   ]
  },
  {
   "cell_type": "code",
   "execution_count": 15,
   "id": "67778190-3038-4d38-a3f4-878e1ad8033e",
   "metadata": {},
   "outputs": [],
   "source": [
    "a += 3\n",
    "a -= 3\n",
    "a *= 3\n",
    "a /= 3\n",
    "# a값 초기화 필요 ex) a = 4"
   ]
  },
  {
   "cell_type": "markdown",
   "id": "c942caa5-5c37-4f8b-8891-7d51ca9ce1da",
   "metadata": {},
   "source": [
    "#### Quiz3\n",
    "- 정수를 입력받고 3의 배수인지 확인\n",
    "- =홀수인지 확인"
   ]
  },
  {
   "cell_type": "code",
   "execution_count": 16,
   "id": "bc1a3ef1-7a37-442f-9959-9009b9259daa",
   "metadata": {},
   "outputs": [
    {
     "name": "stdin",
     "output_type": "stream",
     "text": [
      " 9\n"
     ]
    },
    {
     "name": "stdout",
     "output_type": "stream",
     "text": [
      "True\n",
      "True\n"
     ]
    }
   ],
   "source": [
    "number = int(input())\n",
    "print(number%3 == 0)\n",
    "print(number%2 == 1)"
   ]
  },
  {
   "cell_type": "markdown",
   "id": "7955e9cf-a4ce-4b2c-aa7f-73edd34b5446",
   "metadata": {},
   "source": [
    "#### 지수표현\n",
    "- e, E 둘다 가능\n",
    "- 앞부분은 float, int\n",
    "- 뒷부분은 int만\n",
    "    - 양수면 0 앞으로\n",
    "    - 음수면 0 뒤로(소수점) "
   ]
  },
  {
   "cell_type": "code",
   "execution_count": 51,
   "id": "7a4d0e1e-5819-4c53-90f1-35e24813c6a0",
   "metadata": {},
   "outputs": [
    {
     "data": {
      "text/plain": [
       "1000000.0"
      ]
     },
     "execution_count": 51,
     "metadata": {},
     "output_type": "execute_result"
    }
   ],
   "source": [
    "1.0e6 #float"
   ]
  },
  {
   "cell_type": "code",
   "execution_count": 53,
   "id": "dd8640a3-5584-40c8-adfa-c30066fbaf69",
   "metadata": {},
   "outputs": [
    {
     "data": {
      "text/plain": [
       "0.000789"
      ]
     },
     "execution_count": 53,
     "metadata": {},
     "output_type": "execute_result"
    }
   ],
   "source": [
    "# 0.000789\n",
    "789.e-6"
   ]
  },
  {
   "cell_type": "markdown",
   "id": "1a97163c-ad6d-496c-a27e-bf477dc25844",
   "metadata": {},
   "source": [
    "#### 조건문, if\n",
    "- code structure"
   ]
  },
  {
   "cell_type": "markdown",
   "id": "c0391d25-6373-4dff-ac2c-00a3198da9d7",
   "metadata": {},
   "source": [
    "#### 코드 짜는 룰\n",
    "- 주석 다는 법\n",
    "    - 설명하는 부분\n",
    "    - 목적: 의도 표현\n",
    "    - '#', hash, sharp, ...\n",
    "    - 시작된 부분부터 그 라인 끝까지 주석\n",
    "    - 문자열 안에 들어있는 해시는 문자열로 인식\n",
    "\n",
    "\n",
    "- 라인 유지하기\n",
    "    - 들여쓰기, 공백 4개, 탭 1개\n",
    "    - 한 줄에 최대 80자 넘지 않게\n",
    "    - 백슬래시\\로 끊어준다"
   ]
  },
  {
   "cell_type": "code",
   "execution_count": 56,
   "id": "9c8722c2-0391-4036-87a0-07607b3ffe79",
   "metadata": {},
   "outputs": [],
   "source": [
    "a = 3 #여기부터 라인 끝까지 주석"
   ]
  },
  {
   "cell_type": "code",
   "execution_count": 57,
   "id": "6ee3a3d3-1315-4e30-8883-a2300c430dec",
   "metadata": {},
   "outputs": [
    {
     "name": "stdout",
     "output_type": "stream",
     "text": [
      "hey ##\n"
     ]
    }
   ],
   "source": [
    "example = 'hey ##'\n",
    "print(example)"
   ]
  },
  {
   "cell_type": "markdown",
   "id": "cb8501a8-93cb-468f-aa1c-98e333405b73",
   "metadata": {},
   "source": [
    "- 조건 1개\n",
    "    - if<조건식>: <실행할 코드>"
   ]
  },
  {
   "cell_type": "code",
   "execution_count": 58,
   "id": "c97d2f5f-a6cb-4a23-ac0f-9fdefff10892",
   "metadata": {},
   "outputs": [
    {
     "name": "stdout",
     "output_type": "stream",
     "text": [
      "yes\n"
     ]
    }
   ],
   "source": [
    "if 4 != 9:\n",
    "    print('yes')"
   ]
  },
  {
   "cell_type": "markdown",
   "id": "3b712d6d-aca0-4985-b6be-81e2603b979e",
   "metadata": {},
   "source": [
    "- 조건 2개\n",
    "     if <조건식>:\n",
    "        <실행할 코드>\n",
    "     else:\n",
    "        <실행할 코드>"
   ]
  },
  {
   "cell_type": "code",
   "execution_count": 61,
   "id": "f8877ac5-7846-4b14-b3b8-a2a55793041a",
   "metadata": {},
   "outputs": [
    {
     "name": "stdout",
     "output_type": "stream",
     "text": [
      "no\n"
     ]
    }
   ],
   "source": [
    "if 4 == 9:\n",
    "    print('yes')\n",
    "else:\n",
    "    print('no')"
   ]
  },
  {
   "cell_type": "markdown",
   "id": "2e3927c5-1fe7-47a3-b2b9-af0fdce410a7",
   "metadata": {},
   "source": [
    "- 조건 3개 이상\n",
    "     if <조건식>:\n",
    "        <실행할 코드>\n",
    "     elif <조건식>:\n",
    "        <실행할 코드>\n",
    "     else:\n",
    "        <실행할 코드>"
   ]
  },
  {
   "cell_type": "markdown",
   "id": "8a8d8d65-5bc2-425d-a3da-fc98efbcc7b6",
   "metadata": {},
   "source": [
    "#### 비교연산자\n",
    "- x < y, x <= y\n",
    "- x > y, x >= y\n",
    "- x == y (값)\n",
    "- x != y (값)\n",
    "- x is y (값, 메모리주소)\n",
    "- x is not y"
   ]
  },
  {
   "cell_type": "markdown",
   "id": "1daddc54-6e18-4359-b464-71dc5c6f95bd",
   "metadata": {},
   "source": [
    "#### Quiz4\n",
    "- 학점 부여하기"
   ]
  },
  {
   "cell_type": "code",
   "execution_count": null,
   "id": "ae19558e-7b46-4723-ad68-3713b3c77e05",
   "metadata": {},
   "outputs": [],
   "source": [
    "score = int(input())\n",
    "\n",
    "if score >= 90:\n",
    "    print('A')\n",
    "elif 80<= score:\n",
    "     print('B')\n",
    "elif 70<= score:\n",
    "     print('C')\n",
    "else:\n",
    "     print('D')"
   ]
  },
  {
   "cell_type": "markdown",
   "id": "85a593ad-3742-4cec-8c88-4e4ea0cb45a1",
   "metadata": {},
   "source": [
    "#### Quiz5\n",
    "- 아이디, 비밀번호 로그인"
   ]
  },
  {
   "cell_type": "code",
   "execution_count": null,
   "id": "8996bbd5-23d7-4e7b-8d83-e3d4b9e3642c",
   "metadata": {},
   "outputs": [],
   "source": [
    "idaddress = input('아이디를 입력하세요: ')\n",
    "password = input('비밀번호를 입력하세요: ')\n",
    "\n",
    "if idaddress == 'python' and password == 'program':\n",
    "    print('log in')\n",
    "else:\n",
    "    print('wrong id or password')"
   ]
  },
  {
   "cell_type": "markdown",
   "id": "dde78b37-660b-4168-9dbc-2a113449481a",
   "metadata": {
    "tags": []
   },
   "source": [
    "#### 논리연산자\n",
    "- 여러 조건식을 비교할 떄\n",
    "- 10 < x < 20\n",
    "    - 파이썬에서만 가능\n",
    "- and, & : 둘다 참 True\n",
    "- or, | : 둘 중 하나만 참 True\n",
    "- not : 참 False, 거짓 True"
   ]
  },
  {
   "cell_type": "markdown",
   "id": "f27fd32a-8abb-42e3-bbdd-69e1921f6d55",
   "metadata": {},
   "source": [
    "#### Quiz6\n",
    "- 결석"
   ]
  },
  {
   "cell_type": "code",
   "execution_count": null,
   "id": "57d19f13-c4d3-483d-9365-6e5493a2c6b6",
   "metadata": {},
   "outputs": [],
   "source": [
    "score = int(input())\n",
    "absent = int(input())\n",
    "\n",
    "if score >= 90:\n",
    "    if absent >= 2:\n",
    "        print('F')\n",
    "    else:\n",
    "        print('A')\n",
    "elif 80<= score:\n",
    "    if absent >= 2:\n",
    "        print('F')\n",
    "    else:\n",
    "        print('B')\n",
    "elif 70<= score:\n",
    "     print('C')\n",
    "else:\n",
    "     print('D')"
   ]
  },
  {
   "cell_type": "code",
   "execution_count": null,
   "id": "d36dd8fa-bfb1-4ad6-9ac0-271e99a78c55",
   "metadata": {},
   "outputs": [],
   "source": []
  }
 ],
 "metadata": {
  "kernelspec": {
   "display_name": "Python 3 (ipykernel)",
   "language": "python",
   "name": "python3"
  },
  "language_info": {
   "codemirror_mode": {
    "name": "ipython",
    "version": 3
   },
   "file_extension": ".py",
   "mimetype": "text/x-python",
   "name": "python",
   "nbconvert_exporter": "python",
   "pygments_lexer": "ipython3",
   "version": "3.9.7"
  }
 },
 "nbformat": 4,
 "nbformat_minor": 5
}

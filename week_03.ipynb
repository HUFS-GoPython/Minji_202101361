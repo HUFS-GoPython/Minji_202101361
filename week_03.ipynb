{
 "cells": [
  {
   "cell_type": "markdown",
   "id": "2855377c-b381-4cd2-a9e1-3c3cbb95f8e1",
   "metadata": {
    "tags": []
   },
   "source": [
    "# 고급 파이썬 프로그래밍 3주차\n",
    "## 중첩조건문 | nested conditional\n",
    "- if 블록 안에 또 if 블록이 만들어지는 경우\n",
    "    - ex) if...\n",
    "            if...\n",
    "                if...\n",
    "    - 구분은 들여쓰기로 한다.\n",
    "    - 조건이 여러 개일 경우 사용\n",
    "    - 지양. 더 깔끔하고 예쁜 방법 탐색"
   ]
  },
  {
   "cell_type": "code",
   "execution_count": 2,
   "id": "1525410c-4dd1-43d1-b88c-8dabe35bc90a",
   "metadata": {},
   "outputs": [
    {
     "name": "stdout",
     "output_type": "stream",
     "text": [
      "B\n"
     ]
    }
   ],
   "source": [
    "x = 0\n",
    "y = 4\n",
    "\n",
    "if x == y:\n",
    "    print('A')\n",
    "else:\n",
    "    if x < y:\n",
    "        print('B')\n",
    "    else:\n",
    "        print('C')\n",
    "        "
   ]
  },
  {
   "cell_type": "code",
   "execution_count": null,
   "id": "76ea9dc3-53d8-405a-8fdd-a2346faec754",
   "metadata": {},
   "outputs": [],
   "source": [
    "if x == y:\n",
    "    #A\n",
    "elif x < y:\n",
    "    #B\n",
    "else:\n",
    "    #C"
   ]
  },
  {
   "cell_type": "code",
   "execution_count": 3,
   "id": "7f586d2c-e507-47e8-b19c-6c70da854c6e",
   "metadata": {},
   "outputs": [
    {
     "name": "stdout",
     "output_type": "stream",
     "text": [
      "D\n"
     ]
    }
   ],
   "source": [
    "# 0 < x < 10\n",
    "if x > 0:\n",
    "    print('A')\n",
    "    if x < 10:\n",
    "        print('B')\n",
    "    else:\n",
    "        print('C')\n",
    "else:\n",
    "    print('D')"
   ]
  },
  {
   "cell_type": "code",
   "execution_count": null,
   "id": "0a952079-41d8-4845-ba29-9efd547ab282",
   "metadata": {},
   "outputs": [],
   "source": [
    "# 방법1\n",
    "if (x > 0) and (x < 10):\n",
    "    #A\n",
    "else:\n",
    "    #B\n",
    "\n",
    "# 방법2 (파이썬에서만 가능)\n",
    "if 0 < X < 10:\n",
    "    # block a\n",
    "else:\n",
    "    # block b"
   ]
  },
  {
   "cell_type": "markdown",
   "id": "c01cbe82-12b6-46d7-ae6a-9e46dbce61bb",
   "metadata": {},
   "source": [
    "### 논리연산자\n",
    "- 비교연산 조건을 여러 번 사용하는 경우\n",
    "    - x > 0, x < 10\n",
    "- and, or, not\n",
    "    - A and B: A 그리고 B. A, B 둘다 참일 때 True (&)\n",
    "    - A or B: A 혹은 B. 둘 중 하나만 참이면 True (|)\n",
    "    - not A: A 참이면 False, 거짓이면 True (~)"
   ]
  },
  {
   "cell_type": "markdown",
   "id": "1c675345-7817-49c2-b56e-3c48898b197f",
   "metadata": {},
   "source": [
    "### True / False\n",
    "- A = True\n",
    "- '만약 A가 참이면...'"
   ]
  },
  {
   "cell_type": "code",
   "execution_count": null,
   "id": "444dab69-ee3d-4417-a055-c6a92be8d268",
   "metadata": {},
   "outputs": [],
   "source": [
    "if a == True: #이렇게 쓰면 안됨\n",
    "    print()\n",
    "if a: #A가 참일때\n",
    "    print()"
   ]
  },
  {
   "cell_type": "markdown",
   "id": "f363e051-199e-4459-92ca-71558dfce2ed",
   "metadata": {},
   "source": [
    "### In\n",
    "- membership operator\n",
    "- 요소가 안에 포함되어 있는가 or 비슷한 조건문이 여럿일 떄\n",
    "- A in B = A가 B에 포함되어 있는가"
   ]
  },
  {
   "cell_type": "code",
   "execution_count": 8,
   "id": "f672109a-e303-4e46-a2be-c6b8f0f7c984",
   "metadata": {},
   "outputs": [
    {
     "name": "stdout",
     "output_type": "stream",
     "text": [
      "자음\n"
     ]
    }
   ],
   "source": [
    "# ex1. 모음인지 아닌지 판별\n",
    "letter = 'k'\n",
    "if letter in ['a', 'e', 'i', 'o', 'u']:\n",
    "    print('모음')\n",
    "else: print('자음')"
   ]
  },
  {
   "cell_type": "code",
   "execution_count": 9,
   "id": "226567ed-93ea-41b2-aa41-3cc5cf1fd785",
   "metadata": {},
   "outputs": [
    {
     "name": "stdout",
     "output_type": "stream",
     "text": [
      "yes\n"
     ]
    }
   ],
   "source": [
    "# 단어에 모음이 있는지 확인\n",
    "word = 'apple'\n",
    "if 'a' or 'e' or 'o' or 'u' or 'i' in word:\n",
    "    print('yes')\n",
    "else: \n",
    "    print('no')"
   ]
  },
  {
   "cell_type": "markdown",
   "id": "b2ae521c-2bdd-4993-aeaf-233f0cd61bc3",
   "metadata": {},
   "source": [
    "### 코끼리 연산자\n",
    "- walrus operator\n",
    "- :=\n",
    "- 할당 + 테스트 동시에 하는 기능"
   ]
  },
  {
   "cell_type": "code",
   "execution_count": 12,
   "id": "15af8dc5-29da-4730-8561-a26cf6d471eb",
   "metadata": {},
   "outputs": [
    {
     "data": {
      "text/plain": [
       "200"
      ]
     },
     "execution_count": 12,
     "metadata": {},
     "output_type": "execute_result"
    }
   ],
   "source": [
    "tweet_limit = 200\n",
    "tweet_string = 'blah' * 50 \n",
    "len(tweet_string)"
   ]
  },
  {
   "cell_type": "code",
   "execution_count": 15,
   "id": "002459bf-deb9-452d-bf30-b1b0d7ff3f1c",
   "metadata": {},
   "outputs": [
    {
     "name": "stdout",
     "output_type": "stream",
     "text": [
      "불가능\n"
     ]
    }
   ],
   "source": [
    "diff = tweet_limit - len(tweet_string)\n",
    "if diff > 0:\n",
    "    print('가능')\n",
    "else:\n",
    "    print('불가능')"
   ]
  },
  {
   "cell_type": "code",
   "execution_count": 16,
   "id": "6d860351-b862-4b97-9081-c070d6d31428",
   "metadata": {},
   "outputs": [
    {
     "name": "stdout",
     "output_type": "stream",
     "text": [
      "불가능\n"
     ]
    }
   ],
   "source": [
    "if diff := tweet_limit - len(tweet_string) > 0: #코끼리연산자\n",
    "    print('가능')\n",
    "else: print('불가능')"
   ]
  },
  {
   "cell_type": "markdown",
   "id": "38d52972-f1e7-4316-af40-14dc037923d5",
   "metadata": {},
   "source": [
    "### Quiz1\n",
    "- 윤년 구하기"
   ]
  },
  {
   "cell_type": "code",
   "execution_count": 17,
   "id": "16ce588e-b34a-496e-a2a7-3510ec6d52e1",
   "metadata": {},
   "outputs": [
    {
     "name": "stdin",
     "output_type": "stream",
     "text": [
      " 2000\n"
     ]
    },
    {
     "name": "stdout",
     "output_type": "stream",
     "text": [
      "2000년은 윤년입니다.\n"
     ]
    }
   ],
   "source": [
    "year = int(input())\n",
    "if (year % 4 == 0 and year % 100 != 0) or (year % 400 == 0):\n",
    "    print(f'{year}년은 윤년입니다.')\n",
    "else:\n",
    "    print(f'{year}년은 윤년이 아닙니다.')"
   ]
  },
  {
   "cell_type": "markdown",
   "id": "d3362a1c-90cb-482f-8eae-a53fe6005783",
   "metadata": {},
   "source": [
    "## String | 문자열\n",
    "- 시스템에서 가장 작은 단위\n",
    "- 불변적 성격 (immutable)\n",
    "    - 예) jack -> jeck #불가능\n",
    "- ', \" 으로 선언\n",
    "    - 예) '25.5'\n",
    "    - ''', \"\"\" 는 주석\n",
    "- 형변환은 str()\n",
    "\n",
    "### escape character | 이스케이프 문자\n",
    "- 특수한 형태의 문자열. 눈에 보이는 대로 인식되지 않는 문자\n",
    "- \\ + ch\n",
    "- 예) \\n, \\t, \\b, \\', \\\",..."
   ]
  },
  {
   "cell_type": "code",
   "execution_count": 18,
   "id": "7c57a096-8a5d-47ee-8689-349aacca6a11",
   "metadata": {},
   "outputs": [
    {
     "name": "stdout",
     "output_type": "stream",
     "text": [
      "hello\n",
      "world\n"
     ]
    }
   ],
   "source": [
    "sent = 'hello\\nworld'\n",
    "print(sent)"
   ]
  },
  {
   "cell_type": "code",
   "execution_count": 19,
   "id": "4599ff90-5478-4059-8b7c-f58ca06d9f01",
   "metadata": {},
   "outputs": [
    {
     "name": "stdout",
     "output_type": "stream",
     "text": [
      "hello\tworld\n"
     ]
    }
   ],
   "source": [
    "sent = 'hello\\tworld'\n",
    "print(sent)"
   ]
  },
  {
   "cell_type": "code",
   "execution_count": 20,
   "id": "487833c3-f876-4761-b0ea-e80ced6c3f77",
   "metadata": {},
   "outputs": [
    {
     "name": "stdout",
     "output_type": "stream",
     "text": [
      "hellworld\n"
     ]
    }
   ],
   "source": [
    "sent = 'hello\\bworld'\n",
    "print(sent)"
   ]
  },
  {
   "cell_type": "code",
   "execution_count": 24,
   "id": "24a2d94b-734c-44fd-baec-b513ad558da5",
   "metadata": {},
   "outputs": [
    {
     "name": "stdout",
     "output_type": "stream",
     "text": [
      "hello\\nworld\n",
      "hello\\nworld\n"
     ]
    }
   ],
   "source": [
    "#\\n 출력하고 싶다\n",
    "\n",
    "#방법1\n",
    "sent = 'hello\\\\nworld'\n",
    "print(sent)\n",
    "\n",
    "#방법2\n",
    "sent = r'hello\\nworld'\n",
    "print(sent)"
   ]
  },
  {
   "cell_type": "code",
   "execution_count": 28,
   "id": "f66b2bcd-e67f-47b1-af64-6bee65f83063",
   "metadata": {},
   "outputs": [
    {
     "name": "stdout",
     "output_type": "stream",
     "text": [
      "hello'world\n"
     ]
    }
   ],
   "source": [
    "#문자열에서 '그대로 출력\n",
    "sent = 'hello\\'world'\n",
    "print(sent)"
   ]
  },
  {
   "cell_type": "code",
   "execution_count": 30,
   "id": "272d6353-a77b-46b6-a568-b2b6849bef2e",
   "metadata": {},
   "outputs": [
    {
     "data": {
      "text/plain": [
       "'hello\\nworld'"
      ]
     },
     "execution_count": 30,
     "metadata": {},
     "output_type": "execute_result"
    }
   ],
   "source": [
    "#print() 차이점\n",
    "sent = 'hello\\nworld'\n",
    "sent"
   ]
  },
  {
   "cell_type": "code",
   "execution_count": 31,
   "id": "f66c7284-8c46-4f3b-b436-192779f6c1b0",
   "metadata": {},
   "outputs": [
    {
     "name": "stdout",
     "output_type": "stream",
     "text": [
      "hello\n",
      "world\n"
     ]
    }
   ],
   "source": [
    "print(sent)"
   ]
  },
  {
   "cell_type": "markdown",
   "id": "f5d06e61-f711-4319-a41b-0773e0c60edf",
   "metadata": {},
   "source": [
    "### 연산\n",
    "- concatenatation\n",
    "    - '' + '' # 공백없이 결합\n",
    "- 곱하기\n",
    "    - '' * 숫자 # 숫자만큼 복제"
   ]
  },
  {
   "cell_type": "code",
   "execution_count": 32,
   "id": "d6963570-141c-441d-97ae-0bdd5d87d758",
   "metadata": {},
   "outputs": [
    {
     "data": {
      "text/plain": [
       "'jackjack'"
      ]
     },
     "execution_count": 32,
     "metadata": {},
     "output_type": "execute_result"
    }
   ],
   "source": [
    "name = 'jack'\n",
    "name + name"
   ]
  },
  {
   "cell_type": "code",
   "execution_count": 33,
   "id": "de2b34f0-e5d3-4f93-8a2e-8b6235fe5201",
   "metadata": {},
   "outputs": [
    {
     "data": {
      "text/plain": [
       "'jackjackjackjack'"
      ]
     },
     "execution_count": 33,
     "metadata": {},
     "output_type": "execute_result"
    }
   ],
   "source": [
    "name * 4"
   ]
  },
  {
   "cell_type": "code",
   "execution_count": 34,
   "id": "79bce10f-90c6-4cd8-8932-7006c26bd011",
   "metadata": {},
   "outputs": [
    {
     "ename": "TypeError",
     "evalue": "'str' object does not support item assignment",
     "output_type": "error",
     "traceback": [
      "\u001b[0;31m---------------------------------------------------------------------------\u001b[0m",
      "\u001b[0;31mTypeError\u001b[0m                                 Traceback (most recent call last)",
      "\u001b[0;32m/var/folders/wh/tvv7pnrs1dv43fq_ywn935yh0000gn/T/ipykernel_1622/1234381895.py\u001b[0m in \u001b[0;36m<module>\u001b[0;34m\u001b[0m\n\u001b[1;32m      1\u001b[0m \u001b[0;31m# immutable\u001b[0m\u001b[0;34m\u001b[0m\u001b[0;34m\u001b[0m\u001b[0m\n\u001b[0;32m----> 2\u001b[0;31m \u001b[0mname\u001b[0m\u001b[0;34m[\u001b[0m\u001b[0;36m1\u001b[0m\u001b[0;34m]\u001b[0m \u001b[0;34m=\u001b[0m \u001b[0;34m'e'\u001b[0m\u001b[0;34m\u001b[0m\u001b[0;34m\u001b[0m\u001b[0m\n\u001b[0m",
      "\u001b[0;31mTypeError\u001b[0m: 'str' object does not support item assignment"
     ]
    }
   ],
   "source": [
    "# immutable\n",
    "name[1] = 'e'"
   ]
  },
  {
   "cell_type": "markdown",
   "id": "6a67fc07-8641-46f4-9b38-49d3a3f61ca2",
   "metadata": {},
   "source": [
    "### 슬라이싱, 추출\n",
    "- 문자열의 일부분을 떼어내는 작업\n",
    "- 대괄호 사용, 그 안에 오프셋을 지정\n",
    "- 오프셋은 0부터 시작한다.\n",
    "    0123\n",
    "    jack\n",
    "    -4  -1\n",
    "- 음수도 가능, -1부터 시작\n",
    "- 오프셋은 [시작:끝:스텝] 구성 #step default = 1\n",
    "- 오프셋 시작 포함, 끝 포함 X (이상 - 미만)"
   ]
  },
  {
   "cell_type": "code",
   "execution_count": 35,
   "id": "715a29e7-80ac-4fa7-b48f-60f1b946416d",
   "metadata": {},
   "outputs": [
    {
     "data": {
      "text/plain": [
       "'k'"
      ]
     },
     "execution_count": 35,
     "metadata": {},
     "output_type": "execute_result"
    }
   ],
   "source": [
    "name = 'jack'\n",
    "name[-1]"
   ]
  },
  {
   "cell_type": "code",
   "execution_count": 36,
   "id": "32ffc6bb-a920-42b9-91f9-5f5288422f67",
   "metadata": {},
   "outputs": [
    {
     "data": {
      "text/plain": [
       "'hello\\nworld'"
      ]
     },
     "execution_count": 36,
     "metadata": {},
     "output_type": "execute_result"
    }
   ],
   "source": [
    "sent"
   ]
  },
  {
   "cell_type": "code",
   "execution_count": 37,
   "id": "2678d7c3-9f14-427f-83aa-d716ef3586f8",
   "metadata": {},
   "outputs": [
    {
     "data": {
      "text/plain": [
       "'l'"
      ]
     },
     "execution_count": 37,
     "metadata": {},
     "output_type": "execute_result"
    }
   ],
   "source": [
    "sent[3:4]"
   ]
  },
  {
   "cell_type": "code",
   "execution_count": 38,
   "id": "a7ca8130-51d0-4fc7-80ca-6da1f7c8e186",
   "metadata": {},
   "outputs": [
    {
     "data": {
      "text/plain": [
       "'hello\\n'"
      ]
     },
     "execution_count": 38,
     "metadata": {},
     "output_type": "execute_result"
    }
   ],
   "source": [
    "#처음부터 5까지 출력\n",
    "sent[:6]"
   ]
  },
  {
   "cell_type": "code",
   "execution_count": 39,
   "id": "fd8cafe3-c13e-416a-a339-3fcff7c1d7c4",
   "metadata": {},
   "outputs": [
    {
     "data": {
      "text/plain": [
       "'hlowrd'"
      ]
     },
     "execution_count": 39,
     "metadata": {},
     "output_type": "execute_result"
    }
   ],
   "source": [
    "#처음부터 끝까지 2스텝씩 출력\n",
    "sent[::2]"
   ]
  },
  {
   "cell_type": "code",
   "execution_count": 42,
   "id": "c24240b4-6dac-4b4a-9b8b-ee6c877111e7",
   "metadata": {},
   "outputs": [
    {
     "data": {
      "text/plain": [
       "'dlrow\\nolleh'"
      ]
     },
     "execution_count": 42,
     "metadata": {},
     "output_type": "execute_result"
    }
   ],
   "source": [
    "#모든 글자 거꾸로 출력\n",
    "sent[::-1]"
   ]
  },
  {
   "cell_type": "code",
   "execution_count": 43,
   "id": "b42e9b3d-9693-46b5-88f5-0935eb899b46",
   "metadata": {},
   "outputs": [
    {
     "data": {
      "text/plain": [
       "'benz'"
      ]
     },
     "execution_count": 43,
     "metadata": {},
     "output_type": "execute_result"
    }
   ],
   "source": [
    "cars = ['benz', 'kia', 'porsche']\n",
    "cars[0]"
   ]
  },
  {
   "cell_type": "markdown",
   "id": "20265afe-de4d-4350-9e9d-d33915684cd5",
   "metadata": {},
   "source": [
    "## NLTK\n",
    "- natural language toolkit\n",
    "- 자연어 분석을 위해 교육용으로 배포된 패키지\n",
    "- 내장함수, 기증들이 추가됨\n",
    "    - 토크나이즈, 파싱, 태깅, ..."
   ]
  },
  {
   "cell_type": "code",
   "execution_count": 44,
   "id": "3ef5bcf8-39ef-4fac-88d1-3abadab87d13",
   "metadata": {},
   "outputs": [],
   "source": [
    "#!pip install nltk"
   ]
  },
  {
   "cell_type": "code",
   "execution_count": 46,
   "id": "d95d4df5-5ae5-4d65-91c7-b5f15bfab7d2",
   "metadata": {},
   "outputs": [
    {
     "data": {
      "text/plain": [
       "True"
      ]
     },
     "execution_count": 46,
     "metadata": {},
     "output_type": "execute_result"
    }
   ],
   "source": [
    "import nltk #가져오기\n",
    "nltk.download('book', quiet=True) #부분적으로 다운받기"
   ]
  },
  {
   "cell_type": "code",
   "execution_count": 47,
   "id": "c76932ef-5d88-4cdc-af1e-0881ea4b2145",
   "metadata": {},
   "outputs": [
    {
     "name": "stdout",
     "output_type": "stream",
     "text": [
      "*** Introductory Examples for the NLTK Book ***\n",
      "Loading text1, ..., text9 and sent1, ..., sent9\n",
      "Type the name of the text or sentence to view it.\n",
      "Type: 'texts()' or 'sents()' to list the materials.\n",
      "text1: Moby Dick by Herman Melville 1851\n",
      "text2: Sense and Sensibility by Jane Austen 1811\n",
      "text3: The Book of Genesis\n",
      "text4: Inaugural Address Corpus\n",
      "text5: Chat Corpus\n",
      "text6: Monty Python and the Holy Grail\n",
      "text7: Wall Street Journal\n",
      "text8: Personals Corpus\n",
      "text9: The Man Who Was Thursday by G . K . Chesterton 1908\n"
     ]
    }
   ],
   "source": [
    "from nltk import book #book 가져오기"
   ]
  },
  {
   "cell_type": "code",
   "execution_count": 50,
   "id": "2f07634e-3737-4caa-9f20-5612db07e710",
   "metadata": {},
   "outputs": [
    {
     "data": {
      "text/plain": [
       "['[',\n",
       " 'Moby',\n",
       " 'Dick',\n",
       " 'by',\n",
       " 'Herman',\n",
       " 'Melville',\n",
       " '1851',\n",
       " ']',\n",
       " 'ETYMOLOGY',\n",
       " '.']"
      ]
     },
     "execution_count": 50,
     "metadata": {},
     "output_type": "execute_result"
    }
   ],
   "source": [
    "moby = book.text1\n",
    "moby.tokens[:10] #토큰에 접근하는 법 \n",
    "#토큰: 프로그래밍의 단어 단위\n",
    "    # I'm / I, 'm / I, am"
   ]
  },
  {
   "cell_type": "code",
   "execution_count": 51,
   "id": "720f2b43-420e-4296-b169-265929a91124",
   "metadata": {},
   "outputs": [
    {
     "data": {
      "text/plain": [
       "260819"
      ]
     },
     "execution_count": 51,
     "metadata": {},
     "output_type": "execute_result"
    }
   ],
   "source": [
    "# 1.길이세기\n",
    "len(moby)"
   ]
  },
  {
   "cell_type": "code",
   "execution_count": 55,
   "id": "a1fca169-e4be-4f2b-944a-a9d0176d59e7",
   "metadata": {},
   "outputs": [
    {
     "data": {
      "text/plain": [
       "19317"
      ]
     },
     "execution_count": 55,
     "metadata": {},
     "output_type": "execute_result"
    }
   ],
   "source": [
    "# 2. 중복 없이 단어 몇개?\n",
    "len(set(moby)) # list -> set"
   ]
  },
  {
   "cell_type": "markdown",
   "id": "15115bce-6211-4b8b-8f0e-14ad321631b6",
   "metadata": {},
   "source": [
    "- list\n",
    "    - ['a', 1, True]\n",
    "    - 순서 있음\n",
    "    - 중복 허용\n",
    "- set\n",
    "    - {'a', 2, True}\n",
    "    - 순서 없음\n",
    "    - 중복 허용 안됨\n",
    "    - set()\n",
    "    - 수학의 집합 개념"
   ]
  },
  {
   "cell_type": "code",
   "execution_count": 56,
   "id": "19f36318-850c-4fd8-a0e7-ebda3d3121e0",
   "metadata": {},
   "outputs": [
    {
     "data": {
      "text/plain": [
       "['kia', 'benz', 'benz', 'hyundai', 'kia']"
      ]
     },
     "execution_count": 56,
     "metadata": {},
     "output_type": "execute_result"
    }
   ],
   "source": [
    "cars = ['kia', 'benz', 'benz', 'hyundai', 'kia']\n",
    "cars"
   ]
  },
  {
   "cell_type": "code",
   "execution_count": 57,
   "id": "a128160e-7ca9-47b7-9e58-a079957931cf",
   "metadata": {},
   "outputs": [
    {
     "data": {
      "text/plain": [
       "{'benz', 'hyundai', 'kia'}"
      ]
     },
     "execution_count": 57,
     "metadata": {},
     "output_type": "execute_result"
    }
   ],
   "source": [
    "set(cars)"
   ]
  },
  {
   "cell_type": "code",
   "execution_count": 58,
   "id": "a8b5c987-3485-4d13-84b5-897320170c35",
   "metadata": {},
   "outputs": [
    {
     "data": {
      "text/plain": [
       "0.07406285585022564"
      ]
     },
     "execution_count": 58,
     "metadata": {},
     "output_type": "execute_result"
    }
   ],
   "source": [
    "# lexical diversity (단어의 다양성)\n",
    "len(set(moby)) / len(moby)"
   ]
  },
  {
   "cell_type": "code",
   "execution_count": 59,
   "id": "2a0465aa-d517-492a-836d-9151df4e5136",
   "metadata": {},
   "outputs": [
    {
     "data": {
      "text/plain": [
       "['benz', 'benz', 'hyundai', 'kia', 'kia']"
      ]
     },
     "execution_count": 59,
     "metadata": {},
     "output_type": "execute_result"
    }
   ],
   "source": [
    "# 정렬\n",
    "sorted(cars)"
   ]
  },
  {
   "cell_type": "code",
   "execution_count": 60,
   "id": "bb27583e-dd1b-45fb-aea2-c6cd0b6eed2a",
   "metadata": {},
   "outputs": [
    {
     "data": {
      "text/plain": [
       "['kia', 'kia', 'hyundai', 'benz', 'benz']"
      ]
     },
     "execution_count": 60,
     "metadata": {},
     "output_type": "execute_result"
    }
   ],
   "source": [
    "# 정렬 반대\n",
    "sorted(cars, reverse = True)"
   ]
  },
  {
   "cell_type": "code",
   "execution_count": 61,
   "id": "a89b3267-e3da-43f4-8f22-bd757c28603e",
   "metadata": {},
   "outputs": [
    {
     "data": {
      "text/plain": [
       "['.',\n",
       " '1851',\n",
       " 'Dick',\n",
       " 'ETYMOLOGY',\n",
       " 'Herman',\n",
       " 'Melville',\n",
       " 'Moby',\n",
       " '[',\n",
       " ']',\n",
       " 'by']"
      ]
     },
     "execution_count": 61,
     "metadata": {},
     "output_type": "execute_result"
    }
   ],
   "source": [
    "sorted(set(moby[:10]))"
   ]
  },
  {
   "cell_type": "code",
   "execution_count": 62,
   "id": "ed4b19e1-a071-4ba1-b6d9-91f5e53cda73",
   "metadata": {},
   "outputs": [
    {
     "data": {
      "text/plain": [
       "['.',\n",
       " '1851',\n",
       " 'Dick',\n",
       " 'ETYMOLOGY',\n",
       " 'Herman',\n",
       " 'Melville',\n",
       " 'Moby',\n",
       " '[',\n",
       " ']',\n",
       " 'by']"
      ]
     },
     "execution_count": 62,
     "metadata": {},
     "output_type": "execute_result"
    }
   ],
   "source": [
    "sorted(moby[:10])"
   ]
  },
  {
   "cell_type": "code",
   "execution_count": 63,
   "id": "1312ba6f-8a52-4af8-baab-1466d3873663",
   "metadata": {},
   "outputs": [
    {
     "data": {
      "text/plain": [
       "['!', '!', '!', '!', '!', '!', '!', '!', '!', '!']"
      ]
     },
     "execution_count": 63,
     "metadata": {},
     "output_type": "execute_result"
    }
   ],
   "source": [
    "sorted(moby)[:10]"
   ]
  },
  {
   "cell_type": "markdown",
   "id": "5c8802b9-4e81-44d2-bed4-fceb7014436a",
   "metadata": {},
   "source": [
    "### Quiz 2\n",
    "- text6 가져와서 토큰 변수에 담고\n",
    "- 중복 없는 셋으로 저장하고 내림차순\n",
    "    - 앞에서 10개 단어 출력\n",
    "    - 단어에 z가 있으면 대문자로 바꾸시오\n",
    "    - z가 없는데 4자 이상이면 끝 글자 대문자로 바꾸기"
   ]
  },
  {
   "cell_type": "code",
   "execution_count": null,
   "id": "a4eccccd-eefe-4eb2-b740-7621f6ae5403",
   "metadata": {},
   "outputs": [],
   "source": [
    "moby = book.text6\n",
    "moby2 = sorted(set(moby[:10]), reverse = True)\n",
    "if 'z' in moby2:\n",
    "    print(moby2.upper())\n",
    "elif len(moby2) >= 4:\n",
    "    print(moby2[-1].upper())"
   ]
  },
  {
   "cell_type": "markdown",
   "id": "f6fdb4a5-59f1-4c11-a08c-ae5d073bf4e2",
   "metadata": {},
   "source": [
    "### Quiz 3\n",
    "- 주민번호, 휴대폰 번호, 이메일 주소"
   ]
  },
  {
   "cell_type": "code",
   "execution_count": null,
   "id": "622c366d-3de1-4cd7-ab43-de938009b80a",
   "metadata": {},
   "outputs": [],
   "source": [
    "idnumber = input()\n",
    "phonenumber = input()\n",
    "email = input()\n",
    "\n",
    "if idnumber[0] == '9':\n",
    "    if idnumber[6] == '1' or '3':\n",
    "        print(f'당신은 19{idnumber[:2]}년 {idnumber[2:4]}월 {idnumber[4:6]}일 출생의 남성입니다.')\n",
    "    else:\n",
    "        print(f'당신은 19{idnumber[:2]}년 {idnumber[2:4]}월 {idnumber[4:6]}일 출생의 여성입니다.')\n",
    "elif idnumber[0] == '0':\n",
    "    if idnumber[6] == '1' or '3':\n",
    "        print(f'당신은 20{idnumber[:2]}년 {idnumber[2:4]}월 {idnumber[4:6]}일 출생의 남성입니다.')\n",
    "    else:\n",
    "        print(f'당신은 20{idnumber[:2]}년 {idnumber[2:4]}월 {idnumber[4:6]}일 출생의 여성입니다.')\n",
    "        \n",
    "print(f'휴대폰 번호: {phonenumber[:3]}-{phonenumber[3:7]}-{phonenumber[7:]}')\n",
    "print(f'이메일 주소: {email}@gmail.com')"
   ]
  }
 ],
 "metadata": {
  "kernelspec": {
   "display_name": "Python 3 (ipykernel)",
   "language": "python",
   "name": "python3"
  },
  "language_info": {
   "codemirror_mode": {
    "name": "ipython",
    "version": 3
   },
   "file_extension": ".py",
   "mimetype": "text/x-python",
   "name": "python",
   "nbconvert_exporter": "python",
   "pygments_lexer": "ipython3",
   "version": "3.9.7"
  }
 },
 "nbformat": 4,
 "nbformat_minor": 5
}

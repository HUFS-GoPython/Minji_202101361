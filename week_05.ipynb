{
 "cells": [
  {
   "cell_type": "markdown",
   "id": "fa904bba-628c-4ad2-83c7-a583be64e82d",
   "metadata": {},
   "source": [
    "## 고급파이썬프로그래밍 5주차\n",
    "### 반복문\n",
    "- while, for loop\n",
    "\n",
    "#### while loop\n",
    "- 어떤 조건이 만족하는 동안 명령 블록을 수행한다.\n",
    "- if + for loop \n",
    "- 해당 조건이 거짓이면 멈춘다. -> 언제 멈추는지 시점을 정확히 파악해야 함.\n",
    "\n",
    "#### for vs. while (용도차이)\n",
    "- for: 반복 횟수가 정해짐, 정확함, 변하지 않음\n",
    " - 예: 성적산출\n",
    "- while: 횟수 정해지지 않음 (중요X) 어떤 조건을 만족시킬때 빠져나오게 하는게 중요할때 사용\n",
    " - 예: 가위바위보\n"
   ]
  },
  {
   "cell_type": "code",
   "execution_count": 2,
   "id": "a15a48db-1388-4384-9944-cc80df1484c1",
   "metadata": {},
   "outputs": [
    {
     "name": "stdout",
     "output_type": "stream",
     "text": [
      "0\n",
      "1\n",
      "2\n",
      "3\n",
      "4\n",
      "5\n",
      "6\n",
      "7\n",
      "8\n",
      "9\n"
     ]
    }
   ],
   "source": [
    "for i in range(10):\n",
    "    print(i)  "
   ]
  },
  {
   "cell_type": "code",
   "execution_count": 9,
   "id": "859bbb10-81af-4adb-9a1e-6dceb54b2a6e",
   "metadata": {},
   "outputs": [
    {
     "name": "stdout",
     "output_type": "stream",
     "text": [
      "0\n",
      "1\n",
      "2\n"
     ]
    }
   ],
   "source": [
    "j = 0 #초기화\n",
    "while j < 3: #멈춤\n",
    "    print(j)\n",
    "    j += 1 #변화"
   ]
  },
  {
   "cell_type": "code",
   "execution_count": 10,
   "id": "9bedaaad-99f5-43a1-9d59-7c716cb6621c",
   "metadata": {},
   "outputs": [
    {
     "name": "stdout",
     "output_type": "stream",
     "text": [
      "1\n",
      "2\n",
      "3\n"
     ]
    }
   ],
   "source": [
    "j = 0 #초기화\n",
    "while j < 3:  \n",
    "    j += 1 #변화\n",
    "    print(j) #멈춤"
   ]
  },
  {
   "cell_type": "code",
   "execution_count": 11,
   "id": "299c69c8-d889-462f-b8f6-4147bdf177a4",
   "metadata": {},
   "outputs": [
    {
     "name": "stdout",
     "output_type": "stream",
     "text": [
      "a\n",
      "b\n",
      "c\n",
      "d\n"
     ]
    }
   ],
   "source": [
    "abcd = ['a', 'b', 'c', 'd']\n",
    "for ch in abcd:\n",
    "    print(ch)"
   ]
  },
  {
   "cell_type": "code",
   "execution_count": 14,
   "id": "4b134cd9-1c96-433f-a383-f6effce3fb74",
   "metadata": {},
   "outputs": [
    {
     "name": "stdout",
     "output_type": "stream",
     "text": [
      "a\n",
      "b\n",
      "c\n",
      "d\n"
     ]
    }
   ],
   "source": [
    "abcd = ['a', 'b', 'c', 'd']\n",
    "i = 0\n",
    "while i < len(abcd):\n",
    "    print(abcd[i])\n",
    "    i += 1"
   ]
  },
  {
   "cell_type": "markdown",
   "id": "5f060492-2259-495c-b20e-6fc82c6b58c6",
   "metadata": {},
   "source": [
    "### 반복문 제어\n",
    "- 되도록 사용하지 않는다. 의도치 않은 오류 방지 위해\n",
    "- break: 논리적을 반복을 종료시킬 때\n",
    "- else: 어떤 조건이 완전히 끝났을떄 한번 더 실행. break시 실행 안됨 -> 어느지점에서 종료됐는지 확인\n",
    "- continue: 특정 조건 건너뛰고 다음 조건 실행"
   ]
  },
  {
   "cell_type": "code",
   "execution_count": 18,
   "id": "4847bbec-403d-493f-967d-f8f14c68fb8f",
   "metadata": {},
   "outputs": [
    {
     "name": "stdout",
     "output_type": "stream",
     "text": [
      "0\n",
      "1\n",
      "2\n",
      "3\n",
      "4\n",
      "5\n",
      "6\n"
     ]
    }
   ],
   "source": [
    "j = 0\n",
    "while j < 10:\n",
    "    print(j)\n",
    "    if j == 6: break\n",
    "    j += 1\n",
    "else: \n",
    "    print('ended') #break에서 종료"
   ]
  },
  {
   "cell_type": "code",
   "execution_count": 21,
   "id": "cd5a9fe5-127d-46aa-b82d-1265d135bf2e",
   "metadata": {},
   "outputs": [
    {
     "name": "stdout",
     "output_type": "stream",
     "text": [
      "0\n",
      "1\n",
      "2\n",
      "3\n",
      "4\n",
      "5\n",
      "7\n",
      "8\n",
      "9\n",
      "ended\n"
     ]
    }
   ],
   "source": [
    "for i in range(10):\n",
    "    if i == 6: continue\n",
    "    print(i) #출력 안됨 i = 6\n",
    "else: \n",
    "    print('ended')"
   ]
  },
  {
   "cell_type": "markdown",
   "id": "23725f67-d749-4308-9efb-07098b6a6cfc",
   "metadata": {},
   "source": [
    "### gugudan\n",
    "입력을 받아서 사용\n",
    "- 1. n단 출력\n",
    "- 2. 1-n 단까지 출력\n",
    "- 3. n, m 모두 입력받아서 출력\n",
    "- 4. 프로그램으로 만듦\n",
    "    - 메뉴:1)n, 2)1-n, 3) n-m단\n",
    "    - 메뉴에 없는 옵션 선택할 때"
   ]
  },
  {
   "cell_type": "code",
   "execution_count": 31,
   "id": "94e8af21-8a2d-4049-ba09-931c983ac37b",
   "metadata": {},
   "outputs": [
    {
     "name": "stdin",
     "output_type": "stream",
     "text": [
      "몇단을 출력할까요?: 3\n"
     ]
    },
    {
     "name": "stdout",
     "output_type": "stream",
     "text": [
      "=== 3단 ===\n",
      "3 X 1 = 3\n",
      "3 X 2 = 6\n",
      "3 X 3 = 9\n",
      "3 X 4 = 12\n",
      "3 X 5 = 15\n",
      "3 X 6 = 18\n",
      "3 X 7 = 21\n",
      "3 X 8 = 24\n",
      "3 X 9 = 27\n"
     ]
    }
   ],
   "source": [
    "#1\n",
    "dan = int(input('몇단을 출력할까요?:'))\n",
    "if dan < 10:\n",
    "    print(f'=== {dan}단 ===')\n",
    "    for j in range(1,10):\n",
    "        gugudan = dan * j\n",
    "        print(f'{dan} X {j} = {gugudan}')"
   ]
  },
  {
   "cell_type": "code",
   "execution_count": 34,
   "id": "86517428-7337-4767-8c98-4bf02471c8f2",
   "metadata": {},
   "outputs": [
    {
     "name": "stdin",
     "output_type": "stream",
     "text": [
      "몇단까지 출력할까요?: 2\n"
     ]
    },
    {
     "name": "stdout",
     "output_type": "stream",
     "text": [
      "=== 1단 ===\n",
      "1 X 1 = 1\n",
      "1 X 2 = 2\n",
      "1 X 3 = 3\n",
      "1 X 4 = 4\n",
      "1 X 5 = 5\n",
      "1 X 6 = 6\n",
      "1 X 7 = 7\n",
      "1 X 8 = 8\n",
      "1 X 9 = 9\n",
      "=== 2단 ===\n",
      "2 X 1 = 2\n",
      "2 X 2 = 4\n",
      "2 X 3 = 6\n",
      "2 X 4 = 8\n",
      "2 X 5 = 10\n",
      "2 X 6 = 12\n",
      "2 X 7 = 14\n",
      "2 X 8 = 16\n",
      "2 X 9 = 18\n"
     ]
    }
   ],
   "source": [
    "#2\n",
    "end_dan = int(input('몇단까지 출력할까요?:'))\n",
    "if end_dan < 10:\n",
    "    for i in range(1, end_dan+1):\n",
    "        print(f'=== {i}단 ===')\n",
    "        for j in range(1,10):\n",
    "            gugudan = i * j\n",
    "            print(f'{i} X {j} = {gugudan}')\n",
    "else:\n",
    "    print('단은 10보다 작은 숫자여야 합니다')"
   ]
  },
  {
   "cell_type": "code",
   "execution_count": 11,
   "id": "cea92719-4a13-467c-9f2b-aa7e5999bf83",
   "metadata": {},
   "outputs": [
    {
     "name": "stdin",
     "output_type": "stream",
     "text": [
      "몇단부터 출력할까요?: 4\n",
      "몇단까지 출력할까요?: 3\n"
     ]
    },
    {
     "name": "stdout",
     "output_type": "stream",
     "text": [
      "시작단은 끝단보다 작은 숫자여야 합니다\n"
     ]
    },
    {
     "name": "stdin",
     "output_type": "stream",
     "text": [
      "몇단부터 출력할까요?: 3\n",
      "몇단까지 출력할까요?: 4\n"
     ]
    },
    {
     "name": "stdout",
     "output_type": "stream",
     "text": [
      "=== 3단 ===\n",
      "3 X 1 = 3\n",
      "3 X 2 = 6\n",
      "3 X 3 = 9\n",
      "3 X 4 = 12\n",
      "3 X 5 = 15\n",
      "3 X 6 = 18\n",
      "3 X 7 = 21\n",
      "3 X 8 = 24\n",
      "3 X 9 = 27\n",
      "=== 4단 ===\n",
      "4 X 1 = 4\n",
      "4 X 2 = 8\n",
      "4 X 3 = 12\n",
      "4 X 4 = 16\n",
      "4 X 5 = 20\n",
      "4 X 6 = 24\n",
      "4 X 7 = 28\n",
      "4 X 8 = 32\n",
      "4 X 9 = 36\n"
     ]
    }
   ],
   "source": [
    "#3\n",
    "while True:\n",
    "    start_dan = int(input('몇단부터 출력할까요?:'))\n",
    "    end_dan = int(input('몇단까지 출력할까요?:'))\n",
    "    if start_dan < end_dan < 10:\n",
    "        for i in range(start_dan, end_dan+1):\n",
    "            print(f'=== {i}단 ===')\n",
    "            for j in range(1,10):\n",
    "                gugudan = i * j\n",
    "                print(f'{i} X {j} = {gugudan}')\n",
    "        break\n",
    "    else:\n",
    "        print('시작단은 끝단보다 작은 숫자여야 합니다')"
   ]
  },
  {
   "cell_type": "code",
   "execution_count": 19,
   "id": "c05f9be6-6e22-4827-ade0-69510ab195e2",
   "metadata": {},
   "outputs": [
    {
     "name": "stdout",
     "output_type": "stream",
     "text": [
      "===메뉴=== \n",
      "(1) n단 출력 \n",
      "(2) 1~n단 출력 \n",
      "(3) n~m단 출력\n"
     ]
    },
    {
     "name": "stdin",
     "output_type": "stream",
     "text": [
      "원하는 메뉴의 번호를 입력하세요:  4\n"
     ]
    },
    {
     "name": "stdout",
     "output_type": "stream",
     "text": [
      "메뉴 번호가 올바르지 않습니다\n",
      "===메뉴=== \n",
      "(1) n단 출력 \n",
      "(2) 1~n단 출력 \n",
      "(3) n~m단 출력\n"
     ]
    },
    {
     "name": "stdin",
     "output_type": "stream",
     "text": [
      "원하는 메뉴의 번호를 입력하세요:  3\n",
      "몇단부터 출력할까요?: 2\n",
      "몇단까지 출력할까요?: 4\n"
     ]
    },
    {
     "name": "stdout",
     "output_type": "stream",
     "text": [
      "=== 2단 ===\n",
      "2 X 1 = 2\n",
      "2 X 2 = 4\n",
      "2 X 3 = 6\n",
      "2 X 4 = 8\n",
      "2 X 5 = 10\n",
      "2 X 6 = 12\n",
      "2 X 7 = 14\n",
      "2 X 8 = 16\n",
      "2 X 9 = 18\n",
      "=== 3단 ===\n",
      "3 X 1 = 3\n",
      "3 X 2 = 6\n",
      "3 X 3 = 9\n",
      "3 X 4 = 12\n",
      "3 X 5 = 15\n",
      "3 X 6 = 18\n",
      "3 X 7 = 21\n",
      "3 X 8 = 24\n",
      "3 X 9 = 27\n",
      "=== 4단 ===\n",
      "4 X 1 = 4\n",
      "4 X 2 = 8\n",
      "4 X 3 = 12\n",
      "4 X 4 = 16\n",
      "4 X 5 = 20\n",
      "4 X 6 = 24\n",
      "4 X 7 = 28\n",
      "4 X 8 = 32\n",
      "4 X 9 = 36\n"
     ]
    }
   ],
   "source": [
    "#4\n",
    "while True:\n",
    "    print('===메뉴=== \\n(1) n단 출력 \\n(2) 1~n단 출력 \\n(3) n~m단 출력')\n",
    "    menu_number = int(input('원하는 메뉴의 번호를 입력하세요: '))\n",
    "    \n",
    "    if menu_number == 1:\n",
    "        dan = int(input('몇단을 출력할까요?:'))\n",
    "        if dan < 10:\n",
    "            print(f'=== {dan}단 ===')\n",
    "            for j in range(1,10):\n",
    "                gugudan = dan * j\n",
    "                print(f'{dan} X {j} = {gugudan}')\n",
    "                \n",
    "    elif menu_number == 2:\n",
    "        end_dan = int(input('몇단까지 출력할까요?:'))\n",
    "        if end_dan < 10:\n",
    "            for i in range(1, end_dan+1):\n",
    "                print(f'=== {i}단 ===')\n",
    "                for j in range(1,10):\n",
    "                    gugudan = i * j\n",
    "                    print(f'{i} X {j} = {gugudan}')\n",
    "    elif menu_number == 3:\n",
    "        while True:\n",
    "            start_dan = int(input('몇단부터 출력할까요?:'))\n",
    "            end_dan = int(input('몇단까지 출력할까요?:'))\n",
    "            if start_dan < end_dan < 10:\n",
    "                for i in range(start_dan, end_dan+1):\n",
    "                    print(f'=== {i}단 ===')\n",
    "                    for j in range(1,10):\n",
    "                        gugudan = i * j\n",
    "                        print(f'{i} X {j} = {gugudan}')\n",
    "                break\n",
    "            else:\n",
    "                print('시작단은 끝단보다 작은 숫자여야 합니다')\n",
    "        break\n",
    "    else:\n",
    "        print('메뉴 번호가 올바르지 않습니다')"
   ]
  },
  {
   "cell_type": "markdown",
   "id": "c3a8d352-b2aa-4ba4-88ad-9a6a3bdece0c",
   "metadata": {},
   "source": [
    "#### NLTK book\n"
   ]
  },
  {
   "cell_type": "code",
   "execution_count": 20,
   "id": "41d4a626-e4ee-4f86-8418-80cb28958c9f",
   "metadata": {},
   "outputs": [
    {
     "name": "stdout",
     "output_type": "stream",
     "text": [
      "*** Introductory Examples for the NLTK Book ***\n",
      "Loading text1, ..., text9 and sent1, ..., sent9\n",
      "Type the name of the text or sentence to view it.\n",
      "Type: 'texts()' or 'sents()' to list the materials.\n",
      "text1: Moby Dick by Herman Melville 1851\n",
      "text2: Sense and Sensibility by Jane Austen 1811\n",
      "text3: The Book of Genesis\n",
      "text4: Inaugural Address Corpus\n",
      "text5: Chat Corpus\n",
      "text6: Monty Python and the Holy Grail\n",
      "text7: Wall Street Journal\n",
      "text8: Personals Corpus\n",
      "text9: The Man Who Was Thursday by G . K . Chesterton 1908\n"
     ]
    },
    {
     "data": {
      "text/plain": [
       "True"
      ]
     },
     "execution_count": 20,
     "metadata": {},
     "output_type": "execute_result"
    }
   ],
   "source": [
    "import nltk\n",
    "from nltk.book import *\n",
    "nltk.download('book', quiet = True)"
   ]
  },
  {
   "cell_type": "code",
   "execution_count": null,
   "id": "0729f125-e23d-4887-9cdd-a0c61fb29774",
   "metadata": {},
   "outputs": [],
   "source": [
    "# text1-9\n",
    "    # text1 vs. 'text1'\n",
    "    # text1-9 string 가져오기\n",
    "    # string -> fx : getattr(library, 'string_name')"
   ]
  },
  {
   "cell_type": "code",
   "execution_count": 21,
   "id": "0b4a1c34-874c-4d42-a80c-40be989daed9",
   "metadata": {},
   "outputs": [
    {
     "data": {
      "text/plain": [
       "[<Text: Moby Dick by Herman Melville 1851>,\n",
       " <Text: Sense and Sensibility by Jane Austen 1811>,\n",
       " <Text: The Book of Genesis>,\n",
       " <Text: Inaugural Address Corpus>,\n",
       " <Text: Chat Corpus>,\n",
       " <Text: Monty Python and the Holy Grail>,\n",
       " <Text: Wall Street Journal>,\n",
       " <Text: Personals Corpus>,\n",
       " <Text: The Man Who Was Thursday by G . K . Chesterton 1908>]"
      ]
     },
     "execution_count": 21,
     "metadata": {},
     "output_type": "execute_result"
    }
   ],
   "source": [
    "texts = [getattr(nltk.book, f'text{i}') for i in range(1, 10)]\n",
    "texts"
   ]
  },
  {
   "cell_type": "markdown",
   "id": "ba216da1-e09b-41e3-932d-25320f08b14d",
   "metadata": {},
   "source": [
    "### NLTK corpus\n",
    "- 코퍼스 + 테마\n",
    "- 종류\n",
    "    - brown\n",
    "    - gutenberg\n",
    "    - inaugural\n",
    "- methods\n",
    "    - words() #tokens\n",
    "    - sents()\n",
    "    - raw()\n",
    "    - fileids()"
   ]
  },
  {
   "cell_type": "code",
   "execution_count": 23,
   "id": "28f8c5a8-bf8e-4ef1-bb00-45299a59a98b",
   "metadata": {},
   "outputs": [
    {
     "name": "stderr",
     "output_type": "stream",
     "text": [
      "[nltk_data] Downloading package brown to /Users/minizi/nltk_data...\n",
      "[nltk_data]   Package brown is already up-to-date!\n",
      "[nltk_data] Downloading package gutenberg to\n",
      "[nltk_data]     /Users/minizi/nltk_data...\n",
      "[nltk_data]   Package gutenberg is already up-to-date!\n",
      "[nltk_data] Downloading package inaugural to\n",
      "[nltk_data]     /Users/minizi/nltk_data...\n",
      "[nltk_data]   Package inaugural is already up-to-date!\n"
     ]
    },
    {
     "data": {
      "text/plain": [
       "True"
      ]
     },
     "execution_count": 23,
     "metadata": {},
     "output_type": "execute_result"
    }
   ],
   "source": [
    "from nltk.corpus import gutenberg\n",
    "nltk.download(['brown', 'gutenberg', 'inaugural'])"
   ]
  },
  {
   "cell_type": "code",
   "execution_count": 27,
   "id": "1b7aa6d1-9a26-4228-80f4-3076d001a582",
   "metadata": {},
   "outputs": [
    {
     "data": {
      "text/plain": [
       "['austen-emma.txt',\n",
       " 'austen-persuasion.txt',\n",
       " 'austen-sense.txt',\n",
       " 'bible-kjv.txt',\n",
       " 'blake-poems.txt',\n",
       " 'bryant-stories.txt',\n",
       " 'burgess-busterbrown.txt',\n",
       " 'carroll-alice.txt',\n",
       " 'chesterton-ball.txt',\n",
       " 'chesterton-brown.txt',\n",
       " 'chesterton-thursday.txt',\n",
       " 'edgeworth-parents.txt',\n",
       " 'melville-moby_dick.txt',\n",
       " 'milton-paradise.txt',\n",
       " 'shakespeare-caesar.txt',\n",
       " 'shakespeare-hamlet.txt',\n",
       " 'shakespeare-macbeth.txt',\n",
       " 'whitman-leaves.txt']"
      ]
     },
     "execution_count": 27,
     "metadata": {},
     "output_type": "execute_result"
    }
   ],
   "source": [
    " gutenberg.fileids()"
   ]
  },
  {
   "cell_type": "code",
   "execution_count": 29,
   "id": "75723b4b-aabe-453f-a30b-ad48d45d6c35",
   "metadata": {},
   "outputs": [
    {
     "data": {
      "text/plain": [
       "['[', 'Alice', \"'\", 's', 'Adventures', 'in', ...]"
      ]
     },
     "execution_count": 29,
     "metadata": {},
     "output_type": "execute_result"
    }
   ],
   "source": [
    "gutenberg.words(fileids=['carroll-alice.txt', 'chesterton-ball.txt'])"
   ]
  },
  {
   "cell_type": "code",
   "execution_count": 30,
   "id": "a1087519-db9c-4761-9f49-eb44c68b21dc",
   "metadata": {},
   "outputs": [
    {
     "name": "stdout",
     "output_type": "stream",
     "text": [
      "austen-emma.txt: 글자수 887071개, 단어수192427개, 문장수 7752개\n",
      "austen-persuasion.txt: 글자수 466292개, 단어수98171개, 문장수 3747개\n",
      "austen-sense.txt: 글자수 673022개, 단어수141576개, 문장수 4999개\n",
      "bible-kjv.txt: 글자수 4332554개, 단어수1010654개, 문장수 30103개\n",
      "blake-poems.txt: 글자수 38153개, 단어수8354개, 문장수 438개\n",
      "bryant-stories.txt: 글자수 249439개, 단어수55563개, 문장수 2863개\n",
      "burgess-busterbrown.txt: 글자수 84663개, 단어수18963개, 문장수 1054개\n",
      "carroll-alice.txt: 글자수 144395개, 단어수34110개, 문장수 1703개\n",
      "chesterton-ball.txt: 글자수 457450개, 단어수96996개, 문장수 4779개\n",
      "chesterton-brown.txt: 글자수 406629개, 단어수86063개, 문장수 3806개\n",
      "chesterton-thursday.txt: 글자수 320525개, 단어수69213개, 문장수 3742개\n",
      "edgeworth-parents.txt: 글자수 935158개, 단어수210663개, 문장수 10230개\n",
      "melville-moby_dick.txt: 글자수 1242990개, 단어수260819개, 문장수 10059개\n",
      "milton-paradise.txt: 글자수 468220개, 단어수96825개, 문장수 1851개\n",
      "shakespeare-caesar.txt: 글자수 112310개, 단어수25833개, 문장수 2163개\n",
      "shakespeare-hamlet.txt: 글자수 162881개, 단어수37360개, 문장수 3106개\n",
      "shakespeare-macbeth.txt: 글자수 100351개, 단어수23140개, 문장수 1907개\n",
      "whitman-leaves.txt: 글자수 711215개, 단어수154883개, 문장수 4250개\n"
     ]
    }
   ],
   "source": [
    "#각 파일마다 word, character, sents 개수 출력하기\n",
    "\n",
    "for i in gutenberg.fileids():\n",
    "    words = len(gutenberg.words(fileids = i))\n",
    "    sents = len(gutenberg.sents(fileids = i))\n",
    "    characters = len(gutenberg.raw(fileids = i))\n",
    "    print(f'{i}: 글자수 {characters}개, 단어수{words}개, 문장수 {sents}개')"
   ]
  },
  {
   "cell_type": "markdown",
   "id": "9b4e6dba-7089-48ef-9238-8c7d5ab7716e",
   "metadata": {},
   "source": [
    "### gutenberg 실습\n",
    "- 1. shakespeare-caesar.txt의 중복된 단어를 거르고 각단어의 길이를 출력\n",
    "- 2. chesterton-thursday.txt에서 길이가 4자 이하인 알파벳 중 ie를 포함하는 단어를 소문자로 출력하고 개수를 세어라\n",
    "- 3. bryant-stories.txt 에서 ch로 끝나는 단어를 출력하는데, 중복없이, 첫글자(모두 소문자)의 끝 ch만 남기고 가운데 글자들은 모두 - 로 가려라"
   ]
  },
  {
   "cell_type": "code",
   "execution_count": 32,
   "id": "ff9f57bb-8688-42f2-aaf0-6bb933bfc80d",
   "metadata": {},
   "outputs": [
    {
     "data": {
      "text/plain": [
       "[4, 5, 4, 6, 5, 5, 6, 2, 4, 8]"
      ]
     },
     "execution_count": 32,
     "metadata": {},
     "output_type": "execute_result"
    }
   ],
   "source": [
    "#1\n",
    "words = [len(word) for word in set(gutenberg.words(fileids = 'shakespeare-caesar.txt'))]\n",
    "words[:10]"
   ]
  },
  {
   "cell_type": "code",
   "execution_count": 33,
   "id": "69c847fc-d87a-4003-babc-ddd6e153d3d7",
   "metadata": {},
   "outputs": [
    {
     "name": "stdout",
     "output_type": "stream",
     "text": [
      "['foie', 'died', 'pier', 'died', 'lies', 'died', 'lie', 'tie', 'tie', 'die', 'tied', 'pie', 'die', 'die', 'die', 'die', 'died', 'died', 'die', 'die', 'die', 'erie', 'view', 'die', 'pier', 'dies', 'die', 'pier', 'pier', 'die', 'pier', 'tied', 'die', 'view', 'tie', 'lie', 'lie'] 37\n"
     ]
    }
   ],
   "source": [
    "#2\n",
    "thursday = gutenberg.words(fileids=['chesterton-thursday.txt'])\n",
    "words = [word.lower() for word in thursday if word.isalpha() and len(word) <= 4 and 'ie' in word]\n",
    "print(words, len(words))"
   ]
  },
  {
   "cell_type": "code",
   "execution_count": 38,
   "id": "914b250e-5fd4-4813-b9dc-a7c378ae83c4",
   "metadata": {},
   "outputs": [
    {
     "data": {
      "text/plain": [
       "['t--ch',\n",
       " 's----ch',\n",
       " 's---ch',\n",
       " 'p--ch',\n",
       " 's----ch',\n",
       " 'c--ch',\n",
       " 'e-ch',\n",
       " 'p--ch',\n",
       " 'p--ch',\n",
       " 'a-ch',\n",
       " 'b--ch',\n",
       " 'c---ch',\n",
       " 'l--ch',\n",
       " 's----ch',\n",
       " 's-ch',\n",
       " 'f--ch',\n",
       " 'f---ch',\n",
       " 'e-ch',\n",
       " 'c--ch',\n",
       " 'r-ch',\n",
       " 'w--ch',\n",
       " 't--ch',\n",
       " 'w--ch',\n",
       " 'r--ch',\n",
       " 't---ch',\n",
       " 's---ch',\n",
       " 's----ch',\n",
       " 'm-ch',\n",
       " 'b--ch',\n",
       " 'p--ch',\n",
       " 's-ch',\n",
       " 'p--ch',\n",
       " 'b---ch',\n",
       " 'b--ch',\n",
       " 't--ch']"
      ]
     },
     "execution_count": 38,
     "metadata": {},
     "output_type": "execute_result"
    }
   ],
   "source": [
    "#3\n",
    "bryant = gutenberg.words(fileids=['bryant-stories.txt'])\n",
    "[word[0].lower()+ '-'*(len(word)-3) + 'ch' for word in set(bryant) if word.endswith('ch')]"
   ]
  },
  {
   "cell_type": "markdown",
   "id": "3efe8a67-c5e6-41a4-b1de-c6e3a2ddd229",
   "metadata": {},
   "source": [
    "### Brown\n",
    "- categories"
   ]
  },
  {
   "cell_type": "code",
   "execution_count": 39,
   "id": "ae8af6f6-43b0-42e3-96fe-7bac313a47d5",
   "metadata": {},
   "outputs": [],
   "source": [
    "brown = nltk.corpus.brown"
   ]
  },
  {
   "cell_type": "code",
   "execution_count": 40,
   "id": "95bb8820-9059-4946-9af0-f375ef66ae88",
   "metadata": {},
   "outputs": [
    {
     "data": {
      "text/plain": [
       "['adventure',\n",
       " 'belles_lettres',\n",
       " 'editorial',\n",
       " 'fiction',\n",
       " 'government',\n",
       " 'hobbies',\n",
       " 'humor',\n",
       " 'learned',\n",
       " 'lore',\n",
       " 'mystery',\n",
       " 'news',\n",
       " 'religion',\n",
       " 'reviews',\n",
       " 'romance',\n",
       " 'science_fiction']"
      ]
     },
     "execution_count": 40,
     "metadata": {},
     "output_type": "execute_result"
    }
   ],
   "source": [
    "brown.categories()"
   ]
  },
  {
   "cell_type": "code",
   "execution_count": 44,
   "id": "edf12a15-eaf3-41c0-9832-0df27c23f334",
   "metadata": {},
   "outputs": [],
   "source": [
    "fdist = nltk.FreqDist([w.lower() for w in brown.words(categories='adventure')]) "
   ]
  },
  {
   "cell_type": "code",
   "execution_count": 47,
   "id": "cf86b70c-03d0-494d-9b20-556a02ae70e4",
   "metadata": {},
   "outputs": [
    {
     "data": {
      "text/plain": [
       "83"
      ]
     },
     "execution_count": 47,
     "metadata": {},
     "output_type": "execute_result"
    }
   ],
   "source": [
    "fdist['men'] #카테고리 adventure에서 men의 빈도수"
   ]
  },
  {
   "cell_type": "code",
   "execution_count": 50,
   "id": "634679e7-308c-4cc6-bce1-8203c4dc730b",
   "metadata": {},
   "outputs": [
    {
     "name": "stdout",
     "output_type": "stream",
     "text": [
      "can 48\n",
      "could 154\n",
      "will 51\n",
      "would 194\n",
      "may 7\n",
      "might 59\n"
     ]
    }
   ],
   "source": [
    "#modal verbs\n",
    "modals = ['can', 'could', 'will', 'would', 'may', 'might']\n",
    "for verb in modals:\n",
    "    print(verb, fdist[verb]) #조동사 빈도수"
   ]
  },
  {
   "cell_type": "markdown",
   "id": "214d1a9e-1aa8-45bf-b33e-fa0400fc6e2a",
   "metadata": {},
   "source": [
    "### conditional frequency distribution\n",
    "- 조건에 따른 fdist"
   ]
  },
  {
   "cell_type": "code",
   "execution_count": 52,
   "id": "fa9c9343-4809-491a-b86c-1fbb85d075ee",
   "metadata": {},
   "outputs": [],
   "source": [
    "cfd = nltk.ConditionalFreqDist(\n",
    "    # 각 장르에 따른 frequency distribution 을 만든다.\n",
    "    (genre, word.lower())\n",
    "    for genre in brown.categories()\n",
    "    for word in brown.words(categories=genre))"
   ]
  },
  {
   "cell_type": "code",
   "execution_count": 54,
   "id": "ac230808-d686-4155-8a15-813940914485",
   "metadata": {},
   "outputs": [
    {
     "data": {
      "text/plain": [
       "[(',', 3899),\n",
       " ('.', 3736),\n",
       " ('the', 2988),\n",
       " ('and', 1905),\n",
       " ('to', 1517),\n",
       " ('a', 1383),\n",
       " ('of', 1202),\n",
       " ('he', 1068),\n",
       " ('``', 1045),\n",
       " (\"''\", 1044)]"
      ]
     },
     "execution_count": 54,
     "metadata": {},
     "output_type": "execute_result"
    }
   ],
   "source": [
    "cfd['romance'].most_common(10)"
   ]
  },
  {
   "cell_type": "code",
   "execution_count": 55,
   "id": "4c9629f9-4f6b-4159-a0dd-79889df57679",
   "metadata": {},
   "outputs": [
    {
     "data": {
      "text/plain": [
       "36"
      ]
     },
     "execution_count": 55,
     "metadata": {},
     "output_type": "execute_result"
    }
   ],
   "source": [
    "cfd['romance']['love']"
   ]
  }
 ],
 "metadata": {
  "kernelspec": {
   "display_name": "Python 3 (ipykernel)",
   "language": "python",
   "name": "python3"
  },
  "language_info": {
   "codemirror_mode": {
    "name": "ipython",
    "version": 3
   },
   "file_extension": ".py",
   "mimetype": "text/x-python",
   "name": "python",
   "nbconvert_exporter": "python",
   "pygments_lexer": "ipython3",
   "version": "3.9.7"
  }
 },
 "nbformat": 4,
 "nbformat_minor": 5
}

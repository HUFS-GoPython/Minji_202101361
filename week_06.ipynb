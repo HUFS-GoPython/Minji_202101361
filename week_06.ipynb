{
 "cells": [
  {
   "cell_type": "markdown",
   "id": "9f7a92b3-8a90-42b9-b3af-9f5cd8cc383b",
   "metadata": {},
   "source": [
    "## 고급파이썬프로그래밍 6주차"
   ]
  },
  {
   "cell_type": "markdown",
   "id": "4914b7a6-4abe-4883-a088-11caaf98d704",
   "metadata": {},
   "source": [
    "### NLTK Inaugural"
   ]
  },
  {
   "cell_type": "code",
   "execution_count": 2,
   "id": "1e1530e9-4f40-4928-a3f5-1a6116b3ebc1",
   "metadata": {},
   "outputs": [
    {
     "name": "stdout",
     "output_type": "stream",
     "text": [
      "Requirement already satisfied: nltk in /opt/anaconda3/lib/python3.9/site-packages (3.6.5)\n",
      "Requirement already satisfied: click in /opt/anaconda3/lib/python3.9/site-packages (from nltk) (8.0.3)\n",
      "Requirement already satisfied: joblib in /opt/anaconda3/lib/python3.9/site-packages (from nltk) (1.1.0)\n",
      "Requirement already satisfied: regex>=2021.8.3 in /opt/anaconda3/lib/python3.9/site-packages (from nltk) (2021.8.3)\n",
      "Requirement already satisfied: tqdm in /opt/anaconda3/lib/python3.9/site-packages (from nltk) (4.62.3)\n"
     ]
    },
    {
     "name": "stderr",
     "output_type": "stream",
     "text": [
      "[nltk_data] Downloading package brown to /Users/minizi/nltk_data...\n",
      "[nltk_data]   Package brown is already up-to-date!\n",
      "[nltk_data] Downloading package inaugural to\n",
      "[nltk_data]     /Users/minizi/nltk_data...\n",
      "[nltk_data]   Package inaugural is already up-to-date!\n"
     ]
    },
    {
     "data": {
      "text/plain": [
       "True"
      ]
     },
     "execution_count": 2,
     "metadata": {},
     "output_type": "execute_result"
    }
   ],
   "source": [
    "!pip install nltk\n",
    "import nltk\n",
    "nltk.download(['brown', 'inaugural'])"
   ]
  },
  {
   "cell_type": "code",
   "execution_count": 4,
   "id": "fe119ac7-c0de-4bec-b32b-bfcd996a5d5c",
   "metadata": {},
   "outputs": [],
   "source": [
    "brown = nltk.corpus.brown"
   ]
  },
  {
   "cell_type": "code",
   "execution_count": 5,
   "id": "51aaaa74-9cee-487a-87a0-cf09d4f825ca",
   "metadata": {},
   "outputs": [
    {
     "name": "stdout",
     "output_type": "stream",
     "text": [
      "                  can could would  will might   may \n",
      "      adventure    46   151   191    50    58     5 \n",
      " belles_lettres   246   213   392   236   113   207 \n",
      "      editorial   121    56   180   233    39    74 \n",
      "        fiction    37   166   287    52    44     8 \n",
      "     government   117    38   120   244    13   153 \n",
      "        hobbies   268    58    78   264    22   131 \n",
      "          humor    16    30    56    13     8     8 \n",
      "        learned   365   159   319   340   128   324 \n",
      "           lore   170   141   186   175    49   165 \n",
      "        mystery    42   141   186    20    57    13 \n",
      "           news    93    86   244   389    38    66 \n",
      "       religion    82    59    68    71    12    78 \n",
      "        reviews    45    40    47    58    26    45 \n",
      "        romance    74   193   244    43    51    11 \n",
      "science_fiction    16    49    79    16    12     4 \n"
     ]
    }
   ],
   "source": [
    "#cfd\n",
    "cfd = nltk.ConditionalFreqDist(\n",
    "    (genre, word)\n",
    "    for genre in brown.categories()\n",
    "    for word in brown.words(categories=genre) #fileids\n",
    ")\n",
    "\n",
    "modals = ['can', 'could', 'would', 'will', 'might', 'may']\n",
    "cfd.tabulate(conditions=brown.categories(), samples=modals)"
   ]
  },
  {
   "cell_type": "code",
   "execution_count": 6,
   "id": "f4a185ae-a41a-4676-b952-d01ac956bd35",
   "metadata": {},
   "outputs": [
    {
     "name": "stdout",
     "output_type": "stream",
     "text": [
      "                  can could   may might  will would \n",
      "      adventure    48   154     7    59    51   194 \n",
      " belles_lettres   249   216   221   113   246   397 \n",
      "      editorial   124    57    79    39   235   185 \n",
      "        fiction    39   168    10    44    56   291 \n",
      "     government   119    38   179    13   244   120 \n",
      "        hobbies   276    59   143    22   269    83 \n",
      "          humor    17    33     8     8    13    56 \n",
      "        learned   367   159   336   128   340   321 \n",
      "           lore   170   142   170    50   178   188 \n",
      "        mystery    45   145    15    57    25   189 \n",
      "           news    94    87    93    38   389   246 \n",
      "       religion    84    59    79    12    72    69 \n",
      "        reviews    45    40    47    26    61    48 \n",
      "        romance    79   195    11    51    49   247 \n",
      "science_fiction    16    49     4    12    17    80 \n"
     ]
    }
   ],
   "source": [
    "# modals의 빈도수가 포함된 cfd (word -> modal_verb)\n",
    "cfd1 = nltk.ConditionalFreqDist(\n",
    "    (genre, modal)\n",
    "    for genre in brown.categories()\n",
    "    for modal in ['can', 'could', 'would', 'will', 'might', 'may']\n",
    "    \n",
    "    for word in brown.words(categories=genre) #genre와 modal 연결\n",
    "        if word.lower() == modal #word에서 modal 추출\n",
    ")\n",
    "cfd1.tabulate()"
   ]
  },
  {
   "cell_type": "markdown",
   "id": "6a6ebe83-2614-40a7-91ea-0d2a096c7404",
   "metadata": {},
   "source": [
    "#### Inaugural\n",
    "- 연설문 코퍼스"
   ]
  },
  {
   "cell_type": "code",
   "execution_count": 9,
   "id": "2027b106-b5bd-4e8d-b406-140fdbe8a253",
   "metadata": {},
   "outputs": [],
   "source": [
    "inaugural = nltk.corpus.inaugural"
   ]
  },
  {
   "cell_type": "code",
   "execution_count": null,
   "id": "79dd552b-3052-4fff-82a4-a848009d7693",
   "metadata": {},
   "outputs": [],
   "source": [
    "inaugural.fileids() #연도-이름.txt | '2021-Biden.txt'"
   ]
  },
  {
   "cell_type": "code",
   "execution_count": 18,
   "id": "3210a42b-c753-4b4e-8139-e41245b28925",
   "metadata": {},
   "outputs": [
    {
     "data": {
      "image/png": "[encoded data removed]",
      "text/plain": [
       "<Figure size 432x288 with 1 Axes>"
      ]
     },
     "metadata": {
      "needs_background": "light"
     },
     "output_type": "display_data"
    },
    {
     "data": {
      "text/plain": [
       "<AxesSubplot:xlabel='Samples', ylabel='Counts'>"
      ]
     },
     "execution_count": 18,
     "metadata": {},
     "output_type": "execute_result"
    }
   ],
   "source": [
    "# ['america', 'citizen'] 빈도수 cfd로 만드시오\n",
    "cfd2 = nltk.ConditionalFreqDist(\n",
    "    (target_word, fileid[:-4])\n",
    "    for fileid in inaugural.fileids()\n",
    "    for target_word in ['america', 'citizen']\n",
    "    \n",
    "    for word in inaugural.words(fileids=fileid) \n",
    "        if word.lower() == target_word\n",
    "        #if target_word in word.lower()\n",
    "        #if word.lower().startswith(target_word)\n",
    ")\n",
    "cfd2.plot()"
   ]
  },
  {
   "cell_type": "markdown",
   "id": "aac3192e-3a4f-4155-a7df-9f4f8951f518",
   "metadata": {},
   "source": [
    "### Tuple & List\n",
    "- 불변 객체 vs. 가변 객체"
   ]
  },
  {
   "cell_type": "code",
   "execution_count": 20,
   "id": "c86da91d-375a-4ff4-a0d5-6d8118e416d2",
   "metadata": {},
   "outputs": [
    {
     "data": {
      "text/plain": [
       "((), [])"
      ]
     },
     "execution_count": 20,
     "metadata": {},
     "output_type": "execute_result"
    }
   ],
   "source": [
    "#1. 생성\n",
    "emptyT = ()\n",
    "emptyT = tuple()\n",
    "\n",
    "emptyL = []\n",
    "emptyL = list()\n",
    "\n",
    "emptyT, emptyL"
   ]
  },
  {
   "cell_type": "code",
   "execution_count": 23,
   "id": "ad7de59c-e7ad-4116-82f1-583b3789497d",
   "metadata": {},
   "outputs": [],
   "source": [
    "#1.1 요소 여러개일때 \n",
    "alphabetT = ('a', 'b')\n",
    "alphabetT = 'a', 'b' #더 간편\n",
    "alphabetT\n",
    "\n",
    "alphabetL = ['a', 'b']"
   ]
  },
  {
   "cell_type": "code",
   "execution_count": 24,
   "id": "2644b3a1-11e5-44b8-993e-7563a06ffb0e",
   "metadata": {},
   "outputs": [
    {
     "data": {
      "text/plain": [
       "tuple"
      ]
     },
     "execution_count": 24,
     "metadata": {},
     "output_type": "execute_result"
    }
   ],
   "source": [
    "#1.2 요소 1개일때\n",
    "alphaT = ('a') #str\n",
    "alphaT = ('b',) #tuple\n",
    "type(alphaT)"
   ]
  },
  {
   "cell_type": "markdown",
   "id": "e023f55b-1e4f-491d-a549-e3e4f202e1f0",
   "metadata": {},
   "source": [
    "- packing: 한 변수에 여러 데이터 할당\n",
    "    - list, tuple 자체. a = [1, 2, 3, 4]\n",
    "- unpacking: 한 변수에 여러 데이터가 들어있을때 여러 변수에 나누는것\n",
    "    - a = 'k', b = 'i', c = 'm'"
   ]
  },
  {
   "cell_type": "code",
   "execution_count": 25,
   "id": "bda44b0e-0202-4503-a69e-e7b547b40a96",
   "metadata": {},
   "outputs": [
    {
     "data": {
      "text/plain": [
       "('k', 'i', 'm')"
      ]
     },
     "execution_count": 25,
     "metadata": {},
     "output_type": "execute_result"
    }
   ],
   "source": [
    "a, b, c = 'kim' #unpacking\n",
    "a, b, c"
   ]
  },
  {
   "cell_type": "code",
   "execution_count": 27,
   "id": "2f95d454-50a2-4abb-89cc-52a17b1a5f4c",
   "metadata": {},
   "outputs": [
    {
     "data": {
      "text/plain": [
       "('sky', 'abcd')"
      ]
     },
     "execution_count": 27,
     "metadata": {},
     "output_type": "execute_result"
    }
   ],
   "source": [
    "# 값 교환하기\n",
    "pwd = 'abcd'\n",
    "userid = 'sky'\n",
    "\n",
    "\"\"\"\n",
    "temp1 = userid\n",
    "temp2 = pwd\n",
    "pwd = temp1\n",
    "userid = temp2\"\"\" #번거로움\n",
    "\n",
    "pwd, userid = userid, pwd #간편하게 값교환 가능\n",
    "pwd, userid"
   ]
  },
  {
   "cell_type": "code",
   "execution_count": 28,
   "id": "20716929-3017-444d-b4c5-f822d98a0a16",
   "metadata": {},
   "outputs": [
    {
     "data": {
      "text/plain": [
       "('a', 1, 2)"
      ]
     },
     "execution_count": 28,
     "metadata": {},
     "output_type": "execute_result"
    }
   ],
   "source": [
    "# 연산\n",
    "('a',) + (1, 2)"
   ]
  },
  {
   "cell_type": "code",
   "execution_count": 29,
   "id": "2aed66d0-9056-4d54-bc1a-2d7a45013c90",
   "metadata": {},
   "outputs": [
    {
     "data": {
      "text/plain": [
       "(1, 2, 1, 2, 1, 2)"
      ]
     },
     "execution_count": 29,
     "metadata": {},
     "output_type": "execute_result"
    }
   ],
   "source": [
    "(1, 2)*3"
   ]
  },
  {
   "cell_type": "code",
   "execution_count": 31,
   "id": "ece327c6-5219-454d-9cbd-ea91a93d71dc",
   "metadata": {},
   "outputs": [
    {
     "data": {
      "text/plain": [
       "(140666622746480, 140667241738752)"
      ]
     },
     "execution_count": 31,
     "metadata": {},
     "output_type": "execute_result"
    }
   ],
   "source": [
    "x = ('a',)\n",
    "y = (1, 2)\n",
    "id(x), id(x+y) #x+y는 x가 아니므로 x는 불변"
   ]
  },
  {
   "cell_type": "code",
   "execution_count": 32,
   "id": "12710794-4410-4687-9d94-539e76ab8d71",
   "metadata": {},
   "outputs": [
    {
     "data": {
      "text/plain": [
       "True"
      ]
     },
     "execution_count": 32,
     "metadata": {},
     "output_type": "execute_result"
    }
   ],
   "source": [
    "#비교\n",
    "x = 1, 2\n",
    "y = 1, 6\n",
    "x < y"
   ]
  },
  {
   "cell_type": "code",
   "execution_count": 34,
   "id": "c56a3484-c926-4f6a-9f79-3f600f2cd8d5",
   "metadata": {},
   "outputs": [
    {
     "name": "stdout",
     "output_type": "stream",
     "text": [
      "(1, 2)\n",
      "(1, 2)\n"
     ]
    }
   ],
   "source": [
    "#순회\n",
    "for i in x:\n",
    "    print(x)"
   ]
  },
  {
   "cell_type": "code",
   "execution_count": 37,
   "id": "c674782c-2cdf-433d-9a8f-b279471d53c9",
   "metadata": {},
   "outputs": [
    {
     "data": {
      "text/plain": [
       "[1, 2]"
      ]
     },
     "execution_count": 37,
     "metadata": {},
     "output_type": "execute_result"
    }
   ],
   "source": [
    "[i for i in x] #튜플 -> 리스트 #가장 많이 사용"
   ]
  },
  {
   "cell_type": "code",
   "execution_count": null,
   "id": "0116d4ac-4eb1-4269-ac8d-9f07898a2a8f",
   "metadata": {},
   "outputs": [],
   "source": [
    "#tuple comprehension? 리스트 -> 튜플 (필요한 경우아니면 사용 X)\n",
    "tuple([i for i in x])\n",
    "*[i for i in x], #느림"
   ]
  },
  {
   "cell_type": "code",
   "execution_count": 53,
   "id": "6871142b-a23d-45f7-9190-e82a14fcfeaa",
   "metadata": {},
   "outputs": [
    {
     "data": {
      "text/plain": [
       "('d', 'o', 'g')"
      ]
     },
     "execution_count": 53,
     "metadata": {},
     "output_type": "execute_result"
    }
   ],
   "source": [
    "#형변환\n",
    "dog = 'dog'\n",
    "dogT = tuple(dog)\n",
    "dogT"
   ]
  },
  {
   "cell_type": "code",
   "execution_count": 44,
   "id": "fff9fc1f-3894-4ce4-9d19-d477ba92a839",
   "metadata": {},
   "outputs": [
    {
     "data": {
      "text/plain": [
       "('dog',)"
      ]
     },
     "execution_count": 44,
     "metadata": {},
     "output_type": "execute_result"
    }
   ],
   "source": [
    "(dog,)"
   ]
  },
  {
   "cell_type": "code",
   "execution_count": 45,
   "id": "cbd38749-0745-453b-8405-f7ae72bf5072",
   "metadata": {},
   "outputs": [
    {
     "data": {
      "text/plain": [
       "['d', 'o', 'g']"
      ]
     },
     "execution_count": 45,
     "metadata": {},
     "output_type": "execute_result"
    }
   ],
   "source": [
    "list(dog)"
   ]
  },
  {
   "cell_type": "code",
   "execution_count": 46,
   "id": "fae9b08a-c8f7-4e1d-9d84-e486b5883454",
   "metadata": {},
   "outputs": [
    {
     "data": {
      "text/plain": [
       "'d'"
      ]
     },
     "execution_count": 46,
     "metadata": {},
     "output_type": "execute_result"
    }
   ],
   "source": [
    "# slicing\n",
    "dogT[0]"
   ]
  },
  {
   "cell_type": "markdown",
   "id": "e3b2a346-e1f0-4692-b28f-ebb376801acc",
   "metadata": {},
   "source": [
    "[정리]\n",
    "- tuple 장점\n",
    "    - 변하지 않는 데이터 시퀀스를 만들수 있다. 타인의 접근을 막는다.\n",
    "        - blue = 1, white = 2,...\n",
    "    - 메모리 사용이 적음\n",
    "- list 장점\n",
    "    - 튜플 장점 필요없을 때 전부 리스트 사용\n",
    "    - 데이터를 순차적으로 파악할 때\n",
    "    - 중복 데이터를 쓸 수 있음 vs. set"
   ]
  },
  {
   "cell_type": "markdown",
   "id": "06a7a191-ebaa-45f4-86bb-79387dbd21d2",
   "metadata": {},
   "source": [
    "### 리스트의 유용한 함수들\n",
    "- 변경, 삭제, 추가\n",
    "- 리스트 컴프리헨션 업그레이드"
   ]
  },
  {
   "cell_type": "markdown",
   "id": "0ae77e5e-ac86-4574-be3b-b9175d4f836a",
   "metadata": {},
   "source": [
    "list('abcd')"
   ]
  },
  {
   "cell_type": "code",
   "execution_count": 69,
   "id": "0c30eab7-2642-4fdc-958b-c628fd066aa7",
   "metadata": {},
   "outputs": [
    {
     "data": {
      "text/plain": [
       "[0, 1, 2, 3, 4, 5]"
      ]
     },
     "execution_count": 69,
     "metadata": {},
     "output_type": "execute_result"
    }
   ],
   "source": [
    "num = list(range(6))\n",
    "num"
   ]
  },
  {
   "cell_type": "code",
   "execution_count": 70,
   "id": "8f5dc91d-9c08-49b5-9e04-61f739df2ae3",
   "metadata": {},
   "outputs": [],
   "source": [
    "#추가\n",
    "num.append(6) #맨 뒤에 요소 1개 추가"
   ]
  },
  {
   "cell_type": "code",
   "execution_count": 71,
   "id": "672e0da2-5f6a-4f33-8364-c57634c6d081",
   "metadata": {},
   "outputs": [
    {
     "data": {
      "text/plain": [
       "[0, 1, 2, 3, 4, 5, 6]"
      ]
     },
     "execution_count": 71,
     "metadata": {},
     "output_type": "execute_result"
    }
   ],
   "source": [
    "num"
   ]
  },
  {
   "cell_type": "code",
   "execution_count": 72,
   "id": "9838003c-a9e6-4e1b-a003-68148085b4f5",
   "metadata": {
    "tags": []
   },
   "outputs": [
    {
     "data": {
      "text/plain": [
       "[8, 0, 1, 2, 3, 4, 5, 6]"
      ]
     },
     "execution_count": 72,
     "metadata": {},
     "output_type": "execute_result"
    }
   ],
   "source": [
    "# insert(index, item) #원하는 위치에 원하는 요소 추가\n",
    "num.insert(0, 8)\n",
    "num"
   ]
  },
  {
   "cell_type": "code",
   "execution_count": 73,
   "id": "bb2fc84e-8b2e-4b3f-a3dc-6eb14907f262",
   "metadata": {
    "tags": []
   },
   "outputs": [
    {
     "data": {
      "text/plain": [
       "[8, 0, 1, 2, 3, 4, 5, 6, 6, 6, 6]"
      ]
     },
     "execution_count": 73,
     "metadata": {},
     "output_type": "execute_result"
    }
   ],
   "source": [
    "#여러개 추가\n",
    "x = [6, 6, 6]\n",
    "num.extend(x) # 리스트로 리스트 확장\n",
    "num"
   ]
  },
  {
   "cell_type": "code",
   "execution_count": 75,
   "id": "bc4c5f6e-17e1-41fe-a9ee-e3452d33e0d6",
   "metadata": {
    "tags": []
   },
   "outputs": [
    {
     "data": {
      "text/plain": [
       "[8, 0, 1, 2, 3, 4, 5, 6, 6, 6, 6, [6, 6, 6], [6, 6, 6]]"
      ]
     },
     "execution_count": 75,
     "metadata": {},
     "output_type": "execute_result"
    }
   ],
   "source": [
    "num.append(x) #x 리스트 형태로 추가\n",
    "num"
   ]
  },
  {
   "cell_type": "code",
   "execution_count": 76,
   "id": "261eb7b5-2a35-4398-9c15-b384b69b89fd",
   "metadata": {
    "tags": []
   },
   "outputs": [
    {
     "data": {
      "text/plain": [
       "[8, 0, 1, 2, 3, 4, 5, 6, 6, 6, 6, [6, 6, 6], [6, 6, 6], 6, 6, 6]"
      ]
     },
     "execution_count": 76,
     "metadata": {},
     "output_type": "execute_result"
    }
   ],
   "source": [
    "num += x\n",
    "num"
   ]
  },
  {
   "cell_type": "code",
   "execution_count": 77,
   "id": "9f1a750c-eb47-4024-8d49-9a79b330b510",
   "metadata": {},
   "outputs": [
    {
     "data": {
      "text/plain": [
       "[9, 0, 1, 2, 3, 4, 5, 6, 6, 6, 6, [6, 6, 6], [6, 6, 6], 6, 6, 6]"
      ]
     },
     "execution_count": 77,
     "metadata": {},
     "output_type": "execute_result"
    }
   ],
   "source": [
    "#offset\n",
    "num[0] = 9\n",
    "num"
   ]
  },
  {
   "cell_type": "code",
   "execution_count": 78,
   "id": "e4f66931-39e9-4ef9-b6d7-b1076451d4f0",
   "metadata": {},
   "outputs": [
    {
     "data": {
      "text/plain": [
       "[2, 2, 2, 2, 3, 4, 5, 6, 6, 6, 6, [6, 6, 6], [6, 6, 6], 6, 6, 6]"
      ]
     },
     "execution_count": 78,
     "metadata": {},
     "output_type": "execute_result"
    }
   ],
   "source": [
    "#slice\n",
    "num[:3] = 2, 2, 2\n",
    "num"
   ]
  },
  {
   "cell_type": "code",
   "execution_count": 80,
   "id": "d52cfb15-c139-4225-b0ad-71b2a41e121e",
   "metadata": {},
   "outputs": [
    {
     "data": {
      "text/plain": [
       "['c', 'a', 't', 2, 3, 4, 5, 6, 6, 6, 6, [6, 6, 6], [6, 6, 6], 6, 6, 6]"
      ]
     },
     "execution_count": 80,
     "metadata": {},
     "output_type": "execute_result"
    }
   ],
   "source": [
    "num[:3] = 'cat'\n",
    "num"
   ]
  },
  {
   "cell_type": "code",
   "execution_count": 81,
   "id": "7a280871-e11d-46d9-8f5b-4d248c0446ac",
   "metadata": {},
   "outputs": [
    {
     "data": {
      "text/plain": [
       "[2, 3, 4, 5, 6, 6, 6, 6, [6, 6, 6], [6, 6, 6], 6, 6, 6]"
      ]
     },
     "execution_count": 81,
     "metadata": {},
     "output_type": "execute_result"
    }
   ],
   "source": [
    "#삭제\n",
    "del num[:3]\n",
    "num"
   ]
  },
  {
   "cell_type": "code",
   "execution_count": 83,
   "id": "a3e51922-2125-40e4-86e8-4b680e184231",
   "metadata": {},
   "outputs": [
    {
     "data": {
      "text/plain": [
       "[3, 4, 5, 6, 6, 6, 6, [6, 6, 6], 6, 6, 6]"
      ]
     },
     "execution_count": 83,
     "metadata": {},
     "output_type": "execute_result"
    }
   ],
   "source": [
    "#remove(value)\n",
    "num.remove([6, 6, 6])\n",
    "num"
   ]
  },
  {
   "cell_type": "code",
   "execution_count": null,
   "id": "df99a3cc-c765-4a60-aa0c-a85770c6d176",
   "metadata": {},
   "outputs": [],
   "source": [
    "#pop(index) 기본값 = -1(맨 뒤에 값 제거)"
   ]
  },
  {
   "cell_type": "code",
   "execution_count": 85,
   "id": "967cfd7e-b508-4785-b1bc-befbc72cf835",
   "metadata": {},
   "outputs": [
    {
     "data": {
      "text/plain": [
       "[4, 5, 6, 6, 6, 6, [6, 6, 6], 6, 6]"
      ]
     },
     "execution_count": 85,
     "metadata": {},
     "output_type": "execute_result"
    }
   ],
   "source": [
    "num.pop(0)\n",
    "num"
   ]
  },
  {
   "cell_type": "code",
   "execution_count": null,
   "id": "574ab424-af62-4356-b60c-29bc89d4d8fb",
   "metadata": {},
   "outputs": [
    {
     "data": {
      "text/plain": [
       "[]"
      ]
     },
     "execution_count": 86,
     "metadata": {},
     "output_type": "execute_result"
    }
   ],
   "source": [
    "#clear\n",
    "num.clear()\n",
    "num"
   ]
  },
  {
   "cell_type": "code",
   "execution_count": 87,
   "id": "97a82c59-c649-4a10-a339-b20c3f49de9e",
   "metadata": {},
   "outputs": [
    {
     "data": {
      "text/plain": [
       "4"
      ]
     },
     "execution_count": 87,
     "metadata": {},
     "output_type": "execute_result"
    }
   ],
   "source": [
    "# 인덱스\n",
    "num = list(range(5))\n",
    "num.index(4)"
   ]
  },
  {
   "cell_type": "code",
   "execution_count": 88,
   "id": "bbfd5290-e991-487f-aa64-d6c41aff4a6f",
   "metadata": {},
   "outputs": [
    {
     "data": {
      "text/plain": [
       "True"
      ]
     },
     "execution_count": 88,
     "metadata": {},
     "output_type": "execute_result"
    }
   ],
   "source": [
    "0 in num"
   ]
  },
  {
   "cell_type": "code",
   "execution_count": 90,
   "id": "a843b706-4de9-426d-8850-c0594cb60da3",
   "metadata": {},
   "outputs": [
    {
     "data": {
      "text/plain": [
       "[4, 3, 2, 1, 0]"
      ]
     },
     "execution_count": 90,
     "metadata": {},
     "output_type": "execute_result"
    }
   ],
   "source": [
    "# 정렬: sort(), sorted()\n",
    "sorted(num, reverse=True) #변한 값만 복사해서 출력"
   ]
  },
  {
   "cell_type": "code",
   "execution_count": 91,
   "id": "d62665cf-fc67-4dad-acfe-1818b7e1861d",
   "metadata": {},
   "outputs": [
    {
     "data": {
      "text/plain": [
       "[0, 1, 2, 3, 4]"
      ]
     },
     "execution_count": 91,
     "metadata": {},
     "output_type": "execute_result"
    }
   ],
   "source": [
    "num"
   ]
  },
  {
   "cell_type": "code",
   "execution_count": 92,
   "id": "83879027-2067-4973-beee-d5c2aafe2ff4",
   "metadata": {},
   "outputs": [],
   "source": [
    "num.sort(reverse=True) #리스트.sort(), 값을 할당하지 않아도 됨"
   ]
  },
  {
   "cell_type": "code",
   "execution_count": 93,
   "id": "412a35c3-a1d5-4b34-873b-e3b526f47d08",
   "metadata": {},
   "outputs": [
    {
     "data": {
      "text/plain": [
       "[4, 3, 2, 1, 0]"
      ]
     },
     "execution_count": 93,
     "metadata": {},
     "output_type": "execute_result"
    }
   ],
   "source": [
    "num"
   ]
  },
  {
   "cell_type": "code",
   "execution_count": 99,
   "id": "5e86ff7c-b5bc-42f3-aa69-9688db7fde4d",
   "metadata": {},
   "outputs": [],
   "source": [
    "#reverse(), reversed()\n",
    "num.reverse() #값반환 안함"
   ]
  },
  {
   "cell_type": "code",
   "execution_count": 100,
   "id": "53925769-fbda-416e-8095-a2322fa90615",
   "metadata": {},
   "outputs": [
    {
     "data": {
      "text/plain": [
       "<list_reverseiterator at 0x7fef701d2af0>"
      ]
     },
     "execution_count": 100,
     "metadata": {},
     "output_type": "execute_result"
    }
   ],
   "source": [
    "reversed(num) #값반환"
   ]
  },
  {
   "cell_type": "code",
   "execution_count": 101,
   "id": "86f419aa-d871-4691-ae48-d4c1666f5c08",
   "metadata": {},
   "outputs": [
    {
     "data": {
      "text/plain": [
       "[1, 2, 3, 4]"
      ]
     },
     "execution_count": 101,
     "metadata": {},
     "output_type": "execute_result"
    }
   ],
   "source": [
    "# 할당\n",
    "a = list(range(1, 5))\n",
    "a"
   ]
  },
  {
   "cell_type": "code",
   "execution_count": 102,
   "id": "5888aea0-4b9b-4854-959c-037ea5c10242",
   "metadata": {},
   "outputs": [
    {
     "data": {
      "text/plain": [
       "([6, 2, 3, 4], [6, 2, 3, 4])"
      ]
     },
     "execution_count": 102,
     "metadata": {},
     "output_type": "execute_result"
    }
   ],
   "source": [
    "b = a #메모리주소 참조하는 것 (id)\n",
    "b[0] = 6\n",
    "a, b"
   ]
  },
  {
   "cell_type": "code",
   "execution_count": 103,
   "id": "1a13ba06-7c2a-4cbf-baa4-6c78e98a590d",
   "metadata": {},
   "outputs": [
    {
     "data": {
      "text/plain": [
       "(140667241950720, 140667241950720)"
      ]
     },
     "execution_count": 103,
     "metadata": {},
     "output_type": "execute_result"
    }
   ],
   "source": [
    "id(a), id(b)"
   ]
  },
  {
   "cell_type": "code",
   "execution_count": 104,
   "id": "3f1bae29-0a1a-4ab8-aab2-45dab4c842a5",
   "metadata": {},
   "outputs": [
    {
     "data": {
      "text/plain": [
       "(140667241950720, 140667241950528, 140666355775744, 140667241950784)"
      ]
     },
     "execution_count": 104,
     "metadata": {},
     "output_type": "execute_result"
    }
   ],
   "source": [
    "# shallow copy: 참조하지 않고 새로운 객체에 할당하는 방법. 얕은 복사\n",
    "c = a.copy()\n",
    "d = list(a)\n",
    "e = a[:]\n",
    "\n",
    "id(a), id(c), id(d), id(e)"
   ]
  },
  {
   "cell_type": "code",
   "execution_count": 105,
   "id": "8da7e658-123c-48a3-9703-2e46e54b31e7",
   "metadata": {},
   "outputs": [
    {
     "data": {
      "text/plain": [
       "[6, 2, 3, 4, [1, 2, 3]]"
      ]
     },
     "execution_count": 105,
     "metadata": {},
     "output_type": "execute_result"
    }
   ],
   "source": [
    "# deep copy: 깊은 복사, 하위에 중첩된 리스트 요소가 안바뀌도록\n",
    "a.append([1, 2, 3])\n",
    "a"
   ]
  },
  {
   "cell_type": "code",
   "execution_count": 106,
   "id": "dd5b190c-eefb-445a-a7d3-c3b5caab90bb",
   "metadata": {},
   "outputs": [
    {
     "data": {
      "text/plain": [
       "(140667241950720, 140666355764672)"
      ]
     },
     "execution_count": 106,
     "metadata": {},
     "output_type": "execute_result"
    }
   ],
   "source": [
    "f = a.copy()\n",
    "id(a), id(f)"
   ]
  },
  {
   "cell_type": "code",
   "execution_count": 108,
   "id": "88d95f08-a4f2-4417-bc0c-d6416a8f333a",
   "metadata": {},
   "outputs": [
    {
     "data": {
      "text/plain": [
       "([6, 2, 3, 4, [9, 2, 3]], [6, 2, 3, 4, [9, 2, 3]])"
      ]
     },
     "execution_count": 108,
     "metadata": {},
     "output_type": "execute_result"
    }
   ],
   "source": [
    "f[-1][0] = 9 #얕은 복사로 a, f 둘다 바뀜\n",
    "a, f"
   ]
  },
  {
   "cell_type": "code",
   "execution_count": 109,
   "id": "00eabca3-0919-49c5-b6a8-3f22d7ad06d7",
   "metadata": {},
   "outputs": [
    {
     "data": {
      "text/plain": [
       "[6, 2, 3, 4, [9, 2, 3]]"
      ]
     },
     "execution_count": 109,
     "metadata": {},
     "output_type": "execute_result"
    }
   ],
   "source": [
    "import copy\n",
    "g = copy.deepcopy(a)\n",
    "g"
   ]
  },
  {
   "cell_type": "code",
   "execution_count": 110,
   "id": "8cde1a3b-bd7e-4a88-9521-80eeb16a5335",
   "metadata": {},
   "outputs": [
    {
     "data": {
      "text/plain": [
       "([6, 2, 3, 4, [9, 2, 3]], [6, 2, 3, 4, [10, 2, 3]])"
      ]
     },
     "execution_count": 110,
     "metadata": {},
     "output_type": "execute_result"
    }
   ],
   "source": [
    "g[-1][0] = 10 #깊은 복사로 g만 변화함\n",
    "a, g"
   ]
  },
  {
   "cell_type": "code",
   "execution_count": 113,
   "id": "ad5cfdb5-d36c-417a-8197-09f18e931da6",
   "metadata": {},
   "outputs": [
    {
     "name": "stdout",
     "output_type": "stream",
     "text": [
      "('kate', 77)\n",
      "('royce', 44)\n",
      "('phill', 54)\n"
     ]
    }
   ],
   "source": [
    "# 순회 : zip, enumerate\n",
    "name = ['kate', 'royce', 'phill']\n",
    "age = [77, 44, 54]\n",
    "# (name, age)\n",
    "for item1, item2 in zip(name, age): #여러 리스트 동시 순회 길이 다를경우 짧은 리스트 기준 종료\n",
    "    print((item1, item2))"
   ]
  },
  {
   "cell_type": "code",
   "execution_count": 112,
   "id": "76b28f0b-c899-485d-ba9a-b98179e135a0",
   "metadata": {},
   "outputs": [
    {
     "name": "stdout",
     "output_type": "stream",
     "text": [
      "('kate', 77)\n",
      "('kate', 44)\n",
      "('kate', 54)\n",
      "('royce', 77)\n",
      "('royce', 44)\n",
      "('royce', 54)\n",
      "('phill', 77)\n",
      "('phill', 44)\n",
      "('phill', 54)\n"
     ]
    }
   ],
   "source": [
    "for item1 in name:\n",
    "    for item2 in age:\n",
    "        print((item1, item2))"
   ]
  },
  {
   "cell_type": "code",
   "execution_count": 114,
   "id": "b85179d2-075f-435d-8779-bf0178b6ab86",
   "metadata": {},
   "outputs": [
    {
     "data": {
      "text/plain": [
       "[('kate', 77), ('royce', 44), ('phill', 54)]"
      ]
     },
     "execution_count": 114,
     "metadata": {},
     "output_type": "execute_result"
    }
   ],
   "source": [
    "list(zip(name, age))"
   ]
  },
  {
   "cell_type": "code",
   "execution_count": 115,
   "id": "dcd57daf-48f5-428d-804b-2073f26eb82c",
   "metadata": {},
   "outputs": [
    {
     "name": "stdout",
     "output_type": "stream",
     "text": [
      "0 kate\n",
      "1 royce\n",
      "2 phill\n"
     ]
    }
   ],
   "source": [
    "# 리스트 + 인덱스 = enumerate\n",
    "for idx, item in enumerate(name):\n",
    "    print(idx, item)"
   ]
  },
  {
   "cell_type": "code",
   "execution_count": 118,
   "id": "e2b5f626-f170-47ba-9598-e441e4f730e8",
   "metadata": {},
   "outputs": [
    {
     "data": {
      "text/plain": [
       "[('kate', 77), ('royce', 44), ('phill', 54)]"
      ]
     },
     "execution_count": 118,
     "metadata": {},
     "output_type": "execute_result"
    }
   ],
   "source": [
    "# list(zip(name, age)) -> 리스트컴\n",
    "[(i, j) for i, j in zip(name, age)]"
   ]
  },
  {
   "cell_type": "code",
   "execution_count": 124,
   "id": "d6308c73-500d-4669-ab98-1019b17ae1a8",
   "metadata": {},
   "outputs": [
    {
     "name": "stdout",
     "output_type": "stream",
     "text": [
      "[('kate', 77), ('royce', 44), ('phill', 54)]\n"
     ]
    }
   ],
   "source": [
    "# name, age 이용해서 새로운 리스트 생성 (이름, 나이), for문 사용\n",
    "new_list = []\n",
    "for i, j in zip(name, age):\n",
    "    new_list.append((i,j)) #append 사용\n",
    "print(new_list)"
   ]
  },
  {
   "cell_type": "code",
   "execution_count": 125,
   "id": "9b0b0650-ee56-4071-a469-914a77633d6a",
   "metadata": {},
   "outputs": [
    {
     "data": {
      "text/plain": [
       "[('kate', 77), ('royce', 44), ('phill', 54)]"
      ]
     },
     "execution_count": 125,
     "metadata": {},
     "output_type": "execute_result"
    }
   ],
   "source": [
    "[(i, j) for i, j in zip(name, age)]"
   ]
  },
  {
   "cell_type": "code",
   "execution_count": 130,
   "id": "edd140e2-222f-49a9-946b-c7938a4fc77f",
   "metadata": {},
   "outputs": [
    {
     "data": {
      "text/plain": [
       "[('kate', 77),\n",
       " ('kate', 44),\n",
       " ('kate', 54),\n",
       " ('royce', 77),\n",
       " ('royce', 44),\n",
       " ('royce', 54),\n",
       " ('phill', 77),\n",
       " ('phill', 44),\n",
       " ('phill', 54)]"
      ]
     },
     "execution_count": 130,
     "metadata": {},
     "output_type": "execute_result"
    }
   ],
   "source": [
    "#1. for 문을 리.컴으로 바꾸기\n",
    "\"\"\"for i in name:\n",
    "    for j in age:\n",
    "        print(i, j)\"\"\"\n",
    "[(i, j) for i in name for j in age]"
   ]
  },
  {
   "cell_type": "code",
   "execution_count": 134,
   "id": "b4089497-56a9-45e4-9ae4-9c07ee5add85",
   "metadata": {},
   "outputs": [
    {
     "data": {
      "text/plain": [
       "[[('kate', 77), ('royce', 77), ('phill', 77)],\n",
       " [('kate', 44), ('royce', 44), ('phill', 44)],\n",
       " [('kate', 54), ('royce', 54), ('phill', 54)]]"
      ]
     },
     "execution_count": 134,
     "metadata": {},
     "output_type": "execute_result"
    }
   ],
   "source": [
    "#2. [i, j] 리스트의 리스트로 바꿔보기 (리.컴)\n",
    "[[(i, j) for i in name] for j in age]"
   ]
  },
  {
   "cell_type": "code",
   "execution_count": 136,
   "id": "60d038d2-e43a-465e-8f80-b2df6e93745d",
   "metadata": {},
   "outputs": [],
   "source": [
    "sentence = 'do not judge a book by its cover'\n",
    "#[(대문자, 첫글자대문자, 글자수)...] 리스트 만들기"
   ]
  },
  {
   "cell_type": "code",
   "execution_count": 142,
   "id": "86fedca4-496f-4935-bc27-2f4887f44599",
   "metadata": {},
   "outputs": [
    {
     "data": {
      "text/plain": [
       "[('DO', 'Do', 2),\n",
       " ('NOT', 'Not', 3),\n",
       " ('JUDGE', 'Judge', 5),\n",
       " ('A', 'A', 1),\n",
       " ('BOOK', 'Book', 4),\n",
       " ('BY', 'By', 2),\n",
       " ('ITS', 'Its', 3),\n",
       " ('COVER', 'Cover', 5)]"
      ]
     },
     "execution_count": 142,
     "metadata": {},
     "output_type": "execute_result"
    }
   ],
   "source": [
    "[(i.upper(), i.title(), len(i)) for i in sentence.split()]"
   ]
  },
  {
   "cell_type": "code",
   "execution_count": 149,
   "id": "c5f8d934-119b-4adc-aa6d-e406f9aac28c",
   "metadata": {},
   "outputs": [],
   "source": [
    "text = [['Sunja', 'said', 'goodnight', 'to', 'her', 'mother'],\n",
    "        ['Hansu', 'was', 'no', 'longer', 'in', 'Busan']]\n",
    "#1. 문장마다 스트링으로 변화해서 리스트로 반환\n",
    "         #['문징1', '문장2']\n",
    "#2. 전체를 스트링으로 반환\n",
    "         # '문장1 문장2'\n",
    "#3. 전체 단어 리스트 가져오기\n",
    "        # [sunja, said, goodnight,..]"
   ]
  },
  {
   "cell_type": "code",
   "execution_count": 155,
   "id": "3293215b-81a6-4328-897a-f61464671794",
   "metadata": {},
   "outputs": [
    {
     "data": {
      "text/plain": [
       "['Sunja said goodnight to her mother', 'Hansu was no longer in Busan']"
      ]
     },
     "execution_count": 155,
     "metadata": {},
     "output_type": "execute_result"
    }
   ],
   "source": [
    "[' '.join(sent) for sent in text] #1"
   ]
  },
  {
   "cell_type": "code",
   "execution_count": 156,
   "id": "8ee1de7f-acf5-4886-b917-e3b6d0f1663d",
   "metadata": {},
   "outputs": [
    {
     "data": {
      "text/plain": [
       "'Sunja said goodnight to her mother Hansu was no longer in Busan'"
      ]
     },
     "execution_count": 156,
     "metadata": {},
     "output_type": "execute_result"
    }
   ],
   "source": [
    "' '.join([' '.join(sent) for sent in text]) #2"
   ]
  },
  {
   "cell_type": "code",
   "execution_count": 157,
   "id": "61efe0eb-78dc-4411-a75b-8c4bf92799c6",
   "metadata": {},
   "outputs": [
    {
     "data": {
      "text/plain": [
       "['Sunja',\n",
       " 'said',\n",
       " 'goodnight',\n",
       " 'to',\n",
       " 'her',\n",
       " 'mother',\n",
       " 'Hansu',\n",
       " 'was',\n",
       " 'no',\n",
       " 'longer',\n",
       " 'in',\n",
       " 'Busan']"
      ]
     },
     "execution_count": 157,
     "metadata": {},
     "output_type": "execute_result"
    }
   ],
   "source": [
    "[word for sent in text for word in sent] #3"
   ]
  },
  {
   "cell_type": "code",
   "execution_count": 159,
   "id": "02b96a41-901a-4c26-8123-a702cc5b9e3d",
   "metadata": {},
   "outputs": [
    {
     "data": {
      "text/plain": [
       "[0, 1, 2, 3, 4, 5, 6, 7, 8, 9]"
      ]
     },
     "execution_count": 159,
     "metadata": {},
     "output_type": "execute_result"
    }
   ],
   "source": [
    "# if문 - else\n",
    "[i for i in range(10)] # 짝수 가져오고 홀수 -> '홀수'"
   ]
  },
  {
   "cell_type": "code",
   "execution_count": 160,
   "id": "324b5b79-b706-4629-a09f-db81f996a150",
   "metadata": {},
   "outputs": [
    {
     "ename": "SyntaxError",
     "evalue": "invalid syntax (3963976251.py, line 1)",
     "output_type": "error",
     "traceback": [
      "\u001b[0;36m  File \u001b[0;32m\"/var/folders/wh/tvv7pnrs1dv43fq_ywn935yh0000gn/T/ipykernel_4147/3963976251.py\"\u001b[0;36m, line \u001b[0;32m1\u001b[0m\n\u001b[0;31m    [i for i in range(10) if i%2 == 0 else '홀수'] #no\u001b[0m\n\u001b[0m                                      ^\u001b[0m\n\u001b[0;31mSyntaxError\u001b[0m\u001b[0;31m:\u001b[0m invalid syntax\n"
     ]
    }
   ],
   "source": [
    "[i for i in range(10) if i%2 == 0 else '홀수'] #no"
   ]
  },
  {
   "cell_type": "code",
   "execution_count": 161,
   "id": "31503d56-32a1-4e41-b3f5-eb15b0c30f5f",
   "metadata": {},
   "outputs": [
    {
     "data": {
      "text/plain": [
       "[0, '홀수', 2, '홀수', 4, '홀수', 6, '홀수', 8, '홀수']"
      ]
     },
     "execution_count": 161,
     "metadata": {},
     "output_type": "execute_result"
    }
   ],
   "source": [
    "[i if i%2 == 0 else '홀수' for i in range(10)]"
   ]
  },
  {
   "cell_type": "code",
   "execution_count": 162,
   "id": "4b4ad507-0c82-482f-8e16-a9decd590f89",
   "metadata": {},
   "outputs": [
    {
     "data": {
      "text/plain": [
       "['adventure',\n",
       " 'belles_lettres',\n",
       " 'editorial',\n",
       " 'fiction',\n",
       " 'government',\n",
       " 'hobbies',\n",
       " 'humor',\n",
       " 'learned',\n",
       " 'lore',\n",
       " 'mystery',\n",
       " 'news',\n",
       " 'religion',\n",
       " 'reviews',\n",
       " 'romance',\n",
       " 'science_fiction']"
      ]
     },
     "execution_count": 162,
     "metadata": {},
     "output_type": "execute_result"
    }
   ],
   "source": [
    "#brown 정제하기\n",
    "brown.categories()"
   ]
  },
  {
   "cell_type": "code",
   "execution_count": 226,
   "id": "85122f3a-62a5-454c-be0c-ae085e5568be",
   "metadata": {
    "collapsed": true,
    "jupyter": {
     "outputs_hidden": true
    },
    "tags": []
   },
   "outputs": [
    {
     "data": {
      "text/plain": [
       "\"\\n\\n\\tThey/ppss neither/cc liked/vbd nor/cc disliked/vbd the/at Old/jj-tl Man/nn-tl ./.\\nTo/in them/ppo he/pps could/md have/hv been/ben the/at broken/vbn bell/nn in/in the/at church/nn tower/nn which/wdt rang/vbd before/in and/cc after/in Mass/nn-tl ,/, and/cc at/in noon/nn ,/, and/cc at/in six/cd each/dt evening/nn --/-- its/pp$ tone/nn ,/, repetitive/jj ,/, monotonous/jj ,/, never/rb breaking/vbg the/at boredom/nn of/in the/at streets/nns ./.\\nThe/at Old/jj-tl Man/nn-tl was/bedz unimportant/jj ./.\\n\\n\\n\\tYet/rb if/cs he/pps were/bed not/* there/rb ,/, they/ppss would/md have/hv missed/vbn him/ppo ,/, as/cs they/ppss would/md have/hv missed/vbn the/at sounds/nns of/in bees/nns buzzing/vbg against/in the/at screen/nn door/nn in/in early/jj June/np ;/. ;/.\\nor/cc the/at smell/nn of/in thick/jj tomato/nn paste/nn --/-- the/at ripe/jj smell/nn that/wps was/bedz both/abx sweet/jj and/cc sour/jj --/-- rising/vbg up/rp from/in aluminum/nn trays/nns wrapped/vbn in/in fly-dotted/jj cheesecloth/nn ./.\\nOr/cc the/at surging/vbg whirling/vbg sounds/nns of/in bats/nns at/in night/nn ,/, when/wrb their/pp$ black/jj bodies/nns dived/vbd into/in the/at blackness/nn above/in and/cc below/in the/at amber/jj street/nn lights/nns ./.\\nOr/cc the/at bay/nn of/in female/nn dogs/nns in/in heat/nn ./.\\n\\n\\n\\tThey/ppss never/rb called/vbd him/ppo by/in name/nn ,/, although/cs he/pps had/hvd one/pn ./.\\nFilippo/np Rossi/np ,/, that's/dt+bez what/wdt he/pps was/bedz called/vbn in/in the/at old/jj country/nn ;/. ;/.\\nbut/cc here/rb he/pps was/bedz just/rb Signore/np or/cc the/at Old/jj-tl Man/nn-tl ./.\\nBut/cc this/dt was/bedz not/* unusual/jj ,/, because/cs youth/nn in/in these/dts quarters/nns was/bedz always/rb pushed/vbn at/in a/at distance/nn from/in its/pp$ elders/nns ./.\\nYouth/nn obeyed/vbd when/wrb commanded/vbn ./.\\nIt/pps went/vbd to/in church/nn on/in Sunday/nr and/cc one/cd Saturday/nr a/at month/nn went/vbd to/in confession/nn ./.\\nBut/cc youth/nn asked/vbd nothing/pn of/in its/pp$ parents/nns --/-- not/* a/at touch/nn of/in the/at hand/nn or/cc a/at kiss/nn given/vbn in/in passing/vbg ./.\\n\\n\\n\\tThe/at only/ap thing/nn unusual/jj about/in the/at Old/jj-tl Man/nn-tl had/hvd long/jj since/rb happened/vbn ./.\\nBut/cc the/at past/nn was/bedz dead/jj here/rb as/cs the/at present/jj was/bedz dead/jj ./.\\nOnce/cs the/at Old/jj-tl Man/nn-tl had/hvd had/hvn a/at wife/nn ./.\\nAnd/cc once/cs she/pps ,/, too/rb ,/, ignored/vbd him/ppo ./.\\nWith/in a/at tiny/jj fur-piece/nn wrapped/vbd around/in her/pp$ shoulders/nns ,/, she/pps wiggled/vbd her/pp$ satin-covered/jj buttocks/nns down/in the/at street/nn before/in him/ppo and/cc didn't/dod* stop/vb ./.\\nIn/in one/cd hand/nn she/pps clutched/vbd a/at hundred/cd dollar/nn bill/nn and/cc in/in the/at other/ap a/at straw/nn suitcase/nn ./.\\nThe/at way/nn she/pps strutted/vbd down/in the/at street/nn ,/, the/at Old/jj-tl Man/nn-tl would/md have/hv been/ben blind/jj not/* to/to have/hv noticed/vbn both/abx ./.\\nWithout/in looking/vbg at/in him/ppo ,/, without/in looking/vbg at/in anything/pn except/in Drexel/np-tl Street/nn-tl directly/rb in/in front/nn of/in her/ppo ,/, she/pps climbed/vbd up/rp into/in one/cd of/in those/dts orange/jj streetcars/nns ,/, rode/vbd away/rb in/in it/ppo ,/, and/cc never/rb came/vbd back/rb ./.\\n\\n\\n\\t``/`` But/cc she/pps shouldn't/md* have/hv come/vbn here/rb in/in the/at first/od place/nn ''/'' ,/, the/at women/nns had/hvd said/vbn ./.\\n\\n\\n\\t``/`` No/rb ,/, no/rb ./.\\nNot/* that/dt one/pn ./.\\nShe/pps thought/vbd she/pps was/bedz bigger/jjr than/cs we/ppss are/ber because/cs she/pps came/vbd from/in Torino/np ''/'' ./.\\n\\n\\n\\t``/`` Eh/uh ,/, Torino/np !/. !/.\\nShe/pps gave/vbd herself/ppl fancy/jj airs/nns !/. !/.\\nJust/rb because/cs she/pps had/hvd a/at part/nn on/in the/at stage/nn in/in the/at old/jj country/nn ,/, she/pps thought/vbd she/pps could/md carry/vb her/pp$ head/nn higher/rbr than/cs ours/pp$$ ''/'' ./.\\nThey/ppss had/hvd slapped/vbn their/pp$ thighs/nns ./.\\n\\n\\n\\t``/`` It's/pps+bez not/* for/in making/vbg pretty/jj speeches/nns about/in Dante/np those/dts actresses/nns get/vb paid/vbn so/ql good/rb ''/'' ./.\\n\\n\\n\\t``/`` Henh/uh ''/'' !/. !/.\\nCalloused/vbn fingers/nns ,/, caressed/vbn only/rb by/in the/at smoothness/nn of/in polished/vbn rosaries/nns ,/, had/hvd swayed/vbn excitedly/rb beneath/in puckered/vbn chins/nns where/wrb tiny/jj black/jj hairs/nns sprouted/vbd ,/, never/rb to/to be/be tweezed/vbn away/rb ./.\\nMauve-colored/jj mouths/nns that/wps had/hvd never/rb known/vbn anything/pn sweeter/jjr than/cs the/at taste/nn of/in new/jj wine/nn and/cc the/at passion/nn of/in man's/nn$ tongue/nn had/hvd not/* smiled/vbn ,/, but/cc had/hvd condemned/vbn again/rb and/cc again/rb ./.\\n``/`` Puttana/fw-nn ''/'' !/. !/.\\n\\n\\n\\tBut/cc if/cs the/at Old/jj-tl Man/nn-tl even/rb thought/vbd about/in his/pp$ wife/nn now/rb ,/, nobody/pn cared/vbd a/at fig/nn ./.\\nIt/pps was/bedz enough/ap for/in people/nns to/to know/vb that/cs at/in one/cd time/nn he/pps had/hvd looked/vbn down/in the/at street/nn at/in the/at f\""
      ]
     },
     "execution_count": 226,
     "metadata": {},
     "output_type": "execute_result"
    }
   ],
   "source": [
    "brown.raw(categories='romance')[:5000] \n",
    "#문장분절 -> 단어분절 # [[they, neither, ...], []]\n",
    "#불필요한 것들 제거 \n",
    "    #문장부호, POS, 'she's->she, is, don't-> do, not, '-'->''"
   ]
  }
 ],
 "metadata": {
  "kernelspec": {
   "display_name": "Python 3 (ipykernel)",
   "language": "python",
   "name": "python3"
  },
  "language_info": {
   "codemirror_mode": {
    "name": "ipython",
    "version": 3
   },
   "file_extension": ".py",
   "mimetype": "text/x-python",
   "name": "python",
   "nbconvert_exporter": "python",
   "pygments_lexer": "ipython3",
   "version": "3.9.7"
  }
 },
 "nbformat": 4,
 "nbformat_minor": 5
}

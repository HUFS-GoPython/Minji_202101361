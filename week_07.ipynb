{
 "cells": [
  {
   "cell_type": "markdown",
   "id": "3b790224-9002-4b6b-b91f-ef6d77db16fc",
   "metadata": {},
   "source": [
    "### 함수\n",
    "1. 정의\n",
    "2. 인수\n",
    "3. 호출 방식"
   ]
  },
  {
   "cell_type": "markdown",
   "id": "ef3533d6-5890-4093-b1b4-d0368d83e5e2",
   "metadata": {},
   "source": [
    "#### 1. 정의\n",
    "- 코드의 덩어리, 코드의 묶음\n",
    "- 간편한 재사용을 위해, 한 줄로 재사용 가능하다.\n",
    "- 정의(define) 부분 + 호출(call) 부분\n",
    "    - 정의하기\n",
    "    def 함수이름(매개변수1, 2, 3...):\n",
    "        수행문1(매개변수를 이용)\n",
    "        수행문2\n",
    "        .....\n",
    "        return 반환값\n",
    "    - 호출하기\n",
    "    함수이름(인수1, 2, 3...)\n",
    "- 함수 종류\n",
    "    1. 둘다 없는\n",
    "    2. 둘다 있는\n",
    "    3. 매개변수만 있는\n",
    "    4. 반환값만 있는"
   ]
  },
  {
   "cell_type": "code",
   "execution_count": null,
   "id": "1608cf74-19ac-4acc-be1c-b8aa6dca3d54",
   "metadata": {},
   "outputs": [
    {
     "data": {
      "text/plain": [
       "5"
      ]
     },
     "execution_count": 1,
     "metadata": {},
     "output_type": "execute_result"
    }
   ],
   "source": [
    "#y = x + 1 (x= 매개변수, y= 반환값, x+1 수행문)\n",
    "\n",
    "def ex(x): #정의하기\n",
    "    y = x + 1\n",
    "    return y\n",
    "\n",
    "def ex1(x):\n",
    "    return x + 1\n",
    "\n",
    "ex(4) #호출하기\n",
    "ex1(4)"
   ]
  },
  {
   "cell_type": "code",
   "execution_count": null,
   "id": "bdb83579-5f87-4a26-806a-96fc899284eb",
   "metadata": {},
   "outputs": [],
   "source": [
    "def ex(x): #2. 둘다 있는 케이스\n",
    "    y = x + 1\n",
    "    return y"
   ]
  },
  {
   "cell_type": "code",
   "execution_count": null,
   "id": "d0e4b512-6848-4348-94c3-e89002752a65",
   "metadata": {},
   "outputs": [],
   "source": [
    "#1. 둘다 없는\n",
    "def make_a_sound():\n",
    "    print('quack')\n",
    "    #return None 생략됨"
   ]
  },
  {
   "cell_type": "code",
   "execution_count": null,
   "id": "59a223c8-583f-405e-b075-284c591de063",
   "metadata": {},
   "outputs": [
    {
     "name": "stdout",
     "output_type": "stream",
     "text": [
      "yay\n"
     ]
    }
   ],
   "source": [
    "#3. 매개변수만 있는\n",
    "def make_a_sound(sound): #sound = 매개변수, yay = 인수\n",
    "    print(sound)\n",
    "    \n",
    "yay = 'yay'\n",
    "make_a_sound('yay')"
   ]
  },
  {
   "cell_type": "code",
   "execution_count": null,
   "id": "02e95aa3-3ab5-4594-880e-eb6fc59146be",
   "metadata": {},
   "outputs": [
    {
     "name": "stdout",
     "output_type": "stream",
     "text": [
      "splendid\n"
     ]
    }
   ],
   "source": [
    "#4. 반환값만 있는\n",
    "def agree():\n",
    "    return True\n",
    "\n",
    "if agree():\n",
    "    print('splendid')\n",
    "else:\n",
    "    print('unexpected')"
   ]
  },
  {
   "cell_type": "markdown",
   "id": "13226666-b0f4-494a-b503-b6cf8d5ae4f8",
   "metadata": {},
   "source": [
    "- 함수 이름 짓기\n",
    "    - 소문자만 사용\n",
    "        - split_word\n",
    "    - 동작과 관련돼 있기 떄문에 '동사+명사' 형태 주로 사용\n",
    "    - i.e., 클래스는 명사 def word(): (x)\n",
    "    - 줄임말 쓰지 말것, 명료하게 짓는다\n",
    "        - splt_word (x)\n",
    "        - calculate -> calc 는 괜찮"
   ]
  },
  {
   "cell_type": "markdown",
   "id": "c2c3b37e-61b5-4b8e-8ba7-ead3c2057ef1",
   "metadata": {},
   "source": [
    "#### 2. 인수\n",
    "- 매개변수 vs. 인수\n",
    "    - 매개변수: 함수 내('인터페이스')에서 유효한 변수\n",
    "    - 인수: 실제 매개변수에 대입되는 변수\n",
    "    - '호출시에 인수가 매개변수에 복제된다' yay -> sound\n",
    "- 위치 인수\n",
    "    - positional argument\n",
    "    - 매개변수를 값의 순서에 상응하게 복제함\n",
    "- 키워드 인수\n",
    "    - keyword argument\n",
    "    - 매개변수 키워드에 맞는 인수로 지정 -> 위치 달라도 됨\n",
    "- 디폴트 인수\n",
    "    - default argument\n",
    "    - 매개변수를 정의할 때 값을 미리 지정해 놓는것\n",
    "    - 호출 시에 값이 입력되지 않으면 디폴트값을 사용한다.\n",
    "    - 디폴트값이 언디폴트값 앞에 위치할 수 없음"
   ]
  },
  {
   "cell_type": "code",
   "execution_count": null,
   "id": "f238c013-e615-40d4-852c-db6e0347cfa3",
   "metadata": {},
   "outputs": [
    {
     "ename": "NameError",
     "evalue": "name 'sound' is not defined",
     "output_type": "error",
     "traceback": [
      "\u001b[0;31m---------------------------------------------------------------------------\u001b[0m",
      "\u001b[0;31mNameError\u001b[0m                                 Traceback (most recent call last)",
      "\u001b[0;32m/var/folders/wh/tvv7pnrs1dv43fq_ywn935yh0000gn/T/ipykernel_2451/4152913712.py\u001b[0m in \u001b[0;36m<module>\u001b[0;34m\u001b[0m\n\u001b[0;32m----> 1\u001b[0;31m \u001b[0msound\u001b[0m\u001b[0;34m\u001b[0m\u001b[0;34m\u001b[0m\u001b[0m\n\u001b[0m",
      "\u001b[0;31mNameError\u001b[0m: name 'sound' is not defined"
     ]
    }
   ],
   "source": [
    "sound"
   ]
  },
  {
   "cell_type": "code",
   "execution_count": null,
   "id": "96cedebc-aeb8-43e7-9cd8-a3614aac4bbf",
   "metadata": {},
   "outputs": [],
   "source": [
    "yay"
   ]
  },
  {
   "cell_type": "code",
   "execution_count": null,
   "id": "630de2f9-0894-4aad-80cf-0d3e14b89512",
   "metadata": {},
   "outputs": [],
   "source": [
    "def make_a_sound(sound):\n",
    "    print(sound)\n",
    "    \n",
    "yay = 'yay'\n",
    "make_a_sound(yay)"
   ]
  },
  {
   "cell_type": "code",
   "execution_count": null,
   "id": "1d497712-897c-4e46-b19c-ae5dbcfdfbba",
   "metadata": {},
   "outputs": [],
   "source": [
    "def commentary(color):\n",
    "    if color == 'g':\n",
    "        return 'green'\n",
    "    else:\n",
    "        return 'black'\n",
    "\n",
    "color = 'white'\n",
    "commentary(color)"
   ]
  },
  {
   "cell_type": "code",
   "execution_count": null,
   "id": "722a4a2f-a2c8-4ad2-a445-94f3562e2f7e",
   "metadata": {},
   "outputs": [],
   "source": [
    "colors = ['g', 'b', 't']\n",
    "\n",
    "for colors in colors:\n",
    "    print(commentary(colors))"
   ]
  },
  {
   "cell_type": "code",
   "execution_count": null,
   "id": "3ceaf7d4-690e-4066-ae21-c70fa787ee61",
   "metadata": {},
   "outputs": [],
   "source": [
    "# 위치 인수\n",
    "def menu(wine, entree, dessert):\n",
    "    return {'wine':wine, 'entree':entree, 'dessert':dessert}\n",
    "menu('a', 'b', 'c')"
   ]
  },
  {
   "cell_type": "code",
   "execution_count": null,
   "id": "a52bc96d-35de-4337-98f6-78b5339ea6f2",
   "metadata": {},
   "outputs": [],
   "source": [
    "# 키워드 인수\n",
    "menu(entree = 'a', dessert = 'b', wine = 'c')"
   ]
  },
  {
   "cell_type": "code",
   "execution_count": null,
   "id": "c91bdba3-dd5b-44f4-8808-e9e7a78e13e9",
   "metadata": {},
   "outputs": [],
   "source": [
    "# 디폴트 인수\n",
    "def menu2(wine, entree, dessert='strawberry'):\n",
    "    return {'wine':wine, 'entree':entree, 'dessert':dessert}\n",
    "\n",
    "menu2('rioja', 'egg')"
   ]
  },
  {
   "cell_type": "code",
   "execution_count": null,
   "id": "61bd3843-bf1b-41a2-b4fe-fc6b86db5155",
   "metadata": {},
   "outputs": [],
   "source": [
    "menu2('rioja', 'egg', 'kiwi')"
   ]
  },
  {
   "cell_type": "markdown",
   "id": "1b469b26-4581-4bb4-bcfa-c167057b7901",
   "metadata": {},
   "source": [
    "#### 3. 호출방식\n",
    "- 정의부분은 호출시 실행된다.\n",
    "- 메모리에 저장되어 있다가 호출시 실행\n",
    "- 매개변수 vs. 인수\n",
    "    - 참조에 의한 호출(call by reference)\n",
    "    - '매개변수 = 인수' copy 되기 때문에 나타나는 문제점\n",
    "        - 리스트처럼 가변 객체일 때 주소값을 공유하므로 값이 변함"
   ]
  },
  {
   "cell_type": "code",
   "execution_count": null,
   "id": "2cd5bfe3-aaa6-492d-a832-d9cdde8a96fa",
   "metadata": {},
   "outputs": [],
   "source": [
    "def multiply(x, y):\n",
    "    print('1')\n",
    "    return x + y\n",
    "\n",
    "print('2')\n",
    "i = 2\n",
    "j = 4\n",
    "\n",
    "print('3')\n",
    "multiply(i, j) #호출해야 함수 실행 -> 1 \n",
    "                #i=2 j=4 -> x=i, y=j -> copy\n",
    "\n",
    "print('4')"
   ]
  },
  {
   "cell_type": "code",
   "execution_count": null,
   "id": "5043d45c-9a62-46fd-b698-f659095a699b",
   "metadata": {},
   "outputs": [],
   "source": [
    "def buggy(arg, result=[]):\n",
    "    result.append(arg)\n",
    "    print(result)\n",
    "    \n",
    "a, b = 'a', 'b'\n",
    "buggy(a) #['a']\n",
    "buggy(b) #['b']"
   ]
  },
  {
   "cell_type": "code",
   "execution_count": null,
   "id": "3bcf2304-0f49-465e-bec4-085aaa7b854f",
   "metadata": {},
   "outputs": [],
   "source": [
    "def buggy(arg, result=[]):\n",
    "    result = [] #초기화\n",
    "    result.append(arg)\n",
    "    print(result)\n",
    "    \n",
    "a, b = 'a', 'b'\n",
    "buggy(a) #['a']\n",
    "buggy(b) #['b']"
   ]
  },
  {
   "cell_type": "code",
   "execution_count": null,
   "id": "9f3cf20d-d985-47ff-a681-7b919a3feadf",
   "metadata": {},
   "outputs": [],
   "source": [
    "def nonbuggy(arg, result=None): #default\n",
    "    # 리스트 없으면 빈리스트 생성, 있으면 그거 써라\n",
    "    if result is None: #==(값), is(id)\n",
    "        result = []\n",
    "    result.append(arg)\n",
    "    print(result)\n",
    "\n",
    "nonbuggy(a)\n",
    "nonbuggy(b) #디폴트 none이기 때문에 계속 빈리스트 생성, 안쌓임"
   ]
  },
  {
   "cell_type": "code",
   "execution_count": null,
   "id": "1d43abd5-46b9-4cba-8087-c585f8422f7c",
   "metadata": {},
   "outputs": [],
   "source": [
    "# 없는 값, 아무것도 없다 = None\n",
    "# True, False 둘다 아님\n",
    "thing = None\n",
    "\n",
    "if thing:\n",
    "    print('True')\n",
    "elif thing == False:\n",
    "    print('False')\n",
    "else:\n",
    "    print('None')"
   ]
  },
  {
   "cell_type": "code",
   "execution_count": null,
   "id": "1f6cf367-240a-4f0e-8e65-b0bd9deaf117",
   "metadata": {},
   "outputs": [],
   "source": [
    "def fx():\n",
    "    global city #전역변수(함수 밖에서도 사용가능)\n",
    "    city = 'london' #지역변수(함수내에서만 쓰임)\n",
    "    print(city)\n",
    "\n",
    "city = 'paris'\n",
    "fx()\n",
    "print(city, '==london')"
   ]
  },
  {
   "cell_type": "code",
   "execution_count": null,
   "id": "a4e77852-379c-4293-8db6-df17f05fdb65",
   "metadata": {},
   "outputs": [],
   "source": [
    "city #전역변수 떄문"
   ]
  },
  {
   "cell_type": "markdown",
   "id": "080ae642-3e91-41cd-ac90-a46c408f37e4",
   "metadata": {},
   "source": [
    "#### doc string\n",
    "- 함수 설명\n",
    "- 매개변수 타입, 의미, 함수기능\n",
    "- \"\"\"\n",
    "   독스트링\n",
    "  \"\"\""
   ]
  },
  {
   "cell_type": "code",
   "execution_count": null,
   "id": "8eba781f-0700-4855-bbc5-f0417f2a093f",
   "metadata": {},
   "outputs": [],
   "source": [
    "def buggy2(arg, result=[]):\n",
    "    \"\"\"\n",
    "    arg: str, 꽃 이름\n",
    "    result: list, XXXX\n",
    "    꽃 이름을 리스트에 추가한다\n",
    "    \"\"\"\n",
    "    result = [] #초기화\n",
    "    result.append(arg)\n",
    "    print(result)"
   ]
  },
  {
   "cell_type": "code",
   "execution_count": null,
   "id": "a21aab87-0af9-4eab-ad02-778a6c8db8ba",
   "metadata": {},
   "outputs": [],
   "source": [
    "#독스트링 확인\n",
    "help(buggy2)"
   ]
  },
  {
   "cell_type": "code",
   "execution_count": null,
   "id": "f5e3784e-a06a-4bb2-9a92-0adeebfeaa4e",
   "metadata": {},
   "outputs": [],
   "source": [
    "buggy2.__doc__ #스트링 반환"
   ]
  },
  {
   "cell_type": "code",
   "execution_count": null,
   "id": "4d8c2fe1-f6dd-4366-b60f-2c613c0e029b",
   "metadata": {},
   "outputs": [],
   "source": [
    "# 나이 -> 연도\n",
    "#함수: 입력값 = 나이, 반환 = 연도\n",
    "#나이 = input 받기\n",
    "\n",
    "def age_to_year(age):\n",
    "    year = 2022 - age + 1\n",
    "    return year\n",
    "age = int(input())\n",
    "print(age_to_year(age))"
   ]
  },
  {
   "cell_type": "markdown",
   "id": "7d244ea1-5bab-4c06-ba5d-1ff193a29e25",
   "metadata": {},
   "source": [
    "### 브라운 정제"
   ]
  },
  {
   "cell_type": "code",
   "execution_count": 1,
   "id": "3cd4f1af-72ad-4b14-a748-15b22bce21bc",
   "metadata": {},
   "outputs": [],
   "source": [
    "import nltk\n",
    "nltk.download('brown')\n",
    "brown = nltk.corpus.brown\n",
    "romance = brown.raw(categories='romance') [:5000]"
   ]
  },
  {
   "cell_type": "markdown",
   "id": "2b11bcb1-d359-4116-b455-51ace32d9e91",
   "metadata": {},
   "source": [
    "#### 문장분절"
   ]
  },
  {
   "cell_type": "code",
   "execution_count": 2,
   "id": "75831e28-f206-485f-8f10-db5c51c8e303",
   "metadata": {},
   "outputs": [],
   "source": [
    "sentences = [sent.strip() for sent in romance.split('./.')]\n",
    "sentences = [s for s in sentences if s != '!']\n",
    "sentences[0]"
   ]
  },
  {
   "cell_type": "code",
   "execution_count": null,
   "id": "0276903d-e466-48dc-af36-a8a7fd5caece",
   "metadata": {},
   "outputs": [],
   "source": [
    "[s for s in sentences if '!' in s if s != '!']"
   ]
  },
  {
   "cell_type": "markdown",
   "id": "6fb26839-abfb-4460-9299-cdb067c16047",
   "metadata": {},
   "source": [
    "#### 단어분절"
   ]
  },
  {
   "cell_type": "code",
   "execution_count": 4,
   "id": "1eec540c-b5e5-4959-8859-f1590cc02586",
   "metadata": {},
   "outputs": [],
   "source": [
    "example = sentences[0]\n",
    "[word[:word.find('/')] if word[:word.find('/')] else word for word in example.split()]"
   ]
  },
  {
   "cell_type": "code",
   "execution_count": 5,
   "id": "64847070-00fe-43e1-b8ff-6ca17f669c35",
   "metadata": {},
   "outputs": [],
   "source": [
    "# 전체문장에 적용\n",
    "sent_tokens = [[word[:word.find('/')] \\\n",
    "     if word[:word.find('/')] else word # punct에 있으면 버려라 \n",
    "         for word in example.split()] for example in sentences]\n",
    "\n",
    "sent_tokens [:1]"
   ]
  },
  {
   "cell_type": "markdown",
   "id": "9f0c49e4-d00a-4e82-a07e-affb019fbbfa",
   "metadata": {},
   "source": [
    "#### punctuation"
   ]
  },
  {
   "cell_type": "code",
   "execution_count": null,
   "id": "77187851-968e-4553-8d6b-837d06e0ced3",
   "metadata": {
    "tags": []
   },
   "outputs": [],
   "source": [
    "punct = list(string.punctuation)\n",
    "# 제거하기\n",
    "[[word for word in sent if word not in punct] for sent in sentence_tokens]"
   ]
  }
 ],
 "metadata": {
  "kernelspec": {
   "display_name": "Python 3 (ipykernel)",
   "language": "python",
   "name": "python3"
  },
  "language_info": {
   "codemirror_mode": {
    "name": "ipython",
    "version": 3
   },
   "file_extension": ".py",
   "mimetype": "text/x-python",
   "name": "python",
   "nbconvert_exporter": "python",
   "pygments_lexer": "ipython3",
   "version": "3.9.7"
  }
 },
 "nbformat": 4,
 "nbformat_minor": 5
}

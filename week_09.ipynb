{
 "cells": [
  {
   "cell_type": "markdown",
   "id": "b3cdb209-a84f-41c1-9a56-c94e39575339",
   "metadata": {},
   "source": [
    "## 고급파이썬프로그래밍 9주차"
   ]
  },
  {
   "cell_type": "markdown",
   "id": "078360d4-b2d2-4fcb-972e-27e35ca3a06c",
   "metadata": {},
   "source": [
    "## Dictionary\n",
    "- 영어 사전\n",
    "    - 단어:뜻 (키:값)\n",
    "    - 순서가 없다.\n",
    "    - \"키로 값을 찾는다\" -> 키는 중복 되지않는 고유한 값\n",
    "    - 가변: 수정, 삭제, 추가 가능\n",
    "    - 타입: dict\n",
    "    - 중괄호 사용 {}, 콤마로 구분함\n",
    "    - 값에 다양한 자료구조가 올 수 있음\n",
    "        - a:1, b:[1, 2, 3, 4]\n",
    "    "
   ]
  },
  {
   "cell_type": "code",
   "execution_count": 1,
   "id": "42f07b39-0347-4a81-bf80-f9c35506cd61",
   "metadata": {},
   "outputs": [
    {
     "data": {
      "text/plain": [
       "1"
      ]
     },
     "execution_count": 1,
     "metadata": {},
     "output_type": "execute_result"
    }
   ],
   "source": [
    "a = [1, 2, 3]\n",
    "a[0]"
   ]
  },
  {
   "cell_type": "code",
   "execution_count": 2,
   "id": "e3a038e6-aa11-4798-99a1-c3ac887a38d1",
   "metadata": {},
   "outputs": [
    {
     "data": {
      "text/plain": [
       "set"
      ]
     },
     "execution_count": 2,
     "metadata": {},
     "output_type": "execute_result"
    }
   ],
   "source": [
    "empty = dict()\n",
    "empty = {}\n",
    "# set {}\n",
    "empty = {}\n",
    "empty = set()\n",
    "type(empty)"
   ]
  },
  {
   "cell_type": "code",
   "execution_count": 3,
   "id": "174da5eb-025d-42da-8e8d-633b5e98f58a",
   "metadata": {},
   "outputs": [
    {
     "data": {
      "text/plain": [
       "{1: 'apple', 2: 'banana', 3: 'kiwi'}"
      ]
     },
     "execution_count": 3,
     "metadata": {},
     "output_type": "execute_result"
    }
   ],
   "source": [
    "a = {1, 2, 3} #set\n",
    "a = {1:'apple', 2:'banana', 3:'kiwi'} #dict\n",
    "a"
   ]
  },
  {
   "cell_type": "code",
   "execution_count": 4,
   "id": "71985e73-a0a3-4bbb-8aa3-e7d415395a03",
   "metadata": {},
   "outputs": [
    {
     "data": {
      "text/plain": [
       "{'apple': 'a', 'banana': 'b', 'kiwi': 'c'}"
      ]
     },
     "execution_count": 4,
     "metadata": {},
     "output_type": "execute_result"
    }
   ],
   "source": [
    "b = {'':'', '':'', '':''}\n",
    "b = dict(apple='a', banana='b', kiwi='c')\n",
    "b"
   ]
  },
  {
   "cell_type": "code",
   "execution_count": 5,
   "id": "cb83b20f-6d25-4677-a682-c63e79848f6f",
   "metadata": {},
   "outputs": [],
   "source": [
    "#출석부로 딕셔너리 만들기\n",
    "student_list = {202201:['james', '경제학과'], 202202:['louis', '컴공과'], 202203:['laura', '스페인어과']}"
   ]
  },
  {
   "cell_type": "markdown",
   "id": "7856957b-1a3f-42c2-a247-020c272768a4",
   "metadata": {},
   "source": [
    "### 형 변환"
   ]
  },
  {
   "cell_type": "code",
   "execution_count": 6,
   "id": "21587009-5579-4082-ad6b-0c770906bf73",
   "metadata": {},
   "outputs": [
    {
     "data": {
      "text/plain": [
       "{1: 2, 2: 3, 3: 4}"
      ]
     },
     "execution_count": 6,
     "metadata": {},
     "output_type": "execute_result"
    }
   ],
   "source": [
    "#페어가 있어야 변환 가능\n",
    "ex1 = [[1, 2], [2, 3], [3, 4]]\n",
    "dict(ex1)"
   ]
  },
  {
   "cell_type": "code",
   "execution_count": 8,
   "id": "a912c238-5a79-4b4c-bcef-1953b3f66b53",
   "metadata": {},
   "outputs": [
    {
     "data": {
      "text/plain": [
       "{1: 3}"
      ]
     },
     "execution_count": 8,
     "metadata": {},
     "output_type": "execute_result"
    }
   ],
   "source": [
    "ex2 = [(1, 2), (1, 2), (1, 3)]\n",
    "dict(ex2) #중복 제외"
   ]
  },
  {
   "cell_type": "code",
   "execution_count": 9,
   "id": "ba8435f7-0946-4af1-bf0d-07ee058b4a71",
   "metadata": {},
   "outputs": [
    {
     "data": {
      "text/plain": [
       "{'a': 'b', 'b': 'c', 'c': 'd'}"
      ]
     },
     "execution_count": 9,
     "metadata": {},
     "output_type": "execute_result"
    }
   ],
   "source": [
    "ex3 = ['ab', 'bc', 'cd'] #문자열 두자리까지만 가능\n",
    "dict(ex3)"
   ]
  },
  {
   "cell_type": "markdown",
   "id": "eaf38a76-9698-4e63-bd4f-9d1a2d2c8a5e",
   "metadata": {},
   "source": [
    "### 항목조회 & 변경"
   ]
  },
  {
   "cell_type": "code",
   "execution_count": 10,
   "id": "5d659289-3e0b-4783-b89c-d17b2e97f888",
   "metadata": {},
   "outputs": [],
   "source": [
    "pythons = {\n",
    "    'Chapman':'Graham',\n",
    "    'Cleese': 'John',\n",
    "    'Idle': 'Eric',\n",
    "    'Jones': 'Terry',\n",
    "    'Palin':'Michael'}"
   ]
  },
  {
   "cell_type": "code",
   "execution_count": 11,
   "id": "62a8578a-bbf1-468e-9157-0868cd5dd049",
   "metadata": {},
   "outputs": [
    {
     "data": {
      "text/plain": [
       "'Eric'"
      ]
     },
     "execution_count": 11,
     "metadata": {},
     "output_type": "execute_result"
    }
   ],
   "source": [
    "pythons['Idle']"
   ]
  },
  {
   "cell_type": "code",
   "execution_count": 12,
   "id": "8829c850-6d20-43b4-97fa-058d665e5c98",
   "metadata": {},
   "outputs": [
    {
     "ename": "KeyError",
     "evalue": "'Hwa'",
     "output_type": "error",
     "traceback": [
      "\u001b[0;31m---------------------------------------------------------------------------\u001b[0m",
      "\u001b[0;31mKeyError\u001b[0m                                  Traceback (most recent call last)",
      "\u001b[0;32m/var/folders/wh/tvv7pnrs1dv43fq_ywn935yh0000gn/T/ipykernel_5419/3179834019.py\u001b[0m in \u001b[0;36m<module>\u001b[0;34m\u001b[0m\n\u001b[0;32m----> 1\u001b[0;31m \u001b[0mpythons\u001b[0m\u001b[0;34m[\u001b[0m\u001b[0;34m'Hwa'\u001b[0m\u001b[0;34m]\u001b[0m\u001b[0;34m\u001b[0m\u001b[0;34m\u001b[0m\u001b[0m\n\u001b[0m",
      "\u001b[0;31mKeyError\u001b[0m: 'Hwa'"
     ]
    }
   ],
   "source": [
    "pythons['Hwa']"
   ]
  },
  {
   "cell_type": "code",
   "execution_count": 13,
   "id": "9f7ea6c0-d0cf-42a9-9fa8-f5cf934afb9e",
   "metadata": {},
   "outputs": [],
   "source": [
    "#변경\n",
    "pythons['Idle'] = 'James'\n",
    "\n",
    "#추가\n",
    "pythons['Hwa'] = 'Chloe'"
   ]
  },
  {
   "cell_type": "code",
   "execution_count": 14,
   "id": "d562c887-bab2-44dd-911c-fe830a971d83",
   "metadata": {},
   "outputs": [
    {
     "data": {
      "text/plain": [
       "{'Chapman': 'Graham',\n",
       " 'Cleese': 'John',\n",
       " 'Idle': 'James',\n",
       " 'Jones': 'Terry',\n",
       " 'Palin': 'Michael',\n",
       " 'Hwa': 'Chloe'}"
      ]
     },
     "execution_count": 14,
     "metadata": {},
     "output_type": "execute_result"
    }
   ],
   "source": [
    "pythons"
   ]
  },
  {
   "cell_type": "code",
   "execution_count": 18,
   "id": "cf937531-d6a0-492b-8f42-581ab964b6e6",
   "metadata": {},
   "outputs": [
    {
     "data": {
      "text/plain": [
       "True"
      ]
     },
     "execution_count": 18,
     "metadata": {},
     "output_type": "execute_result"
    }
   ],
   "source": [
    "#예외 없이1\n",
    "'Hwa' in pythons"
   ]
  },
  {
   "cell_type": "code",
   "execution_count": 17,
   "id": "a78ad445-87cf-4031-b15a-a3b36a8e124b",
   "metadata": {},
   "outputs": [
    {
     "data": {
      "text/plain": [
       "'Chloe'"
      ]
     },
     "execution_count": 17,
     "metadata": {},
     "output_type": "execute_result"
    }
   ],
   "source": [
    "#예외없이2 get()\n",
    "pythons.get('Hwa') #있으면 값반환"
   ]
  },
  {
   "cell_type": "code",
   "execution_count": 22,
   "id": "18fedaf2-fa86-4a01-8944-0511977e879c",
   "metadata": {},
   "outputs": [
    {
     "data": {
      "text/plain": [
       "0"
      ]
     },
     "execution_count": 22,
     "metadata": {},
     "output_type": "execute_result"
    }
   ],
   "source": [
    "pythons.get('Lee', 0) #없을때 반환값 설정"
   ]
  },
  {
   "cell_type": "markdown",
   "id": "7638d0cf-0d90-4cab-a27f-eb1f6cff0cc0",
   "metadata": {},
   "source": [
    "### 전체 조회\n",
    "- keys()\n",
    "- values()\n",
    "- items()"
   ]
  },
  {
   "cell_type": "code",
   "execution_count": 26,
   "id": "095c35a5-f66c-45c5-97db-aefc3f9d87b5",
   "metadata": {},
   "outputs": [
    {
     "data": {
      "text/plain": [
       "['Chapman', 'Cleese', 'Idle', 'Jones', 'Palin', 'Hwa']"
      ]
     },
     "execution_count": 26,
     "metadata": {},
     "output_type": "execute_result"
    }
   ],
   "source": [
    "list(pythons.keys())"
   ]
  },
  {
   "cell_type": "code",
   "execution_count": 24,
   "id": "2d387d7c-5035-446c-a8ec-7a54c7206c80",
   "metadata": {},
   "outputs": [
    {
     "data": {
      "text/plain": [
       "dict_values(['Graham', 'John', 'James', 'Terry', 'Michael', 'Chloe'])"
      ]
     },
     "execution_count": 24,
     "metadata": {},
     "output_type": "execute_result"
    }
   ],
   "source": [
    "pythons.values()"
   ]
  },
  {
   "cell_type": "code",
   "execution_count": 25,
   "id": "b57a8a1c-8cc2-441c-a645-d0e276b2f9f0",
   "metadata": {},
   "outputs": [
    {
     "data": {
      "text/plain": [
       "dict_items([('Chapman', 'Graham'), ('Cleese', 'John'), ('Idle', 'James'), ('Jones', 'Terry'), ('Palin', 'Michael'), ('Hwa', 'Chloe')])"
      ]
     },
     "execution_count": 25,
     "metadata": {},
     "output_type": "execute_result"
    }
   ],
   "source": [
    "pythons.items() #(키, 값) 튜플 형태로 -> 순회 많이 씀"
   ]
  },
  {
   "cell_type": "code",
   "execution_count": 28,
   "id": "dc8aa956-1081-4e6e-8ae8-7aea616223bd",
   "metadata": {},
   "outputs": [
    {
     "name": "stdout",
     "output_type": "stream",
     "text": [
      "Chapman = Graham\n",
      "Cleese = John\n",
      "Idle = James\n",
      "Jones = Terry\n",
      "Palin = Michael\n",
      "Hwa = Chloe\n"
     ]
    }
   ],
   "source": [
    "for k, v in pythons.items(): #list comprehension\n",
    "    print(f'{k} = {v}')"
   ]
  },
  {
   "cell_type": "code",
   "execution_count": 29,
   "id": "533f77c4-d305-4718-8524-5f059cc8e18c",
   "metadata": {},
   "outputs": [
    {
     "data": {
      "text/plain": [
       "[('Chapman', 'Graham'),\n",
       " ('Cleese', 'John'),\n",
       " ('Idle', 'James'),\n",
       " ('Jones', 'Terry'),\n",
       " ('Palin', 'Michael'),\n",
       " ('Hwa', 'Chloe')]"
      ]
     },
     "execution_count": 29,
     "metadata": {},
     "output_type": "execute_result"
    }
   ],
   "source": [
    "[(k, v) for k, v in pythons.items()]"
   ]
  },
  {
   "cell_type": "code",
   "execution_count": 31,
   "id": "4345988f-3ffd-4352-8d9a-896bfe4052f9",
   "metadata": {},
   "outputs": [
    {
     "data": {
      "text/plain": [
       "['Chapman', 'Cleese', 'Idle', 'Jones', 'Palin', 'Hwa']"
      ]
     },
     "execution_count": 31,
     "metadata": {},
     "output_type": "execute_result"
    }
   ],
   "source": [
    "[k[0] for k in pythons.items()] #인덱스 0 = key, 1 = value"
   ]
  },
  {
   "cell_type": "code",
   "execution_count": 32,
   "id": "40146203-e140-4e01-ab8b-64d739aada20",
   "metadata": {},
   "outputs": [
    {
     "data": {
      "text/plain": [
       "['Chapman', 'Cleese', 'Idle', 'Jones', 'Palin', 'Hwa']"
      ]
     },
     "execution_count": 32,
     "metadata": {},
     "output_type": "execute_result"
    }
   ],
   "source": [
    "[k for k in pythons] #keys"
   ]
  },
  {
   "cell_type": "markdown",
   "id": "70819a8f-59e8-4476-b75e-4991c2e79b8a",
   "metadata": {},
   "source": [
    "### ex\n",
    "Q. animal:num_leg 딕셔너리 만들기"
   ]
  },
  {
   "cell_type": "code",
   "execution_count": 33,
   "id": "28ae6b8c-9356-4f7e-b8ad-84dc8ec76baf",
   "metadata": {},
   "outputs": [],
   "source": [
    "animal = 'cat snake monkey ant spider'.split()\n",
    "legs = 4, 0, 2, 4, 8"
   ]
  },
  {
   "cell_type": "code",
   "execution_count": 36,
   "id": "183afd49-e138-45fe-823e-c0f2195b008a",
   "metadata": {},
   "outputs": [
    {
     "data": {
      "text/plain": [
       "{'cat': 4, 'snake': 0, 'monkey': 2, 'ant': 4, 'spider': 8}"
      ]
     },
     "execution_count": 36,
     "metadata": {},
     "output_type": "execute_result"
    }
   ],
   "source": [
    "animal_legs = dict([(k,v) for k, v in zip(animal, legs)])\n",
    "animal_legs"
   ]
  },
  {
   "cell_type": "markdown",
   "id": "fe92bca2-5f35-404f-a29a-771de382ff52",
   "metadata": {},
   "source": [
    "Q. pythons에서 성:이름, 성 첫글자만, 이름은 글자개수로 이루어진 튜플(성,이름) 리스트로 반환하기\n",
    "- dict comprehension 쓰지말기"
   ]
  },
  {
   "cell_type": "code",
   "execution_count": 35,
   "id": "3043612f-b68b-46db-bc4d-0411654bae37",
   "metadata": {},
   "outputs": [
    {
     "data": {
      "text/plain": [
       "[('C', 6), ('C', 4), ('I', 5), ('J', 5), ('P', 7), ('H', 5)]"
      ]
     },
     "execution_count": 35,
     "metadata": {},
     "output_type": "execute_result"
    }
   ],
   "source": [
    "[(k[0], len(v)) for k, v in pythons.items()]"
   ]
  },
  {
   "cell_type": "markdown",
   "id": "f5a54758-7380-416d-a642-5a9546d34f0a",
   "metadata": {},
   "source": [
    "### 값 수정, 삭제, 복제, 비교"
   ]
  },
  {
   "cell_type": "code",
   "execution_count": 37,
   "id": "33af0bc0-06a5-440e-ad1c-a24c7392d2ce",
   "metadata": {},
   "outputs": [
    {
     "data": {
      "text/plain": [
       "{'Chapman': 'Graham',\n",
       " 'Cleese': 'John',\n",
       " 'Idle': 'James',\n",
       " 'Jones': 'Terry',\n",
       " 'Palin': 'Michael',\n",
       " 'Hwa': 'Chloe'}"
      ]
     },
     "execution_count": 37,
     "metadata": {},
     "output_type": "execute_result"
    }
   ],
   "source": [
    "pythons"
   ]
  },
  {
   "cell_type": "code",
   "execution_count": 38,
   "id": "71b5d19d-6d81-4112-bd34-482f4459a946",
   "metadata": {},
   "outputs": [],
   "source": [
    "others = {\n",
    "    'Marx':'Groucho',\n",
    "    'Howard':'Moe'}"
   ]
  },
  {
   "cell_type": "code",
   "execution_count": 40,
   "id": "f6c803f2-1b7b-480c-a9b4-67aea318c465",
   "metadata": {},
   "outputs": [
    {
     "data": {
      "text/plain": [
       "{'Chapman': 'Graham',\n",
       " 'Cleese': 'John',\n",
       " 'Idle': 'James',\n",
       " 'Jones': 'Terry',\n",
       " 'Palin': 'Michael',\n",
       " 'Hwa': 'Chloe',\n",
       " 'Marx': 'Groucho',\n",
       " 'Howard': 'Moe'}"
      ]
     },
     "execution_count": 40,
     "metadata": {},
     "output_type": "execute_result"
    }
   ],
   "source": [
    "pythons.update(others) #딕셔너리 병합\n",
    "pythons"
   ]
  },
  {
   "cell_type": "code",
   "execution_count": 42,
   "id": "bb4ecd11-ea12-4740-8f54-a2c384504245",
   "metadata": {},
   "outputs": [
    {
     "data": {
      "text/plain": [
       "{'Marx': 'Groucho',\n",
       " 'Howard': 'Moe',\n",
       " 'Chapman': 'Graham',\n",
       " 'Cleese': 'John',\n",
       " 'Idle': 'James',\n",
       " 'Jones': 'Terry',\n",
       " 'Palin': 'Michael',\n",
       " 'Hwa': 'Chloe'}"
      ]
     },
     "execution_count": 42,
     "metadata": {},
     "output_type": "execute_result"
    }
   ],
   "source": [
    "{**others, **pythons} #병합2 (py3에만 존재)"
   ]
  },
  {
   "cell_type": "code",
   "execution_count": 43,
   "id": "b5e25bfe-ba88-42e5-b2d4-8d3a1fb71900",
   "metadata": {},
   "outputs": [
    {
     "ename": "KeyError",
     "evalue": "'Lee'",
     "output_type": "error",
     "traceback": [
      "\u001b[0;31m---------------------------------------------------------------------------\u001b[0m",
      "\u001b[0;31mKeyError\u001b[0m                                  Traceback (most recent call last)",
      "\u001b[0;32m/var/folders/wh/tvv7pnrs1dv43fq_ywn935yh0000gn/T/ipykernel_5419/2522327117.py\u001b[0m in \u001b[0;36m<module>\u001b[0;34m\u001b[0m\n\u001b[0;32m----> 1\u001b[0;31m \u001b[0;32mdel\u001b[0m \u001b[0mpythons\u001b[0m\u001b[0;34m[\u001b[0m\u001b[0;34m'Lee'\u001b[0m\u001b[0;34m]\u001b[0m\u001b[0;34m\u001b[0m\u001b[0;34m\u001b[0m\u001b[0m\n\u001b[0m",
      "\u001b[0;31mKeyError\u001b[0m: 'Lee'"
     ]
    }
   ],
   "source": [
    "del pythons['Lee']"
   ]
  },
  {
   "cell_type": "code",
   "execution_count": 44,
   "id": "c246f036-b56b-4892-ba43-3c8e92cd892e",
   "metadata": {},
   "outputs": [
    {
     "data": {
      "text/plain": [
       "'Groucho'"
      ]
     },
     "execution_count": 44,
     "metadata": {},
     "output_type": "execute_result"
    }
   ],
   "source": [
    "pythons.pop('Marx') #값 반환 후 삭제"
   ]
  },
  {
   "cell_type": "code",
   "execution_count": 46,
   "id": "acf8b7f1-47fd-48a6-bbfd-afa922fd18ad",
   "metadata": {},
   "outputs": [
    {
     "data": {
      "text/plain": [
       "0"
      ]
     },
     "execution_count": 46,
     "metadata": {},
     "output_type": "execute_result"
    }
   ],
   "source": [
    "pythons.pop('Lee', 0) #없을때 반환값 설정, 반환값 없으면 에러"
   ]
  },
  {
   "cell_type": "code",
   "execution_count": 47,
   "id": "f864b019-6a76-438e-b5d8-d3f50d23a6f7",
   "metadata": {},
   "outputs": [],
   "source": [
    "#전체 삭제\n",
    "pythons.clear()\n",
    "pythons = {}"
   ]
  },
  {
   "cell_type": "code",
   "execution_count": 48,
   "id": "7962a801-10eb-4206-8d37-27974f6edd39",
   "metadata": {},
   "outputs": [
    {
     "data": {
      "text/plain": [
       "{}"
      ]
     },
     "execution_count": 48,
     "metadata": {},
     "output_type": "execute_result"
    }
   ],
   "source": [
    "pythons"
   ]
  },
  {
   "cell_type": "markdown",
   "id": "b6257a26-be79-49a6-bd43-2bc535139c40",
   "metadata": {},
   "source": [
    "### 복제\n",
    "- 할당 a = b\n",
    "- 얕은 복사 c = a.copy()\n",
    "- 깊은 복사"
   ]
  },
  {
   "cell_type": "code",
   "execution_count": 49,
   "id": "9b3f005a-9951-41f6-8887-c092ddf7a233",
   "metadata": {},
   "outputs": [
    {
     "data": {
      "text/plain": [
       "({1: 45, 2: 2, 3: 3}, {1: 45, 2: 2, 3: 3})"
      ]
     },
     "execution_count": 49,
     "metadata": {},
     "output_type": "execute_result"
    }
   ],
   "source": [
    "a = {1:1, 2:2, 3:3}\n",
    "b = a\n",
    "a[1] = 45\n",
    "a, b"
   ]
  },
  {
   "cell_type": "code",
   "execution_count": 56,
   "id": "5d5973a4-b0f2-4ab2-b468-b7409e070c8e",
   "metadata": {},
   "outputs": [
    {
     "data": {
      "text/plain": [
       "({1: 1, 2: 22, 3: 3}, {1: 1, 2: 2, 3: 3})"
      ]
     },
     "execution_count": 56,
     "metadata": {},
     "output_type": "execute_result"
    }
   ],
   "source": [
    "a = {1:1, 2:2, 3:3}\n",
    "c = a.copy() #얕은복사\n",
    "a[2] = 22\n",
    "a, c"
   ]
  },
  {
   "cell_type": "code",
   "execution_count": 58,
   "id": "e2d27ca0-7c50-4f29-9988-e5d431d95beb",
   "metadata": {},
   "outputs": [
    {
     "data": {
      "text/plain": [
       "({1: [100, 2, 3], 2: [2, 3, 4]}, {1: [100, 2, 3], 2: [2, 3, 4]})"
      ]
     },
     "execution_count": 58,
     "metadata": {},
     "output_type": "execute_result"
    }
   ],
   "source": [
    "z = {1:[1, 2, 3], 2:[2, 3, 4]} \n",
    "d = z.copy()\n",
    "z[1][0] = 100\n",
    "z, d # d 값도 바뀜 (얕은 복사 문제점)"
   ]
  },
  {
   "cell_type": "code",
   "execution_count": 62,
   "id": "b3a47bfb-5365-4642-bd07-61ae4007ad28",
   "metadata": {},
   "outputs": [
    {
     "data": {
      "text/plain": [
       "({1: [100, 999, 3], 2: [2, 3, 4]}, {1: [100, 999, 3], 2: [2, 3, 4]})"
      ]
     },
     "execution_count": 62,
     "metadata": {},
     "output_type": "execute_result"
    }
   ],
   "source": [
    "import copy\n",
    "e = copy.deepcopy(z) #깊은 복사\n",
    "z[1][1] = 999\n",
    "z, e"
   ]
  },
  {
   "cell_type": "markdown",
   "id": "8327af77-5349-4a75-9924-8540d4c7efb8",
   "metadata": {},
   "source": [
    "### 비교\n",
    "- 같다, 다르다만 가능"
   ]
  },
  {
   "cell_type": "code",
   "execution_count": 63,
   "id": "ec803793-b810-4002-b619-2003c7cc44b1",
   "metadata": {},
   "outputs": [
    {
     "data": {
      "text/plain": [
       "True"
      ]
     },
     "execution_count": 63,
     "metadata": {},
     "output_type": "execute_result"
    }
   ],
   "source": [
    "a != b"
   ]
  },
  {
   "cell_type": "markdown",
   "id": "b4432f65-325b-43c9-990e-5f4386155419",
   "metadata": {},
   "source": [
    "### ex\n",
    "1. 두 리스트로 하나의 딕셔너리 생성\n",
    "2. 명왕성 = pluto 추가하기\n",
    "3. '성'으로 끝나지 않는 키 삭제하기 \n",
    "4. sorted 이용해서 값 정렬하기"
   ]
  },
  {
   "cell_type": "code",
   "execution_count": 67,
   "id": "a5859d99-9a45-4b64-a4f8-8888894db0df",
   "metadata": {},
   "outputs": [
    {
     "data": {
      "text/plain": [
       "['earth',\n",
       " 'jupiter',\n",
       " 'mars',\n",
       " 'mercury',\n",
       " 'neptune',\n",
       " 'pluto',\n",
       " 'saturn',\n",
       " 'sun',\n",
       " 'uranus',\n",
       " 'venus']"
      ]
     },
     "execution_count": 67,
     "metadata": {},
     "output_type": "execute_result"
    }
   ],
   "source": [
    "solar_kor = '태양 수성 금성 지구 화성 목성 토성 천왕성 해왕성'.split()\n",
    "solar_eng = 'sun mercury venus earth mars jupiter saturn uranus neptune'.split()\n",
    "\n",
    "dict_solar = dict([(k, v)for k, v in zip(solar_kor, solar_eng)])\n",
    "dict_solar['명왕성'] = 'pluto'\n",
    "dict([(k, v) for k, v in dict_solar.items() if k.endswith('성')])\n",
    "sorted(dict_solar.keys())\n",
    "sorted(dict_solar.values())"
   ]
  },
  {
   "cell_type": "markdown",
   "id": "d9aa17a3-a4b4-4089-a46b-3a061c43e8b4",
   "metadata": {},
   "source": [
    "### 컴프리헨션"
   ]
  },
  {
   "cell_type": "code",
   "execution_count": 68,
   "id": "0e5701a7-e1ae-4c07-853f-c3e2a468c332",
   "metadata": {},
   "outputs": [
    {
     "data": {
      "text/plain": [
       "{'a': 1, 'p': 2, 'l': 1, 'e': 1}"
      ]
     },
     "execution_count": 68,
     "metadata": {},
     "output_type": "execute_result"
    }
   ],
   "source": [
    "letter = 'apple'\n",
    "#a: 1, p: 2, ...\n",
    "{ch: letter.count(ch) for ch in letter}"
   ]
  },
  {
   "cell_type": "code",
   "execution_count": 69,
   "id": "fe5bdf76-72b2-4f6d-a888-c579460a58f5",
   "metadata": {},
   "outputs": [
    {
     "data": {
      "text/plain": [
       "{'a': 3, 'o': 3, 'i': 1, 'e': 1}"
      ]
     },
     "execution_count": 69,
     "metadata": {},
     "output_type": "execute_result"
    }
   ],
   "source": [
    "#단어의 모음세기\n",
    "vowels = 'aeiou'\n",
    "word = 'anomatopoeia'\n",
    "{v:word.count(v) for v in vowels if v in word} #vowels 순회\n",
    "{w:word.count(w) for w in set(word) if w in vowels} #word 순회"
   ]
  },
  {
   "cell_type": "markdown",
   "id": "ad1785c8-35b3-45f7-a9e5-92f5c64ee6d4",
   "metadata": {},
   "source": [
    "#### sorting"
   ]
  },
  {
   "cell_type": "code",
   "execution_count": 73,
   "id": "f17e9d98-314f-417b-b936-8d5aadd3a776",
   "metadata": {},
   "outputs": [
    {
     "data": {
      "text/plain": [
       "[('지구', 'earth'),\n",
       " ('목성', 'jupiter'),\n",
       " ('화성', 'mars'),\n",
       " ('수성', 'mercury'),\n",
       " ('해왕성', 'neptune'),\n",
       " ('명왕성', 'pluto'),\n",
       " ('토성', 'saturn'),\n",
       " ('태양', 'sun'),\n",
       " ('천왕성', 'uranus'),\n",
       " ('금성', 'venus')]"
      ]
     },
     "execution_count": 73,
     "metadata": {},
     "output_type": "execute_result"
    }
   ],
   "source": [
    "sorted(dict_solar.items(), key=fx) #key함수 기준으로 정렬"
   ]
  },
  {
   "cell_type": "code",
   "execution_count": 71,
   "id": "98626e6c-f7ef-47b0-9784-b36bb0aca5f6",
   "metadata": {},
   "outputs": [],
   "source": [
    "def fx(x):\n",
    "    return x[1]"
   ]
  },
  {
   "cell_type": "code",
   "execution_count": 75,
   "id": "c19bf623-178f-471f-a1d7-ea7dfe6e2ba3",
   "metadata": {},
   "outputs": [
    {
     "data": {
      "text/plain": [
       "[('지구', 'earth'),\n",
       " ('목성', 'jupiter'),\n",
       " ('화성', 'mars'),\n",
       " ('수성', 'mercury'),\n",
       " ('해왕성', 'neptune'),\n",
       " ('명왕성', 'pluto'),\n",
       " ('토성', 'saturn'),\n",
       " ('태양', 'sun'),\n",
       " ('천왕성', 'uranus'),\n",
       " ('금성', 'venus')]"
      ]
     },
     "execution_count": 75,
     "metadata": {},
     "output_type": "execute_result"
    }
   ],
   "source": [
    "sorted(dict_solar.items(), key=lambda x: x[1]) #함수 fx -> lambda"
   ]
  },
  {
   "cell_type": "markdown",
   "id": "524d796c-b1a5-440e-999a-94900bec7ed6",
   "metadata": {},
   "source": [
    "### Set\n",
    "- 중복이 없다 (딕셔너리의 키만 가지는 것과 비슷)\n",
    "- 집합(교집합, 합집합, 차집합..)\n",
    "- bag(순서, 중복 없음), 인덱싱 없음"
   ]
  },
  {
   "cell_type": "code",
   "execution_count": 76,
   "id": "2c1528f2-2b67-4b72-88f7-466c54636f3b",
   "metadata": {},
   "outputs": [
    {
     "data": {
      "text/plain": [
       "set()"
      ]
     },
     "execution_count": 76,
     "metadata": {},
     "output_type": "execute_result"
    }
   ],
   "source": [
    "empty = set()\n",
    "empty"
   ]
  },
  {
   "cell_type": "code",
   "execution_count": 77,
   "id": "e43bf8bf-bd9d-4980-8b28-e202e17486aa",
   "metadata": {},
   "outputs": [
    {
     "data": {
      "text/plain": [
       "{1, 2, 3}"
      ]
     },
     "execution_count": 77,
     "metadata": {},
     "output_type": "execute_result"
    }
   ],
   "source": [
    "a = {1, 2, 3}\n",
    "a"
   ]
  },
  {
   "cell_type": "code",
   "execution_count": 78,
   "id": "178117cb-f10b-40f5-9649-1703bc6965cd",
   "metadata": {},
   "outputs": [
    {
     "data": {
      "text/plain": [
       "{1, 2, 3}"
      ]
     },
     "execution_count": 78,
     "metadata": {},
     "output_type": "execute_result"
    }
   ],
   "source": [
    "a = set((1, 2, 3)) #선언, 형 변환\n",
    "a"
   ]
  },
  {
   "cell_type": "code",
   "execution_count": 82,
   "id": "e369505b-11b2-4114-9bb2-8c1e7c74aee7",
   "metadata": {},
   "outputs": [
    {
     "data": {
      "text/plain": [
       "{1, 2, 3, 4}"
      ]
     },
     "execution_count": 82,
     "metadata": {},
     "output_type": "execute_result"
    }
   ],
   "source": [
    "#추가\n",
    "a.add(4)\n",
    "a"
   ]
  },
  {
   "cell_type": "code",
   "execution_count": 83,
   "id": "0dfc31fe-ebc6-4269-a636-d5848a428eb2",
   "metadata": {},
   "outputs": [
    {
     "data": {
      "text/plain": [
       "{1, 2, 3}"
      ]
     },
     "execution_count": 83,
     "metadata": {},
     "output_type": "execute_result"
    }
   ],
   "source": [
    "#삭제\n",
    "a.remove(4)\n",
    "a"
   ]
  },
  {
   "cell_type": "code",
   "execution_count": 85,
   "id": "111c244c-a516-476a-a808-1bbca7f1f8be",
   "metadata": {},
   "outputs": [],
   "source": [
    "drinks = {\n",
    "    'martini': {'vodka', 'vermouth'},\n",
    "    'black russian': {'vodka', 'kahlua'},\n",
    "    'white russian': {'cream', 'kahlua', 'vodka'},\n",
    "    'manhattan': {'rye', 'vermouth', 'bitters'},\n",
    "    'screwdriver': {'orange juice', 'vodka'} }\n",
    "\n",
    "#vodka 포함된 술 출력\n",
    "#vodka 있지만 cream, vermouth 없는 술 출력"
   ]
  },
  {
   "cell_type": "code",
   "execution_count": 87,
   "id": "f363d0fd-749c-40c7-be83-d80b198fbcd2",
   "metadata": {},
   "outputs": [
    {
     "data": {
      "text/plain": [
       "{'martini': {'vermouth', 'vodka'},\n",
       " 'black russian': {'kahlua', 'vodka'},\n",
       " 'white russian': {'cream', 'kahlua', 'vodka'},\n",
       " 'screwdriver': {'orange juice', 'vodka'}}"
      ]
     },
     "execution_count": 87,
     "metadata": {},
     "output_type": "execute_result"
    }
   ],
   "source": [
    "{key: value for key, value in drinks.items() if ('vodka' in value)}"
   ]
  },
  {
   "cell_type": "code",
   "execution_count": 91,
   "id": "cac14851-cb43-424b-8e22-3f7140eb47d8",
   "metadata": {},
   "outputs": [
    {
     "data": {
      "text/plain": [
       "{'black russian': {'kahlua', 'vodka'},\n",
       " 'screwdriver': {'orange juice', 'vodka'}}"
      ]
     },
     "execution_count": 91,
     "metadata": {},
     "output_type": "execute_result"
    }
   ],
   "source": [
    "{key: value for key, value in drinks.items() \n",
    " if ('vodka' in value) and ('cream' not in value) and ('vermouth' not in value)}"
   ]
  },
  {
   "cell_type": "code",
   "execution_count": 92,
   "id": "b761db1b-6b1c-4ab9-afed-43922e93aeb7",
   "metadata": {},
   "outputs": [
    {
     "data": {
      "text/plain": [
       "({1}, {4})"
      ]
     },
     "execution_count": 92,
     "metadata": {},
     "output_type": "execute_result"
    }
   ],
   "source": [
    "a = {1, 2, 3}\n",
    "b = {2, 3, 4}\n",
    "\n",
    "# 교집합 | intersection\n",
    "a.intersection(b)\n",
    "a & b\n",
    "\n",
    "# 합집합 | union\n",
    "a.union(b)\n",
    "a | b\n",
    "\n",
    "# 차집합 | difference\n",
    "a.difference(b)\n",
    "a - b, b - a"
   ]
  },
  {
   "cell_type": "code",
   "execution_count": 95,
   "id": "fea8a19b-2bc6-424c-8273-3b2b25c08883",
   "metadata": {},
   "outputs": [
    {
     "name": "stdout",
     "output_type": "stream",
     "text": [
      "black russian\n",
      "screwdriver\n"
     ]
    }
   ],
   "source": [
    "#set 활용해서 바꾸기\n",
    "for k, v in drinks.items():\n",
    "    #if v & {'vodka'} and not v & {'cream', 'vermouth'}:\n",
    "    if 'vodka' in v and not v & {'cream', 'vermouth'}:\n",
    "        print(k)"
   ]
  },
  {
   "cell_type": "code",
   "execution_count": 96,
   "id": "80a74881-66d7-48b2-a5cd-64f29c6710b2",
   "metadata": {},
   "outputs": [
    {
     "data": {
      "text/plain": [
       "{0, 1, 2, 3, 4}"
      ]
     },
     "execution_count": 96,
     "metadata": {},
     "output_type": "execute_result"
    }
   ],
   "source": [
    "{s for s in range(5)}"
   ]
  },
  {
   "cell_type": "code",
   "execution_count": 97,
   "id": "751fb541-4dcf-46dd-acff-efbc5934aa81",
   "metadata": {},
   "outputs": [
    {
     "data": {
      "text/plain": [
       "frozenset({1, 2})"
      ]
     },
     "execution_count": 97,
     "metadata": {},
     "output_type": "execute_result"
    }
   ],
   "source": [
    "# frozenset\n",
    "set([1, 2])\n",
    "frozenset([1, 2])"
   ]
  }
 ],
 "metadata": {
  "kernelspec": {
   "display_name": "Python 3 (ipykernel)",
   "language": "python",
   "name": "python3"
  },
  "language_info": {
   "codemirror_mode": {
    "name": "ipython",
    "version": 3
   },
   "file_extension": ".py",
   "mimetype": "text/x-python",
   "name": "python",
   "nbconvert_exporter": "python",
   "pygments_lexer": "ipython3",
   "version": "3.9.7"
  }
 },
 "nbformat": 4,
 "nbformat_minor": 5
}

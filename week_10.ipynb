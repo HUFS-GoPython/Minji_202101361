{
 "cells": [
  {
   "cell_type": "markdown",
   "id": "ee9fd606-311e-4175-86a6-e042131e6bd2",
   "metadata": {},
   "source": [
    "## 고급파이썬프로그래밍 10주차"
   ]
  },
  {
   "cell_type": "markdown",
   "id": "bf6e3cb9-8e9d-4f88-8399-2cecd97e6519",
   "metadata": {},
   "source": [
    "### 객체와 클래스\n",
    "- object\n",
    "- 객체지향프로그래밍\n",
    "- 속성과 행도을 가지는 개념, 실존하는 물체?\n",
    "    - 예: 자동차, 강아지, 꽃, ..thing\n",
    "    - 속성: 자동차 - 브랜드, 색, 속도, 모델, .. => 변수\n",
    "        - 강아지 - 이름, 종색, 무게, ..\n",
    "    - 행동: 자동차 - 가다, 서다, 회전, 주차, .. => 메소드(함수)\n",
    "        - 뛰다, 짖다, 자다, 핥다, ..\n",
    "- 편의점 -> \"고객이 편의점에서 과자를 샀다\"\n",
    "    -> 고객 = 사람,         편의점,                     과자 = 물건\n",
    "        - 이름             -재고, 수익                 - 이름, 브랜드, 가격\n",
    "        - 물건 사다, 돈 내다  - 팔다, 수익 남기다, 물건 등록  - 없음\n",
    "    -> 상호작용으로 코드를 구성하는것"
   ]
  },
  {
   "cell_type": "markdown",
   "id": "3a3f35ba-f994-4fcc-8518-b180e411a1cb",
   "metadata": {},
   "source": [
    "- 첫글자 대문자\n",
    "- nice car -> Nice_car(x)\n",
    "- NiceCar(o)\n",
    "\n",
    "- 정의부, 선언부\n",
    "    - 정의부 = 붕어빵 틀\n",
    "    - 선언부 = 붕어빵"
   ]
  },
  {
   "cell_type": "code",
   "execution_count": 5,
   "id": "8e7e6cb5-0506-4b06-9814-5f56566742f4",
   "metadata": {},
   "outputs": [
    {
     "data": {
      "text/plain": [
       "<__main__.Car at 0x7fb610175dc0>"
      ]
     },
     "execution_count": 5,
     "metadata": {},
     "output_type": "execute_result"
    }
   ],
   "source": [
    "# 정의부\n",
    "class Car: # 객체\n",
    "    pass\n",
    "\n",
    "# 선언부\n",
    "my_car = Car()\n",
    "my_car # instance = 붕어빵"
   ]
  },
  {
   "cell_type": "code",
   "execution_count": 6,
   "id": "5f588a14-7e1d-45eb-8611-19cc5298ac3e",
   "metadata": {},
   "outputs": [],
   "source": [
    "my_car.name = 'bmw'\n",
    "my_car.color = 'white'"
   ]
  },
  {
   "cell_type": "code",
   "execution_count": 7,
   "id": "1cfb5c9f-5293-49a8-8496-bb27de18fac0",
   "metadata": {},
   "outputs": [
    {
     "data": {
      "text/plain": [
       "'bmw'"
      ]
     },
     "execution_count": 7,
     "metadata": {},
     "output_type": "execute_result"
    }
   ],
   "source": [
    "my_car.name"
   ]
  },
  {
   "cell_type": "code",
   "execution_count": 8,
   "id": "df96014a-8358-4192-8cca-d580a4d7803f",
   "metadata": {},
   "outputs": [],
   "source": [
    "class Car:\n",
    "    name = 'BMW'"
   ]
  },
  {
   "cell_type": "code",
   "execution_count": 9,
   "id": "90e84e8d-11cf-4fb9-ac67-9f1c696fafff",
   "metadata": {},
   "outputs": [],
   "source": [
    "your_car = Car()"
   ]
  },
  {
   "cell_type": "code",
   "execution_count": 11,
   "id": "133f5325-68c9-4063-8864-f5e0942cbc44",
   "metadata": {},
   "outputs": [
    {
     "data": {
      "text/plain": [
       "'Kia'"
      ]
     },
     "execution_count": 11,
     "metadata": {},
     "output_type": "execute_result"
    }
   ],
   "source": [
    "your_car.name = 'Kia'\n",
    "your_car.name"
   ]
  },
  {
   "cell_type": "code",
   "execution_count": 26,
   "id": "301697c8-ef96-4165-ba00-1ae25dcf0287",
   "metadata": {},
   "outputs": [],
   "source": [
    "#2.\n",
    "class Car:\n",
    "    def __init__(self, name): # 속성 초기화 함수\n",
    "        # 객체 만들떄 들어오는 값으로 이름을 설정하고 싶다\n",
    "        self.name = name\n",
    "        # self == instance"
   ]
  },
  {
   "cell_type": "code",
   "execution_count": 20,
   "id": "39bdd963-7357-4b70-b828-5bfb4e9c4e33",
   "metadata": {},
   "outputs": [],
   "source": [
    "her_car = Car(name = 'Hyundai')"
   ]
  },
  {
   "cell_type": "code",
   "execution_count": 21,
   "id": "e616045c-0851-4c30-a9cc-29996c8e64bf",
   "metadata": {},
   "outputs": [
    {
     "data": {
      "text/plain": [
       "'Hyundai'"
      ]
     },
     "execution_count": 21,
     "metadata": {},
     "output_type": "execute_result"
    }
   ],
   "source": [
    "her_car.name"
   ]
  },
  {
   "cell_type": "code",
   "execution_count": 22,
   "id": "bc968a78-e83e-403d-8d3f-5817c8d11519",
   "metadata": {},
   "outputs": [
    {
     "data": {
      "text/plain": [
       "'Toyota'"
      ]
     },
     "execution_count": 22,
     "metadata": {},
     "output_type": "execute_result"
    }
   ],
   "source": [
    "car2 = Car(name = 'Toyota')\n",
    "car2.name"
   ]
  },
  {
   "cell_type": "code",
   "execution_count": 23,
   "id": "57671752-8a40-4570-8dac-5acdf7e41f96",
   "metadata": {},
   "outputs": [],
   "source": [
    "# 모델, 색 추가\n",
    "class Car:\n",
    "    def __init__(self, name, model, color):\n",
    "        self.name = name\n",
    "        self.model = model\n",
    "        self.color = color"
   ]
  },
  {
   "cell_type": "code",
   "execution_count": 24,
   "id": "b50f65b1-25dc-4957-a193-720ec3a68144",
   "metadata": {},
   "outputs": [],
   "source": [
    "my_car = Car(name = 'kia', model = 'sm6', color = 'black')"
   ]
  },
  {
   "cell_type": "code",
   "execution_count": 25,
   "id": "796e96fe-f31d-4d69-9155-05448e629cab",
   "metadata": {},
   "outputs": [],
   "source": [
    "class Car:\n",
    "    def __init__(self, name, model=None , color='black'):\n",
    "        #4 컬러 들어오면 그걸로, 아니면 블랙\n",
    "        #5 모델을 생성할떄 안넣어도 되게\n",
    "        self.name = name\n",
    "        self.model = model\n",
    "        self.color = color\n",
    "    def drive(self):\n",
    "        #1. 차가 출발합니다\n",
    "        print(f'{self.name}가 갑니다')#1\n",
    "    def stop(self):\n",
    "        print('차가 섭니다')\n",
    "    def change_color(self, color):\n",
    "        #self.color = 'gray'#2 그레이로 색 변경\n",
    "        self.color = color #3 컬러 받아서 지정"
   ]
  },
  {
   "cell_type": "markdown",
   "id": "df9431e2-b2b1-481c-b085-9685ba87b509",
   "metadata": {},
   "source": [
    "#### 캡슐화, 정보 은닉\n",
    "- public -> private\n",
    "- getter, setter"
   ]
  },
  {
   "cell_type": "code",
   "execution_count": 27,
   "id": "f8465629-98c6-42a6-a163-790ea6282318",
   "metadata": {},
   "outputs": [
    {
     "data": {
      "text/plain": [
       "'red'"
      ]
     },
     "execution_count": 27,
     "metadata": {},
     "output_type": "execute_result"
    }
   ],
   "source": [
    "class Fruit:\n",
    "    color = 'red'\n",
    "kiwi = Fruit()\n",
    "kiwi.color"
   ]
  },
  {
   "cell_type": "code",
   "execution_count": 29,
   "id": "4a877028-f8e0-4440-b607-dca68b301b93",
   "metadata": {},
   "outputs": [
    {
     "data": {
      "text/plain": [
       "'black'"
      ]
     },
     "execution_count": 29,
     "metadata": {},
     "output_type": "execute_result"
    }
   ],
   "source": [
    "Fruit.color = 'black'\n",
    "apple = Fruit()\n",
    "apple.color"
   ]
  },
  {
   "cell_type": "markdown",
   "id": "02256354-df37-4f33-af4c-a2e747605ff7",
   "metadata": {},
   "source": [
    "#### get, set\n",
    "- getter: 클래스 내 객체 변수 변환\n",
    "- setter: == 변수설정\n"
   ]
  },
  {
   "cell_type": "code",
   "execution_count": 30,
   "id": "7c15cc2f-d026-42cb-9760-21feca3df730",
   "metadata": {},
   "outputs": [],
   "source": [
    "class Car:\n",
    "    def __init__(self, input_name):\n",
    "        self.name = input_name\n",
    "        \n",
    "    def get_name(self):\n",
    "        #변수 반환\n",
    "        return self.name\n",
    "        \n",
    "    def set_name(self, input_name):\n",
    "        self.name = input_name\n",
    "\n",
    "c = Car('name1')"
   ]
  },
  {
   "cell_type": "code",
   "execution_count": 31,
   "id": "4e72d296-4733-4467-b293-586ac966b145",
   "metadata": {},
   "outputs": [
    {
     "data": {
      "text/plain": [
       "'name1'"
      ]
     },
     "execution_count": 31,
     "metadata": {},
     "output_type": "execute_result"
    }
   ],
   "source": [
    "c.get_name()"
   ]
  },
  {
   "cell_type": "code",
   "execution_count": 33,
   "id": "7dd4a568-4138-4cd6-a52e-fef1ca9f847f",
   "metadata": {},
   "outputs": [
    {
     "data": {
      "text/plain": [
       "'name2'"
      ]
     },
     "execution_count": 33,
     "metadata": {},
     "output_type": "execute_result"
    }
   ],
   "source": [
    "c.set_name('name2')\n",
    "c.name"
   ]
  },
  {
   "cell_type": "code",
   "execution_count": 34,
   "id": "2866848e-6ee5-48b7-ac00-9b663b5c9e2e",
   "metadata": {},
   "outputs": [
    {
     "data": {
      "text/plain": [
       "'name3'"
      ]
     },
     "execution_count": 34,
     "metadata": {},
     "output_type": "execute_result"
    }
   ],
   "source": [
    "c.name = 'name3'\n",
    "c.name"
   ]
  },
  {
   "cell_type": "markdown",
   "id": "2d31712b-f6af-483b-865f-e4cac43c36c5",
   "metadata": {},
   "source": [
    "#### 2."
   ]
  },
  {
   "cell_type": "code",
   "execution_count": 36,
   "id": "54f10d9a-c7e7-4916-a68c-030be1db6773",
   "metadata": {},
   "outputs": [
    {
     "data": {
      "text/plain": [
       "'name_1'"
      ]
     },
     "execution_count": 36,
     "metadata": {},
     "output_type": "execute_result"
    }
   ],
   "source": [
    "class Car:\n",
    "    def __init__(self, input_name):\n",
    "        self.hidden_name = input_name\n",
    "        \n",
    "    def get_name(self):\n",
    "        #변수 반환\n",
    "        return self.hidden_name\n",
    "        \n",
    "    def set_name(self, input_name):\n",
    "        self.hidden_name = input_name\n",
    "\n",
    "    name = property(get_name, set_name)\n",
    "    \n",
    "d = Car('name_1')\n",
    "d.name"
   ]
  },
  {
   "cell_type": "markdown",
   "id": "bc450f74-9f11-4209-8ceb-269bdf91c229",
   "metadata": {},
   "source": [
    "#### 3."
   ]
  },
  {
   "cell_type": "code",
   "execution_count": 41,
   "id": "f8f48d4c-894c-48e4-8e97-def6cdbb92d8",
   "metadata": {},
   "outputs": [],
   "source": [
    "class Car:\n",
    "    def __init__(self, input_name):\n",
    "        self.hidden_name = input_name\n",
    "    #decorator\n",
    "    @property\n",
    "    def name(self):\n",
    "        #변수 반환\n",
    "        return self.hidden_name\n",
    "    \n",
    "    @name.setter\n",
    "    def name(self, input_name):\n",
    "        self.hidden_name = input_name"
   ]
  },
  {
   "cell_type": "code",
   "execution_count": 38,
   "id": "795c79d4-242d-4378-a2cb-c73fa419425a",
   "metadata": {},
   "outputs": [
    {
     "data": {
      "text/plain": [
       "'name a'"
      ]
     },
     "execution_count": 38,
     "metadata": {},
     "output_type": "execute_result"
    }
   ],
   "source": [
    "e = Car('name a')\n",
    "e.name"
   ]
  },
  {
   "cell_type": "code",
   "execution_count": 40,
   "id": "dedc517d-9aa4-416f-8f5b-100f47bc5ba0",
   "metadata": {},
   "outputs": [
    {
     "data": {
      "text/plain": [
       "'name a'"
      ]
     },
     "execution_count": 40,
     "metadata": {},
     "output_type": "execute_result"
    }
   ],
   "source": [
    "e.hidden_name #완벽히 가리지 못함"
   ]
  },
  {
   "cell_type": "markdown",
   "id": "f5e2fecc-59a4-425f-b511-5bdb6cd5fcdd",
   "metadata": {},
   "source": [
    "#### 4."
   ]
  },
  {
   "cell_type": "code",
   "execution_count": 42,
   "id": "152f12a7-10c4-4717-9a91-4b27566fe5dd",
   "metadata": {},
   "outputs": [],
   "source": [
    "class Car:\n",
    "    def __init__(self, input_name):\n",
    "        self.__name = input_name\n",
    "    #decorator\n",
    "    @property\n",
    "    def name(self):\n",
    "        #변수 반환\n",
    "        return self.__name\n",
    "    \n",
    "    @name.setter\n",
    "    def name(self, input_name):\n",
    "        self.__name = input_name"
   ]
  },
  {
   "cell_type": "code",
   "execution_count": 44,
   "id": "507cf082-23ae-4908-804e-db664759ef44",
   "metadata": {},
   "outputs": [
    {
     "ename": "AttributeError",
     "evalue": "'Car' object has no attribute '__name'",
     "output_type": "error",
     "traceback": [
      "\u001b[0;31m---------------------------------------------------------------------------\u001b[0m",
      "\u001b[0;31mAttributeError\u001b[0m                            Traceback (most recent call last)",
      "\u001b[0;32m/var/folders/wh/tvv7pnrs1dv43fq_ywn935yh0000gn/T/ipykernel_12317/229484777.py\u001b[0m in \u001b[0;36m<module>\u001b[0;34m\u001b[0m\n\u001b[1;32m      1\u001b[0m \u001b[0mf\u001b[0m \u001b[0;34m=\u001b[0m \u001b[0mCar\u001b[0m\u001b[0;34m(\u001b[0m\u001b[0;34m'name b'\u001b[0m\u001b[0;34m)\u001b[0m\u001b[0;34m\u001b[0m\u001b[0;34m\u001b[0m\u001b[0m\n\u001b[0;32m----> 2\u001b[0;31m \u001b[0mf\u001b[0m\u001b[0;34m.\u001b[0m\u001b[0m__name\u001b[0m\u001b[0;34m\u001b[0m\u001b[0;34m\u001b[0m\u001b[0m\n\u001b[0m",
      "\u001b[0;31mAttributeError\u001b[0m: 'Car' object has no attribute '__name'"
     ]
    }
   ],
   "source": [
    "f = Car('name b')\n",
    "f.__name "
   ]
  },
  {
   "cell_type": "code",
   "execution_count": 46,
   "id": "0ed2e785-2af0-44b4-ac6e-b9484c223e63",
   "metadata": {},
   "outputs": [
    {
     "data": {
      "text/plain": [
       "10"
      ]
     },
     "execution_count": 46,
     "metadata": {},
     "output_type": "execute_result"
    }
   ],
   "source": [
    "class Circle:\n",
    "    def __init__(self, radius):\n",
    "        self.radius = radius\n",
    "        \n",
    "    @property\n",
    "    def parameter(self):\n",
    "        return self.radius * 2\n",
    "ex = Circle(5)\n",
    "ex.parameter"
   ]
  },
  {
   "cell_type": "code",
   "execution_count": 47,
   "id": "f6719933-c124-4e76-8ef7-a6b9b73b5ba0",
   "metadata": {},
   "outputs": [
    {
     "data": {
      "text/plain": [
       "38"
      ]
     },
     "execution_count": 47,
     "metadata": {},
     "output_type": "execute_result"
    }
   ],
   "source": [
    "ex.radius = 19\n",
    "ex.parameter"
   ]
  },
  {
   "cell_type": "markdown",
   "id": "479c196f-1046-4104-b11a-3f0a0c70206d",
   "metadata": {},
   "source": [
    "### 실습\n",
    "- 메모장, 메모 구현하기\n",
    "- 메모장\n",
    "    - 속성: 제목, 페이지 번호, 메모\n",
    "    - 행동: 메모 추가하다, 메모 삭제하다, 페이지번호 확인하다\n",
    "- 메모\n",
    "    - 속성: 글귀\n",
    "    - 행동: 쓰다, 지우다\n",
    "- 사용:\n",
    "    - 메모 쓴다\n",
    "    - 메모장에 추가\n",
    "    - 페이지 번호다 늘어난다\n",
    "    - 메모 삭제\n",
    "    - 페이지 번호 줄어든다\n",
    "    - 메모장 > 제목만 은닉시키다"
   ]
  },
  {
   "cell_type": "code",
   "execution_count": null,
   "id": "b19d9c29-0017-4f7e-bfca-205e38d8deeb",
   "metadata": {},
   "outputs": [],
   "source": [
    "# 사용\n",
    "line1 = '우리 모두 스스로가 원하는 리더가 됩시다'\n",
    "line2 = '모두가 함께 앞으로 나아가면 성공은 저절로 따라줍니다'\n",
    "line3 = '혼자서는 작은 한 방울이지만 함께 모이면 바다를 이룹니다'\n",
    "\n",
    "#메모 추가\n",
    "my_note = Note()\n",
    "my_note.write(line1)\n",
    "my_note.write(line2)\n",
    "my_note.write(line3)\n",
    "\n",
    "#메모장에 추가\n",
    "my_book = Notebook()\n",
    "my_book.add_note(my_note)\n",
    "\n",
    "#페이지 번호 확인하기\n",
    "my_book.get_page_num()\n",
    "\n",
    "#페이지 삭제하기\n",
    "#페이지 번호 확인하기"
   ]
  },
  {
   "cell_type": "code",
   "execution_count": null,
   "id": "5830ccb0-6399-4691-b02b-92f088b6c300",
   "metadata": {},
   "outputs": [],
   "source": [
    "class Notebook:\n",
    "    def __init__(self, title, page_number=0, note=None):\n",
    "        self.title = title\n",
    "        self.page_number = page_number\n",
    "        self.note = note\n",
    "    def add_note(self, note=my_note):\n",
    "        self.note = note\n",
    "        self.page_number = page_number =+ 1\n",
    "    def delete_note(self, note):\n",
    "        self.note = None\n",
    "        self.page_number = page_number =- 1\n",
    "    def get_page_number(self):\n",
    "        return self.page_number\n",
    "class Note:\n",
    "    def __init__(self, text=None):\n",
    "        self.text = text\n",
    "    def write(self, text):\n",
    "        self.text = text\n",
    "    def erase(self):\n",
    "        self.text = None\n",
    "my_note = Note()"
   ]
  }
 ],
 "metadata": {
  "kernelspec": {
   "display_name": "Python 3 (ipykernel)",
   "language": "python",
   "name": "python3"
  },
  "language_info": {
   "codemirror_mode": {
    "name": "ipython",
    "version": 3
   },
   "file_extension": ".py",
   "mimetype": "text/x-python",
   "name": "python",
   "nbconvert_exporter": "python",
   "pygments_lexer": "ipython3",
   "version": "3.9.7"
  }
 },
 "nbformat": 4,
 "nbformat_minor": 5
}

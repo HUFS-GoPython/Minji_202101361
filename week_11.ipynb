{
 "cells": [
  {
   "cell_type": "markdown",
   "id": "fb611e37-065d-46ea-afe5-469dd7d3535e",
   "metadata": {},
   "source": [
    "### 객체 II\n",
    "- 상속 (inheritance)\n",
    "- 재사용할 때 A vd. B\n",
    "    - \"A의 대부분을 쓰고 나머지를 추가, 변경하고싶다\"\n",
    "    - 부모의 모든 속성을 그대로 가져와서 쓰겠다\n",
    "- 반복되는 부분을 가져오겠다. 물려받겠다.\n",
    "- A <- B\n",
    "    - \"부모, 슈퍼, 베이스\"\n",
    "    - \"자식, 서브, derived\"\n",
    "- 자식클래스는 부모클래스를 구체화한다.\n",
    "- is - a 관계: Car is-a Vehicle (포함된다)"
   ]
  },
  {
   "cell_type": "code",
   "execution_count": 5,
   "id": "1fd339b2-226a-448b-9969-c9bcd509e323",
   "metadata": {},
   "outputs": [],
   "source": [
    "class Vehicle: #parent, super\n",
    "    def __init__(self, speed):\n",
    "        self.speed = speed\n",
    "    \n",
    "    def go(self):\n",
    "        print(f'{self.speed}의 속도로 달린다')\n",
    "\n",
    "# child, sub\n",
    "class Car(Vehicle):\n",
    "    pass"
   ]
  },
  {
   "cell_type": "code",
   "execution_count": 3,
   "id": "3f232172-e9fa-4ed0-829e-c406ffba1cbb",
   "metadata": {},
   "outputs": [],
   "source": [
    "car = Car('20km/h')"
   ]
  },
  {
   "cell_type": "code",
   "execution_count": 4,
   "id": "725e3445-5788-4702-a23f-55285db07edf",
   "metadata": {},
   "outputs": [
    {
     "name": "stdout",
     "output_type": "stream",
     "text": [
      "20km/h의 속도로 달린다\n"
     ]
    }
   ],
   "source": [
    "car.go()"
   ]
  },
  {
   "cell_type": "markdown",
   "id": "0a977e82-e7c3-4097-9272-f7ac21690e1f",
   "metadata": {},
   "source": [
    "### 변수 추가, 변경"
   ]
  },
  {
   "cell_type": "code",
   "execution_count": 6,
   "id": "96ba9b2c-3e65-4e2f-9d95-ee7b5a5df032",
   "metadata": {},
   "outputs": [],
   "source": [
    "class Car(Vehicle):\n",
    "    def __init__(self, speed, brand):\n",
    "        # speed == 부모\n",
    "        super().__init__(speed)\n",
    "        # brand == 자식\n",
    "        self.brand = brand # 나의 고유한 특성이 된다."
   ]
  },
  {
   "cell_type": "code",
   "execution_count": 7,
   "id": "91110e43-0e86-44d3-9fe9-150196ad9107",
   "metadata": {},
   "outputs": [
    {
     "data": {
      "text/plain": [
       "'kia'"
      ]
     },
     "execution_count": 7,
     "metadata": {},
     "output_type": "execute_result"
    }
   ],
   "source": [
    "car2 = Car('20km/h', 'kia')\n",
    "car2.brand"
   ]
  },
  {
   "cell_type": "code",
   "execution_count": 9,
   "id": "86acf64e-de5b-459f-8bbd-1a31552244d3",
   "metadata": {},
   "outputs": [
    {
     "ename": "AttributeError",
     "evalue": "'Vehicle' object has no attribute 'brand'",
     "output_type": "error",
     "traceback": [
      "\u001b[0;31m---------------------------------------------------------------------------\u001b[0m",
      "\u001b[0;31mAttributeError\u001b[0m                            Traceback (most recent call last)",
      "\u001b[0;32m/var/folders/wh/tvv7pnrs1dv43fq_ywn935yh0000gn/T/ipykernel_1372/2184005269.py\u001b[0m in \u001b[0;36m<module>\u001b[0;34m\u001b[0m\n\u001b[1;32m      1\u001b[0m \u001b[0mv\u001b[0m \u001b[0;34m=\u001b[0m \u001b[0mVehicle\u001b[0m\u001b[0;34m(\u001b[0m\u001b[0;34m'33km/h'\u001b[0m\u001b[0;34m)\u001b[0m\u001b[0;34m\u001b[0m\u001b[0;34m\u001b[0m\u001b[0m\n\u001b[0;32m----> 2\u001b[0;31m \u001b[0mv\u001b[0m\u001b[0;34m.\u001b[0m\u001b[0mbrand\u001b[0m\u001b[0;34m\u001b[0m\u001b[0;34m\u001b[0m\u001b[0m\n\u001b[0m",
      "\u001b[0;31mAttributeError\u001b[0m: 'Vehicle' object has no attribute 'brand'"
     ]
    }
   ],
   "source": [
    "v = Vehicle('33km/h')\n",
    "v.brand"
   ]
  },
  {
   "cell_type": "markdown",
   "id": "30f01e10-44c3-4d5a-af53-9e4435ed88d3",
   "metadata": {},
   "source": [
    "### 메소드 추가, 변경\n",
    "- override 하면 부모의 메소드 잊힌다."
   ]
  },
  {
   "cell_type": "code",
   "execution_count": 42,
   "id": "a875d39b-58a7-4b62-b04d-bef6ad6aa9ec",
   "metadata": {},
   "outputs": [],
   "source": [
    "class Car(Vehicle):\n",
    "    def __init__(self, speed, brand):\n",
    "        super().__init__(speed)\n",
    "        self.brand = brand \n",
    "        \n",
    "    # 오버라이드(override): 재정의\n",
    "    def go(self):\n",
    "        # 부모의 go도 함께 가져가고 싶다면?\n",
    "        super().go() \n",
    "        print(f'차종 {self.brand}의 속도 {self.speed}')\n",
    "        \n",
    "    # 메소드 추가\n",
    "    def stop():\n",
    "        pass"
   ]
  },
  {
   "cell_type": "code",
   "execution_count": 12,
   "id": "63bbde33-bc9a-4f0c-b0c4-0a1bd2e1b7a7",
   "metadata": {},
   "outputs": [
    {
     "name": "stdout",
     "output_type": "stream",
     "text": [
      "차종 mini의 속도 33km/h\n"
     ]
    }
   ],
   "source": [
    "car3 = Car('33km/h', 'mini')\n",
    "car3.go()"
   ]
  },
  {
   "cell_type": "markdown",
   "id": "67af2ad6-28b8-402f-9890-acb440ce5b3e",
   "metadata": {},
   "source": [
    "### 실습"
   ]
  },
  {
   "cell_type": "code",
   "execution_count": 13,
   "id": "c8f28d44-be63-4d28-a390-821f441dab15",
   "metadata": {},
   "outputs": [],
   "source": [
    "class Person:\n",
    "    def __init__(self, name):\n",
    "        self.name = name\n",
    "\n",
    "#------------------------\n",
    "class Doctor(Person):\n",
    "    def __init__(self, name):\n",
    "        super().__init__('Dr.' + name)\n",
    "class Male(Person):\n",
    "    def __init__(self, name):\n",
    "        super().__init__('Mr.' + name)\n",
    "class Female(Person):\n",
    "    def __init__(self, name):\n",
    "        super().__init__('Mrs.' + name)"
   ]
  },
  {
   "cell_type": "markdown",
   "id": "526ae794-ca66-40b8-9749-f29f9f4a54e6",
   "metadata": {},
   "source": [
    "### 다중상속\n",
    "- method resolution order (MRO)\n",
    "- Animal <- Horse\n",
    "        <- Donkey\n",
    "                <- Mule (Donkey > Horse)\n",
    "                <- Hinny (Horse > Donkey)              "
   ]
  },
  {
   "cell_type": "code",
   "execution_count": 15,
   "id": "4d5b7f69-c7fb-437e-a4fa-414a597cc0b0",
   "metadata": {},
   "outputs": [],
   "source": [
    "class Animal:\n",
    "    def says(self):\n",
    "        return '동물이 운다'\n",
    "\n",
    "# 자식\n",
    "class Horse(Animal):\n",
    "    def says(self):\n",
    "        return '히히힝'\n",
    "\n",
    "class Donkey(Animal):\n",
    "    def says(self):\n",
    "        return '히이호'\n",
    "    \n",
    "# 손주\n",
    "class Mule(Donkey, Horse):\n",
    "    pass\n",
    "\n",
    "class Hinny(Horse, Donkey):\n",
    "    pass"
   ]
  },
  {
   "cell_type": "code",
   "execution_count": 16,
   "id": "7c4aaf6a-34dc-4bd4-8e5c-a1e28f55ff70",
   "metadata": {},
   "outputs": [
    {
     "data": {
      "text/plain": [
       "'히이호'"
      ]
     },
     "execution_count": 16,
     "metadata": {},
     "output_type": "execute_result"
    }
   ],
   "source": [
    "m = Mule()\n",
    "m.says()"
   ]
  },
  {
   "cell_type": "code",
   "execution_count": 17,
   "id": "67ef190e-b5f8-482f-9a50-cca70ecaafb0",
   "metadata": {},
   "outputs": [
    {
     "data": {
      "text/plain": [
       "'히히힝'"
      ]
     },
     "execution_count": 17,
     "metadata": {},
     "output_type": "execute_result"
    }
   ],
   "source": [
    "Hinny().says()"
   ]
  },
  {
   "cell_type": "code",
   "execution_count": 18,
   "id": "0b4f764e-bad6-4925-a6c3-bd9056b1e341",
   "metadata": {},
   "outputs": [
    {
     "data": {
      "text/plain": [
       "[__main__.Mule, __main__.Donkey, __main__.Horse, __main__.Animal, object]"
      ]
     },
     "execution_count": 18,
     "metadata": {},
     "output_type": "execute_result"
    }
   ],
   "source": [
    "Mule.mro()"
   ]
  },
  {
   "cell_type": "markdown",
   "id": "4b4de0cd-1d37-482c-8fa9-829dcb0917ec",
   "metadata": {},
   "source": [
    "### 다형성\n",
    "- 형태는 다른데 기능이 같다.\n",
    "- 객체가 다른데 같은 메소드(self 등)를 가지고 있으면 같은 기능 수행할 수 있다."
   ]
  },
  {
   "cell_type": "code",
   "execution_count": 19,
   "id": "0ac94fc4-874c-40fd-b1c6-ce5eea2f9742",
   "metadata": {},
   "outputs": [
    {
     "name": "stdout",
     "output_type": "stream",
     "text": [
      "히이호\n",
      "히이호\n",
      "동물이 운다\n"
     ]
    }
   ],
   "source": [
    "for animal in [Mule(), Donkey(), Animal()]:\n",
    "    print(animal.says())"
   ]
  },
  {
   "cell_type": "markdown",
   "id": "460b21ab-78df-4715-a401-da557bc61095",
   "metadata": {},
   "source": [
    "### 메서드 타입\n",
    "- 인스턴스 메서드\n",
    "    - self가 1번 인자\n",
    "    - 객체 생성 -> 사용가능\n",
    "- 클래스 메서드\n",
    "    - 객체 생성하지 않아도 사용 가능\n",
    "    - 클래스 접근하는 메서드\n",
    "    - @classmethod\n",
    "    - 예약어: cls\n",
    "    - 함수(cls) 가 첫인자\n",
    "    - class Person, cls == Person\n",
    "- 정적 메서드\n",
    "    - 객체 생성하지 않고 접근 가능\n",
    "    - 클래스랑 상관없기 떄문에 접근 가능한 것\n",
    "    - 내용, 기능이 비슷해서 클래스 내에 묶어둠\n",
    "- 추상 메서드\n",
    "    - 추상 클래스: abstract 이름만 존재하는 클래스\n",
    "    - 설계도 역할: \n",
    "    - 상속하는 자식클래스 => 반드시 구현해야 하는 메소드를 정의한다."
   ]
  },
  {
   "cell_type": "code",
   "execution_count": 20,
   "id": "67a8165d-d4ba-4a7b-802a-812e0dbc9ab2",
   "metadata": {},
   "outputs": [
    {
     "data": {
      "text/plain": [
       "'히이호'"
      ]
     },
     "execution_count": 20,
     "metadata": {},
     "output_type": "execute_result"
    }
   ],
   "source": [
    "a = Mule() # 객체 생성\n",
    "a.says()"
   ]
  },
  {
   "cell_type": "code",
   "execution_count": 21,
   "id": "d094136d-9522-4f1b-b4c7-ec9e65e15c9b",
   "metadata": {},
   "outputs": [
    {
     "ename": "TypeError",
     "evalue": "says() missing 1 required positional argument: 'self'",
     "output_type": "error",
     "traceback": [
      "\u001b[0;31m---------------------------------------------------------------------------\u001b[0m",
      "\u001b[0;31mTypeError\u001b[0m                                 Traceback (most recent call last)",
      "\u001b[0;32m/var/folders/wh/tvv7pnrs1dv43fq_ywn935yh0000gn/T/ipykernel_1372/1178907548.py\u001b[0m in \u001b[0;36m<module>\u001b[0;34m\u001b[0m\n\u001b[0;32m----> 1\u001b[0;31m \u001b[0mMule\u001b[0m\u001b[0;34m.\u001b[0m\u001b[0msays\u001b[0m\u001b[0;34m(\u001b[0m\u001b[0;34m)\u001b[0m\u001b[0;34m\u001b[0m\u001b[0;34m\u001b[0m\u001b[0m\n\u001b[0m",
      "\u001b[0;31mTypeError\u001b[0m: says() missing 1 required positional argument: 'self'"
     ]
    }
   ],
   "source": [
    "Mule.says()"
   ]
  },
  {
   "cell_type": "code",
   "execution_count": 22,
   "id": "fd4b22ef-4161-4266-921a-a3fecbf647e2",
   "metadata": {},
   "outputs": [],
   "source": [
    "class A:\n",
    "    cnt = 0\n",
    "    \n",
    "    @classmethod\n",
    "    def move(cls):\n",
    "        return cls.cnt"
   ]
  },
  {
   "cell_type": "code",
   "execution_count": 23,
   "id": "5451a59b-edb0-4641-8947-cde815f54f30",
   "metadata": {},
   "outputs": [
    {
     "data": {
      "text/plain": [
       "0"
      ]
     },
     "execution_count": 23,
     "metadata": {},
     "output_type": "execute_result"
    }
   ],
   "source": [
    "A().move()"
   ]
  },
  {
   "cell_type": "code",
   "execution_count": 24,
   "id": "86e77309-a327-4a84-b4bb-5a9c86635a9d",
   "metadata": {},
   "outputs": [
    {
     "data": {
      "text/plain": [
       "0"
      ]
     },
     "execution_count": 24,
     "metadata": {},
     "output_type": "execute_result"
    }
   ],
   "source": [
    "A.move()"
   ]
  },
  {
   "cell_type": "code",
   "execution_count": 30,
   "id": "33aa9071-f237-4196-ab7e-609e53528903",
   "metadata": {},
   "outputs": [],
   "source": [
    "class Person:\n",
    "    def __init__(self, name, age):\n",
    "        self.name = name\n",
    "        self.age = age\n",
    "    \n",
    "    @classmethod\n",
    "    def tuple_object(cls, args):\n",
    "        return cls(args[0], args[1]) # Person()\n",
    "    \n",
    "    \n",
    "name = 'kim'\n",
    "age = 24\n",
    "#P = Person(name, age)\n",
    "\n",
    "info = name, age\n",
    "p = Person.tuple_object(info) # p객체 생성하게"
   ]
  },
  {
   "cell_type": "code",
   "execution_count": 31,
   "id": "c8e20b2f-21f5-4b88-8a6d-c5cc67fd2f9e",
   "metadata": {},
   "outputs": [
    {
     "data": {
      "text/plain": [
       "'kim'"
      ]
     },
     "execution_count": 31,
     "metadata": {},
     "output_type": "execute_result"
    }
   ],
   "source": [
    "p.name"
   ]
  },
  {
   "cell_type": "code",
   "execution_count": 34,
   "id": "e7f19772-a65f-4531-b6e0-e6ec2b42b1b3",
   "metadata": {},
   "outputs": [
    {
     "data": {
      "text/plain": [
       "'객체수: 3'"
      ]
     },
     "execution_count": 34,
     "metadata": {},
     "output_type": "execute_result"
    }
   ],
   "source": [
    "class A:\n",
    "    # 붕어빵 몇개?\n",
    "    cnt = 0\n",
    "    \n",
    "    def __init__(self):\n",
    "        A.cnt += 1\n",
    "    \n",
    "    #cnt += 1\n",
    "    @classmethod\n",
    "    def count(cls):\n",
    "        return f'객체수: {cls.cnt}'\n",
    "    \n",
    "    \n",
    "A()\n",
    "A()\n",
    "A()\n",
    "A.count() #4"
   ]
  },
  {
   "cell_type": "code",
   "execution_count": 43,
   "id": "a87cc124-4557-4e32-b03c-eed34501e53a",
   "metadata": {},
   "outputs": [],
   "source": [
    "class Coyote:\n",
    "    @staticmethod\n",
    "    def says(): #self 없음, 딕셔너리에 변수 저장하는 것과 비슷\n",
    "        print('hi')       "
   ]
  },
  {
   "cell_type": "code",
   "execution_count": 37,
   "id": "695928a6-533b-4f75-9c9f-67302bf232e2",
   "metadata": {},
   "outputs": [
    {
     "name": "stdout",
     "output_type": "stream",
     "text": [
      "hi\n"
     ]
    }
   ],
   "source": [
    "Coyote.says()"
   ]
  },
  {
   "cell_type": "code",
   "execution_count": 40,
   "id": "a871a9c3-5897-455d-bfa6-26295299688b",
   "metadata": {},
   "outputs": [],
   "source": [
    "from abc import *\n",
    "\n",
    "class Vehicle(metaclass = ABCMeta):\n",
    "    # 추상 클래스 설정하는 방법\n",
    "    speed = '속도'\n",
    "    \n",
    "    @abstractmethod\n",
    "    def go(self):\n",
    "        print('탈 것이 간다.')\n",
    "    \n",
    "class Car(Vehicle):\n",
    "    def go(self):\n",
    "        print('')"
   ]
  },
  {
   "cell_type": "code",
   "execution_count": 41,
   "id": "409ed302-0af4-4dfb-97fb-4bfc474404d9",
   "metadata": {},
   "outputs": [
    {
     "data": {
      "text/plain": [
       "<__main__.Car at 0x7fae28289910>"
      ]
     },
     "execution_count": 41,
     "metadata": {},
     "output_type": "execute_result"
    }
   ],
   "source": [
    "Car()"
   ]
  }
 ],
 "metadata": {
  "kernelspec": {
   "display_name": "Python 3 (ipykernel)",
   "language": "python",
   "name": "python3"
  },
  "language_info": {
   "codemirror_mode": {
    "name": "ipython",
    "version": 3
   },
   "file_extension": ".py",
   "mimetype": "text/x-python",
   "name": "python",
   "nbconvert_exporter": "python",
   "pygments_lexer": "ipython3",
   "version": "3.9.7"
  }
 },
 "nbformat": 4,
 "nbformat_minor": 5
}

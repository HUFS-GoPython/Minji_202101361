{
 "cells": [
  {
   "cell_type": "code",
   "execution_count": 1,
   "id": "4578b6f1-e387-465b-8618-5deba125fcb2",
   "metadata": {},
   "outputs": [],
   "source": [
    "#Store, Item, Customer\n",
    "#팀 프로젝트에서 Store 에서 Customer, Item 상속하면 틀림 \n",
    "#상호작용은 필요하지만 상속하면 안됨\n",
    "\n",
    "#1. Abcustomer -> Customer(상속)\n",
    "#2. Person <- Customer(Person)"
   ]
  },
  {
   "cell_type": "code",
   "execution_count": null,
   "id": "a6a67924-7b0c-4b3e-80e8-f7c17b147c97",
   "metadata": {},
   "outputs": [],
   "source": [
    "class Customer(Person):\n",
    "    pass\n",
    "\n",
    "class Store:\n",
    "    def __init__(customer):\n",
    "        self.customer = customer\n",
    "        self.item = item\n",
    "        self.item_list = self.item.name, self.item.price\n",
    "        \n",
    "class Item:\n",
    "    name\n",
    "    cnt\n",
    "    price\n",
    "    pass\n",
    "\n",
    "class Seller"
   ]
  },
  {
   "cell_type": "markdown",
   "id": "a983edf9-e680-4667-adc5-1ef3820fec65",
   "metadata": {},
   "source": [
    "### 매직메소드\n",
    "- special method\n",
    "- str, repr"
   ]
  },
  {
   "cell_type": "code",
   "execution_count": 4,
   "id": "d619725c-9abd-4706-a3ba-fc78260e2b20",
   "metadata": {},
   "outputs": [],
   "source": [
    "class Customer:\n",
    "    def __init__(self, name):\n",
    "        self.name = name\n",
    "        \n",
    "    def __str__(self):\n",
    "        #print() 함수로 나온 출력값을 변경하는 것 문자열로\n",
    "        #print()는 내부적으로 __str__ 메소드 호출\n",
    "        return f'my name is {self.name}'\n",
    "    \n",
    "    def __repr__(self):\n",
    "        #설정 안하면 __str__동일함\n",
    "        #확인 해본결과 따로 설정안하면 __str__이 우선순위 높음\n",
    "        #인스턴스를 출력하는 방식 => 사용자, 즉 인간이 이해하는 객체의 모습을 표현\n",
    "        return f'my name is {self.name}'\n",
    "c = Customer('kim')"
   ]
  },
  {
   "cell_type": "code",
   "execution_count": 5,
   "id": "556e86f3-859b-466a-b307-cb9d49b0dafa",
   "metadata": {},
   "outputs": [
    {
     "data": {
      "text/plain": [
       "my name is kim"
      ]
     },
     "execution_count": 5,
     "metadata": {},
     "output_type": "execute_result"
    }
   ],
   "source": [
    "c"
   ]
  },
  {
   "cell_type": "markdown",
   "id": "8ff4eeec-6d6b-42d8-b551-104912d3c3a3",
   "metadata": {},
   "source": [
    "### NamedTuple, DataClass\n",
    "- 객체보다 효율적임(간단한 속성만 가진 클래스일 경우 활용)\n",
    "- 딕셔너리의 키처럼 사용 가능하다\n",
    "- 불변객체"
   ]
  },
  {
   "cell_type": "code",
   "execution_count": 6,
   "id": "a1a66054-6506-4650-bd51-59cc9c529134",
   "metadata": {},
   "outputs": [
    {
     "data": {
      "text/plain": [
       "('lee', 44)"
      ]
     },
     "execution_count": 6,
     "metadata": {},
     "output_type": "execute_result"
    }
   ],
   "source": [
    "from collections import namedtuple\n",
    "\n",
    "Customer = namedtuple('Customer', 'name age') #['name', 'age']이런 식으로도 가능하다고 함\n",
    "a = Customer('lee', 44)\n",
    "a.name, a.age"
   ]
  },
  {
   "cell_type": "code",
   "execution_count": 7,
   "id": "b532e1eb-d8f3-4673-8459-325d47787d39",
   "metadata": {},
   "outputs": [
    {
     "data": {
      "text/plain": [
       "('hong', 88)"
      ]
     },
     "execution_count": 7,
     "metadata": {},
     "output_type": "execute_result"
    }
   ],
   "source": [
    "from dataclasses import dataclass\n",
    "#3.7 이상에서만\n",
    "\n",
    "@dataclass\n",
    "class Customer2:\n",
    "    name: str\n",
    "    age: int\n",
    "\n",
    "b = Customer2('hong', 88)\n",
    "b.name, b.age"
   ]
  },
  {
   "cell_type": "markdown",
   "id": "3d24f400-28e0-41f3-8c36-f8be2e4c6d66",
   "metadata": {},
   "source": [
    "### 함수 II\n",
    "- *, **\n",
    "- 일급객체\n",
    "- 내부함수, 클로저\n",
    "- 익명함수\n",
    "- 제너레이터\n",
    "- 재귀함수\n",
    "asterisk : *"
   ]
  },
  {
   "cell_type": "code",
   "execution_count": 8,
   "id": "4b9393f7-ff22-4b4a-b43b-6e6d8a85eb37",
   "metadata": {},
   "outputs": [
    {
     "name": "stdout",
     "output_type": "stream",
     "text": [
      "1 2 3 4 5\n"
     ]
    }
   ],
   "source": [
    "def print_arg(*args):#1. 여러개의 인자 -> 패킹\n",
    "    print(*args)#2. 언패킹\n",
    "    \n",
    "print_arg(1,2,3,4,5)"
   ]
  },
  {
   "cell_type": "code",
   "execution_count": 9,
   "id": "47f157e8-4373-4c58-b343-41de325826ae",
   "metadata": {},
   "outputs": [
    {
     "name": "stdout",
     "output_type": "stream",
     "text": [
      "1 2\n",
      "optional\n",
      "1 2\n",
      "안녕하세요 hi こんこんばんは optional\n"
     ]
    }
   ],
   "source": [
    "def print_more(num1, num2, *args):\n",
    "    print(num1, num2)\n",
    "    print(*args, 'optional')\n",
    "    \n",
    "print_more(1,2)\n",
    "print_more(1,2,'안녕하세요', 'hi', 'こんこんばんは') # 여러개 받는다"
   ]
  },
  {
   "cell_type": "code",
   "execution_count": 10,
   "id": "a8bff222-c160-4f9f-8e84-6934873ba840",
   "metadata": {},
   "outputs": [
    {
     "name": "stdout",
     "output_type": "stream",
     "text": [
      "0 1 2 3 4 5 6 7 8 9\n",
      "[0, 1, 2, 3, 4, 5, 6, 7, 8, 9]\n"
     ]
    }
   ],
   "source": [
    "empty = list(range(10))\n",
    "print(*empty) #각각 언패킹\n",
    "print(empty)"
   ]
  },
  {
   "cell_type": "code",
   "execution_count": 11,
   "id": "0f2a94e0-2648-48aa-acf5-89ba7f725031",
   "metadata": {},
   "outputs": [
    {
     "name": "stdout",
     "output_type": "stream",
     "text": [
      "(1, 3, 5)\n",
      "(2, 4, 6)\n"
     ]
    }
   ],
   "source": [
    "# 행렬, 테이블 데이터\n",
    "matrix = [\n",
    "    [1, 2],\n",
    "    [3, 4],\n",
    "    [5, 6]\n",
    "]\n",
    "# 1, 3, 5 / 2, 4, 6\n",
    "for item in zip(*matrix):\n",
    "    print(item)"
   ]
  },
  {
   "cell_type": "code",
   "execution_count": 12,
   "id": "55dec70b-2e3e-4b40-9535-d0c910958136",
   "metadata": {},
   "outputs": [
    {
     "name": "stdout",
     "output_type": "stream",
     "text": [
      "(1, 3, 5)\n",
      "(2, 4, 6)\n"
     ]
    }
   ],
   "source": [
    "for item in zip([1, 2], [3, 4], [5, 6]):\n",
    "    print(item)"
   ]
  },
  {
   "cell_type": "code",
   "execution_count": 13,
   "id": "9f6a1ed2-2f42-4b1c-a148-f9314cfa033b",
   "metadata": {},
   "outputs": [
    {
     "name": "stdout",
     "output_type": "stream",
     "text": [
      "0\n",
      "1\n",
      "2\n",
      "3\n"
     ]
    }
   ],
   "source": [
    "#키워드 전용 인수 선언시 사용 \n",
    "# * = 인수의 끝과 전용인수의 시작을 선언한다.\n",
    "def print_data(data, *, start, end):\n",
    "    for item in data[start:end]:\n",
    "        print(item)\n",
    "        \n",
    "print_data(empty, start = 0, end = 4)"
   ]
  },
  {
   "cell_type": "markdown",
   "id": "349dd542-af3c-4078-ba08-ef13acb20859",
   "metadata": {},
   "source": [
    "### kargs: **"
   ]
  },
  {
   "cell_type": "code",
   "execution_count": 14,
   "id": "7be4d0c7-9953-459e-a7fc-230a7215511c",
   "metadata": {},
   "outputs": [
    {
     "name": "stdout",
     "output_type": "stream",
     "text": [
      "{'wine': 'crianza', 'drink': 'water'}\n"
     ]
    }
   ],
   "source": [
    "def print_kargs(**kargs): # 키: 값 -> 딕셔너리로 반환\n",
    "    print(kargs)\n",
    "    #print(**kargs) #언패킹 안됨\n",
    "\n",
    "print_kargs(wine = 'crianza', drink = 'water')"
   ]
  },
  {
   "cell_type": "code",
   "execution_count": 15,
   "id": "afaa703d-7f0a-484a-adb8-cd13f3daa043",
   "metadata": {},
   "outputs": [
    {
     "name": "stdout",
     "output_type": "stream",
     "text": [
      "{'wine': 'cabernet', 'drink': 'water'}\n",
      "{'wine': 'crianza', 'drink': 'water'}\n",
      "{'wine': 'shiraz', 'drink': 'water'}\n"
     ]
    }
   ],
   "source": [
    "for wine in ['cabernet', 'crianza', 'shiraz']:\n",
    "    print_kargs(wine = wine, drink = 'water')"
   ]
  },
  {
   "cell_type": "code",
   "execution_count": 16,
   "id": "8d6e480f-854f-4c13-bbe0-ec4c3d948614",
   "metadata": {},
   "outputs": [
    {
     "name": "stdout",
     "output_type": "stream",
     "text": [
      "1 2\n",
      "18\n",
      "{'num': 4}\n"
     ]
    }
   ],
   "source": [
    "def print_all(num1, num2, *args, **kargs): #둘이 같이 사용\n",
    "    print(num1, num2)\n",
    "    print(sum(args))#각각\n",
    "    print(kargs)#각각\n",
    "\n",
    "print_all(1, 2, 3, 4, 5, 6, num = 4)"
   ]
  },
  {
   "cell_type": "code",
   "execution_count": 17,
   "id": "d9ca5ff2-17eb-4176-a9a0-83e020a525c8",
   "metadata": {},
   "outputs": [
    {
     "data": {
      "text/plain": [
       "{1: 'a', 2: 'c', 3: 'd'}"
      ]
     },
     "execution_count": 17,
     "metadata": {},
     "output_type": "execute_result"
    }
   ],
   "source": [
    "# 딕셔너리 조인할 수 있음\n",
    "a = {1: 'a', 2: 'b'}\n",
    "b = {2: 'c', 3: 'd'}\n",
    "c = {**a, **b}\n",
    "c"
   ]
  },
  {
   "cell_type": "code",
   "execution_count": 18,
   "id": "d3949a76-4c03-4acc-9e93-744c3ba59872",
   "metadata": {},
   "outputs": [],
   "source": [
    "# 다른조 클래스 코드 공부"
   ]
  }
 ],
 "metadata": {
  "kernelspec": {
   "display_name": "Python 3 (ipykernel)",
   "language": "python",
   "name": "python3"
  },
  "language_info": {
   "codemirror_mode": {
    "name": "ipython",
    "version": 3
   },
   "file_extension": ".py",
   "mimetype": "text/x-python",
   "name": "python",
   "nbconvert_exporter": "python",
   "pygments_lexer": "ipython3",
   "version": "3.9.7"
  }
 },
 "nbformat": 4,
 "nbformat_minor": 5
}

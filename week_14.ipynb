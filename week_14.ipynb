{
 "cells": [
  {
   "cell_type": "markdown",
   "id": "bb54dcdf-9264-4d87-a5bb-69c61b479e89",
   "metadata": {},
   "source": [
    "### 함수II\n",
    "- 일급 객체\n",
    "- 중첩 함수\n",
    "- 익명 함수\n",
    "- 제너레이터\n",
    "- 재귀 함수"
   ]
  },
  {
   "cell_type": "markdown",
   "id": "201004ef-cc3a-407e-b499-e3ed096aa2b6",
   "metadata": {},
   "source": [
    "#### 일급 객체\n",
    "- first class object, first class citizen\n",
    "- 파이썬에서는 함수도 일급 객체다.\n",
    "- 일급 객체의 조건\n",
    "    - 함수의 인자로 전달된다.\n",
    "        def fx(func):\n",
    "    - 함수의 반환값이 된다.\n",
    "        def fx(func):\n",
    "            return func\n",
    "    - 수정, 할당이 된다.\n",
    "        var = fx()"
   ]
  },
  {
   "cell_type": "code",
   "execution_count": 1,
   "id": "87bb9342-295a-4690-b124-8865617ac50b",
   "metadata": {},
   "outputs": [
    {
     "name": "stdout",
     "output_type": "stream",
     "text": [
      "42\n"
     ]
    }
   ],
   "source": [
    "def answer():\n",
    "    print(42)\n",
    "    \n",
    "def run_sth(func):\n",
    "    func() #func vs. func()\n",
    "    \n",
    "run_sth(answer)"
   ]
  },
  {
   "cell_type": "code",
   "execution_count": 3,
   "id": "2b5dce73-409e-48b1-9936-2ba6593fb790",
   "metadata": {},
   "outputs": [
    {
     "name": "stdout",
     "output_type": "stream",
     "text": [
      "8\n"
     ]
    }
   ],
   "source": [
    "def add_args(arg1, arg2):\n",
    "    print(arg1 + arg2)\n",
    "    \n",
    "def run_sth2(func, *args):\n",
    "    func(*args)\n",
    "\n",
    "run_sth2(add_args, 3, 5)"
   ]
  },
  {
   "cell_type": "markdown",
   "id": "8f73df6a-3915-4db3-a1fb-74a52b3df630",
   "metadata": {},
   "source": [
    "#### 중첩함수\n",
    "- 함수 내에서 또 다른 함수를 정의하는 것\n",
    "- 내부함수 캡슐화\n",
    "    - 메모리 절약\n",
    "    - 변수가 섞여서 불필요하게 충돌하는 것을 방지함\n",
    "    - 목적에 맞게 변수를 그룹화할 수 있음. 관리, 책임 명확히"
   ]
  },
  {
   "cell_type": "code",
   "execution_count": 5,
   "id": "44495a48-6c4f-4636-b9d0-0699ea398296",
   "metadata": {},
   "outputs": [
    {
     "data": {
      "text/plain": [
       "2"
      ]
     },
     "execution_count": 5,
     "metadata": {},
     "output_type": "execute_result"
    }
   ],
   "source": [
    "def outer(a,b): #외부함수\n",
    "    def inner(c,d): #내부함수\n",
    "        return c + d\n",
    "    return inner(a,b)\n",
    "\n",
    "outer(1,1)"
   ]
  },
  {
   "cell_type": "code",
   "execution_count": 6,
   "id": "93012a70-8f32-4ec4-9f61-5caf1e38654d",
   "metadata": {},
   "outputs": [
    {
     "ename": "NameError",
     "evalue": "name 'inner' is not defined",
     "output_type": "error",
     "traceback": [
      "\u001b[0;31m---------------------------------------------------------------------------\u001b[0m",
      "\u001b[0;31mNameError\u001b[0m                                 Traceback (most recent call last)",
      "\u001b[0;32m/var/folders/wh/tvv7pnrs1dv43fq_ywn935yh0000gn/T/ipykernel_5024/4223191627.py\u001b[0m in \u001b[0;36m<module>\u001b[0;34m\u001b[0m\n\u001b[0;32m----> 1\u001b[0;31m \u001b[0minner\u001b[0m\u001b[0;34m(\u001b[0m\u001b[0;36m1\u001b[0m\u001b[0;34m,\u001b[0m\u001b[0;36m1\u001b[0m\u001b[0;34m)\u001b[0m \u001b[0;31m#내부함수는 밖에서 건들수없음\u001b[0m\u001b[0;34m\u001b[0m\u001b[0;34m\u001b[0m\u001b[0m\n\u001b[0m",
      "\u001b[0;31mNameError\u001b[0m: name 'inner' is not defined"
     ]
    }
   ],
   "source": [
    "inner(1,1) #내부함수는 밖에서 건들수없음"
   ]
  },
  {
   "cell_type": "code",
   "execution_count": 15,
   "id": "264ac7c9-6148-4533-b6de-46ff86a78d71",
   "metadata": {},
   "outputs": [],
   "source": [
    "def knight(saying):\n",
    "    def inner():\n",
    "        return f'We are the knights who say: {saying}'\n",
    "        #listA.append(saying) 불가능\n",
    "    return inner\n",
    "\n",
    "a = knight('hi')\n",
    "b = knight('안녕')"
   ]
  },
  {
   "cell_type": "markdown",
   "id": "795511dd-6f98-4f2c-b5fc-9afdc12f5348",
   "metadata": {},
   "source": [
    "- 외부함수의 인자를 참조할 수 있다.\n",
    "- 수정/활용은 안됨"
   ]
  },
  {
   "cell_type": "code",
   "execution_count": 14,
   "id": "60ecf5ce-5d06-4e23-9516-7cc92db5e098",
   "metadata": {},
   "outputs": [
    {
     "data": {
      "text/plain": [
       "'We are the knights who say: hi'"
      ]
     },
     "execution_count": 14,
     "metadata": {},
     "output_type": "execute_result"
    }
   ],
   "source": [
    "a() #saying 안받아도 실행"
   ]
  },
  {
   "cell_type": "code",
   "execution_count": 10,
   "id": "71a50bb3-7634-4187-b3e1-4bb5d65da9ad",
   "metadata": {},
   "outputs": [
    {
     "data": {
      "text/plain": [
       "'We are the knights who say: 안녕'"
      ]
     },
     "execution_count": 10,
     "metadata": {},
     "output_type": "execute_result"
    }
   ],
   "source": [
    "b()"
   ]
  },
  {
   "cell_type": "code",
   "execution_count": 12,
   "id": "b32db7b6-e95d-47cf-94b2-acf031d9b2f8",
   "metadata": {},
   "outputs": [],
   "source": [
    "def inner():\n",
    "        return f'We are the knights who say: {saying}'"
   ]
  },
  {
   "cell_type": "code",
   "execution_count": 13,
   "id": "4df4ac69-49b5-445d-aea8-3e0d0c73ee87",
   "metadata": {},
   "outputs": [
    {
     "ename": "NameError",
     "evalue": "name 'saying' is not defined",
     "output_type": "error",
     "traceback": [
      "\u001b[0;31m---------------------------------------------------------------------------\u001b[0m",
      "\u001b[0;31mNameError\u001b[0m                                 Traceback (most recent call last)",
      "\u001b[0;32m/var/folders/wh/tvv7pnrs1dv43fq_ywn935yh0000gn/T/ipykernel_5024/2697967970.py\u001b[0m in \u001b[0;36m<module>\u001b[0;34m\u001b[0m\n\u001b[0;32m----> 1\u001b[0;31m \u001b[0minner\u001b[0m\u001b[0;34m(\u001b[0m\u001b[0;34m)\u001b[0m\u001b[0;34m\u001b[0m\u001b[0;34m\u001b[0m\u001b[0m\n\u001b[0m",
      "\u001b[0;32m/var/folders/wh/tvv7pnrs1dv43fq_ywn935yh0000gn/T/ipykernel_5024/1727384476.py\u001b[0m in \u001b[0;36minner\u001b[0;34m()\u001b[0m\n\u001b[1;32m      1\u001b[0m \u001b[0;32mdef\u001b[0m \u001b[0minner\u001b[0m\u001b[0;34m(\u001b[0m\u001b[0;34m)\u001b[0m\u001b[0;34m:\u001b[0m\u001b[0;34m\u001b[0m\u001b[0;34m\u001b[0m\u001b[0m\n\u001b[0;32m----> 2\u001b[0;31m         \u001b[0;32mreturn\u001b[0m \u001b[0;34mf'We are the knights who say: {saying}'\u001b[0m\u001b[0;34m\u001b[0m\u001b[0;34m\u001b[0m\u001b[0m\n\u001b[0m",
      "\u001b[0;31mNameError\u001b[0m: name 'saying' is not defined"
     ]
    }
   ],
   "source": [
    "inner()"
   ]
  },
  {
   "cell_type": "markdown",
   "id": "4f1b1582-1650-4c3e-a1d0-5c1a7057dec0",
   "metadata": {},
   "source": [
    "#### 클로저 | closure\n",
    "- 조건\n",
    "    1. 중첩함수일 것\n",
    "    2. 내부함수가 외부함수의 상댓값을 참조할 것\n",
    "    3. 외부함수의 리턴값이 내부함수일 것\n",
    "- 외부함수의 상대값을 기억하는 함수 (호출시 사용가능)"
   ]
  },
  {
   "cell_type": "code",
   "execution_count": 24,
   "id": "9b0660fb-4782-4cec-9b5c-3d0792e454bc",
   "metadata": {},
   "outputs": [],
   "source": [
    "def multiply(x):\n",
    "    def inner(y): #1\n",
    "        return x * y #2\n",
    "    return inner #3"
   ]
  },
  {
   "cell_type": "code",
   "execution_count": 27,
   "id": "18fcb951-0581-4a4b-b3e2-d88abaf54cbb",
   "metadata": {},
   "outputs": [],
   "source": [
    "m = multiply(5)\n",
    "n = multiply(6)"
   ]
  },
  {
   "cell_type": "code",
   "execution_count": 28,
   "id": "05030519-b3fe-450b-ba3a-263fe9cb388f",
   "metadata": {},
   "outputs": [
    {
     "data": {
      "text/plain": [
       "(<function __main__.multiply.<locals>.inner(y)>,\n",
       " <function __main__.multiply.<locals>.inner(y)>)"
      ]
     },
     "execution_count": 28,
     "metadata": {},
     "output_type": "execute_result"
    }
   ],
   "source": [
    "m, n"
   ]
  },
  {
   "cell_type": "code",
   "execution_count": 29,
   "id": "9e5eb909-0842-482e-b6cc-fa4f63ad829d",
   "metadata": {},
   "outputs": [
    {
     "data": {
      "text/plain": [
       "50"
      ]
     },
     "execution_count": 29,
     "metadata": {},
     "output_type": "execute_result"
    }
   ],
   "source": [
    "m(10)"
   ]
  },
  {
   "cell_type": "code",
   "execution_count": 30,
   "id": "c203af42-6fdc-4641-8e5b-e39b2d993095",
   "metadata": {},
   "outputs": [
    {
     "data": {
      "text/plain": [
       "60"
      ]
     },
     "execution_count": 30,
     "metadata": {},
     "output_type": "execute_result"
    }
   ],
   "source": [
    "n(10)"
   ]
  },
  {
   "cell_type": "code",
   "execution_count": 31,
   "id": "f6dbbf4a-a298-48f5-8399-811fb80e959a",
   "metadata": {},
   "outputs": [],
   "source": [
    "del(multiply)"
   ]
  },
  {
   "cell_type": "code",
   "execution_count": 32,
   "id": "35e6189e-1966-4d2f-9829-9ab0a46392ff",
   "metadata": {},
   "outputs": [
    {
     "ename": "NameError",
     "evalue": "name 'multiply' is not defined",
     "output_type": "error",
     "traceback": [
      "\u001b[0;31m---------------------------------------------------------------------------\u001b[0m",
      "\u001b[0;31mNameError\u001b[0m                                 Traceback (most recent call last)",
      "\u001b[0;32m/var/folders/wh/tvv7pnrs1dv43fq_ywn935yh0000gn/T/ipykernel_5024/330517852.py\u001b[0m in \u001b[0;36m<module>\u001b[0;34m\u001b[0m\n\u001b[0;32m----> 1\u001b[0;31m \u001b[0mmultiply\u001b[0m\u001b[0;34m\u001b[0m\u001b[0;34m\u001b[0m\u001b[0m\n\u001b[0m",
      "\u001b[0;31mNameError\u001b[0m: name 'multiply' is not defined"
     ]
    }
   ],
   "source": [
    "multiply"
   ]
  },
  {
   "cell_type": "code",
   "execution_count": 34,
   "id": "e04d0805-baf1-446d-afdc-eef6c4fbe4c6",
   "metadata": {},
   "outputs": [
    {
     "data": {
      "text/plain": [
       "40"
      ]
     },
     "execution_count": 34,
     "metadata": {},
     "output_type": "execute_result"
    }
   ],
   "source": [
    "m(8) #함수 사라져도 실행가능 (메모리 효율적 사용)"
   ]
  },
  {
   "cell_type": "code",
   "execution_count": 41,
   "id": "99edb174-eb9c-4646-bbb4-49610c59c4ee",
   "metadata": {},
   "outputs": [
    {
     "data": {
      "text/plain": [
       "81"
      ]
     },
     "execution_count": 41,
     "metadata": {},
     "output_type": "execute_result"
    }
   ],
   "source": [
    "#실습\n",
    "\n",
    "def add(a,b):\n",
    "    return a + b\n",
    "\n",
    "# 리턴값 * 리턴값 (8 * 8)\n",
    "def square(func):\n",
    "    def inner(a, b): \n",
    "        result = func(a, b)\n",
    "        return result * result\n",
    "    return inner\n",
    "\n",
    "x = square(add)\n",
    "x(4, 5)"
   ]
  },
  {
   "cell_type": "markdown",
   "id": "b3aeb916-2785-4d9d-b7c5-74d73603a38d",
   "metadata": {},
   "source": [
    "#### 데코레이터\n",
    "- 메인 함수에 또 다른 합수를 취해 반환할 수 있게 함\n",
    "- 재사용성 높음\n",
    "- 가독성, 직관성 좋다"
   ]
  },
  {
   "cell_type": "code",
   "execution_count": 42,
   "id": "e398129b-3924-4c24-864e-859d522c6270",
   "metadata": {},
   "outputs": [
    {
     "data": {
      "text/plain": [
       "81"
      ]
     },
     "execution_count": 42,
     "metadata": {},
     "output_type": "execute_result"
    }
   ],
   "source": [
    "@square\n",
    "def plus(a,b):\n",
    "    return a + b\n",
    "\n",
    "plus(5,4)"
   ]
  },
  {
   "cell_type": "markdown",
   "id": "4c1b8aaf-3cc8-4af8-8028-96fccbfe5422",
   "metadata": {},
   "source": [
    "#### scope | 범위\n",
    "- 전역: global\n",
    "- 지역: local\n",
    "- nonlocal"
   ]
  },
  {
   "cell_type": "code",
   "execution_count": 43,
   "id": "1b182a23-fd98-4403-a560-189d7f8639e8",
   "metadata": {},
   "outputs": [],
   "source": [
    "a = 1 #global\n",
    "def add(a,b):\n",
    "    x = 2 #local\n",
    "    return a + b\n",
    "\n",
    "def square(func):\n",
    "    #local\n",
    "    def inner(a, b): #nonlocal\n",
    "        result = func(a, b)\n",
    "        return result * result\n",
    "    return inner"
   ]
  },
  {
   "cell_type": "code",
   "execution_count": 47,
   "id": "7d7db7c1-4970-4737-9615-f27215a3d577",
   "metadata": {},
   "outputs": [
    {
     "data": {
      "text/plain": [
       "10"
      ]
     },
     "execution_count": 47,
     "metadata": {},
     "output_type": "execute_result"
    }
   ],
   "source": [
    "a = 3 #global\n",
    "\n",
    "def outer(c):\n",
    "    b = 5 #local\n",
    "    def inner():\n",
    "        #c = 999 #nonlocal\n",
    "        nonlocal c #c 수정가능해짐\n",
    "        c += 1\n",
    "        return c\n",
    "    return inner()\n",
    "\n",
    "outer(9)"
   ]
  },
  {
   "cell_type": "markdown",
   "id": "57d0b951-9860-424f-a0c9-fca0a53ad786",
   "metadata": {},
   "source": [
    "#### 실습\n",
    "- fx1: speed, limit 내 속도가 제한속도를 위반하는지 t/f\n",
    "- fx2: 클로저, 초과할 경우 얼마나 초과하는지 프린트\n",
    "- 실행은 데코레이터로"
   ]
  },
  {
   "cell_type": "code",
   "execution_count": 50,
   "id": "7c5158e1-b873-4f37-9cba-d62cd88205e4",
   "metadata": {},
   "outputs": [
    {
     "data": {
      "text/plain": [
       "'초과: 20 km/h'"
      ]
     },
     "execution_count": 50,
     "metadata": {},
     "output_type": "execute_result"
    }
   ],
   "source": [
    "def violate(func):\n",
    "    def inner(speed, limit):\n",
    "        if func(speed, limit):\n",
    "            return f'초과: {speed - limit} km/h'\n",
    "        else:\n",
    "            return '정상속도'\n",
    "    return inner\n",
    "\n",
    "@violate\n",
    "def is_speeding(speed, limit):\n",
    "    return speed > limit\n",
    "\n",
    "is_speeding(100, 80)"
   ]
  },
  {
   "cell_type": "markdown",
   "id": "69bc6d50-65ae-4c57-a4ad-e13a3887fb3e",
   "metadata": {},
   "source": [
    "### 익명함수 | lambda\n",
    "- 이름이 없다.\n",
    "def is_speeding():\n",
    "    return\n",
    "- def, return\n",
    "- is_speeding\n",
    "- 단순한 용도의 함수가 필요할 경우 사용\n",
    "- 잦은 사용은 권하지 않음\n",
    "- lambda x: <x를 요리할 코드>"
   ]
  },
  {
   "cell_type": "code",
   "execution_count": 51,
   "id": "b1f9793d-a6cc-4acc-aefe-8f73756e181b",
   "metadata": {},
   "outputs": [
    {
     "data": {
      "text/plain": [
       "3"
      ]
     },
     "execution_count": 51,
     "metadata": {},
     "output_type": "execute_result"
    }
   ],
   "source": [
    "(lambda x: x+1)(2)"
   ]
  },
  {
   "cell_type": "code",
   "execution_count": 52,
   "id": "c3b05a75-1196-434a-96f9-47c9d435b1c7",
   "metadata": {},
   "outputs": [
    {
     "data": {
      "text/plain": [
       "3"
      ]
     },
     "execution_count": 52,
     "metadata": {},
     "output_type": "execute_result"
    }
   ],
   "source": [
    "def add_one(x):\n",
    "    return x+1\n",
    "add_one(2)"
   ]
  },
  {
   "cell_type": "code",
   "execution_count": 53,
   "id": "2cc39302-d4bd-41fb-975b-ff4f2f63608a",
   "metadata": {},
   "outputs": [
    {
     "data": {
      "text/plain": [
       "8"
      ]
     },
     "execution_count": 53,
     "metadata": {},
     "output_type": "execute_result"
    }
   ],
   "source": [
    "f = lambda x, y : x+y\n",
    "f(3, 5)"
   ]
  },
  {
   "cell_type": "markdown",
   "id": "6962e055-29f9-4b0a-a31d-858eb25ab770",
   "metadata": {},
   "source": [
    "#실습\n",
    "- 단어가 들어왔을때 첫글자 대문자로 바꾸고 단어 끝에 !를 붙이도록 람다를 만들자"
   ]
  },
  {
   "cell_type": "code",
   "execution_count": 57,
   "id": "c867080d-f9dd-4de6-b7c6-0f8b0a733d97",
   "metadata": {},
   "outputs": [
    {
     "name": "stdin",
     "output_type": "stream",
     "text": [
      " hello\n"
     ]
    },
    {
     "data": {
      "text/plain": [
       "'Hello!'"
      ]
     },
     "execution_count": 57,
     "metadata": {},
     "output_type": "execute_result"
    }
   ],
   "source": [
    "word = input()\n",
    "makeword = lambda word : word.capitalize() + '!'\n",
    "makeword(word)"
   ]
  },
  {
   "cell_type": "markdown",
   "id": "a1fa0584-30d1-4483-8a77-e909ecda4c98",
   "metadata": {},
   "source": [
    "#### 제너레이터\n",
    "- return -> yield\n",
    "- 시퀀스를 순회할때 시퀀스를 생성하는 객체.\n",
    "- 한 번 사용되고 사라짐 -> 메모리 효율 좋음\n"
   ]
  },
  {
   "cell_type": "code",
   "execution_count": 58,
   "id": "0ea91cf3-3c2b-4cbb-b58c-38d0f73d999f",
   "metadata": {},
   "outputs": [
    {
     "data": {
      "text/plain": [
       "<generator object print_number at 0x7fcf59ca52e0>"
      ]
     },
     "execution_count": 58,
     "metadata": {},
     "output_type": "execute_result"
    }
   ],
   "source": [
    "def print_number(num):\n",
    "    for i in range(num):\n",
    "        yield i\n",
    "        \n",
    "print_number(10)"
   ]
  },
  {
   "cell_type": "code",
   "execution_count": 59,
   "id": "c9ebbe5a-9bfe-43a0-af53-434802b58d98",
   "metadata": {},
   "outputs": [
    {
     "name": "stdout",
     "output_type": "stream",
     "text": [
      "0\n",
      "1\n",
      "2\n",
      "3\n",
      "4\n",
      "5\n",
      "6\n",
      "7\n",
      "8\n",
      "9\n"
     ]
    }
   ],
   "source": [
    "fx = print_number(10)\n",
    "\n",
    "for i in fx:\n",
    "    print(i)"
   ]
  },
  {
   "cell_type": "code",
   "execution_count": 62,
   "id": "11542e98-0003-49f6-9449-1a6133a75ef3",
   "metadata": {},
   "outputs": [],
   "source": [
    "for i in fx:\n",
    "    print(i) #메모리에서 사라짐"
   ]
  },
  {
   "cell_type": "markdown",
   "id": "002e3cdf-8d61-4c14-96ba-528688e3f405",
   "metadata": {},
   "source": [
    "### 실습\n",
    "range() 구현하기\n",
    "- 제너레이터 사용\n",
    "- def my_range(start, end, step):\n",
    "    yield"
   ]
  },
  {
   "cell_type": "code",
   "execution_count": 64,
   "id": "a62589d6-ea9c-4f14-8b56-76e2ad0651ee",
   "metadata": {},
   "outputs": [
    {
     "name": "stdout",
     "output_type": "stream",
     "text": [
      "1\n",
      "3\n",
      "5\n",
      "7\n",
      "9\n"
     ]
    }
   ],
   "source": [
    "def my_range(start, end, step=1):\n",
    "    while start < end:\n",
    "        yield start\n",
    "        start += step\n",
    "    \n",
    "ranger = my_range(1, 10, 2)\n",
    "for i in ranger:\n",
    "    print(i)"
   ]
  },
  {
   "cell_type": "code",
   "execution_count": 66,
   "id": "b87c7161-837c-4aa1-a0c1-e718791de3e1",
   "metadata": {},
   "outputs": [
    {
     "name": "stdout",
     "output_type": "stream",
     "text": [
      "<class 'generator'>\n",
      "0\n",
      "1\n",
      "2\n",
      "3\n",
      "4\n"
     ]
    }
   ],
   "source": [
    "# generator 다른 형태\n",
    "# 리스트 컴프리헨션과 형태는 동일, [] 대신()\n",
    "\n",
    "ranger = (i for i in range(5))\n",
    "print(type(ranger))\n",
    "\n",
    "for i in ranger:\n",
    "    print(i)"
   ]
  },
  {
   "cell_type": "markdown",
   "id": "ebb82a5d-a8c5-40fc-af3b-6b5e33a9bf39",
   "metadata": {},
   "source": [
    "#### 재귀함수\n",
    "- 너무 깊으면 예외 발생 (주의)\n",
    "- 자기 자신을 호출하는 함수\n",
    "- [[1, 2, 3], ([1, 1])] -> [1, 2, 3, 1, 1]"
   ]
  },
  {
   "cell_type": "code",
   "execution_count": 71,
   "id": "7f2bda88-4e07-491d-bff4-d8609fbfaa00",
   "metadata": {},
   "outputs": [],
   "source": [
    "def flatten(sent):\n",
    "    for word in sent:\n",
    "        if isinstance(word, list):\n",
    "            #true\n",
    "            #for sub_word in flatten(word): #python 3.3부터 축약 가능\n",
    "            #    yield sub_word\n",
    "            yield from flatten(word)\n",
    "        else:    \n",
    "            #false\n",
    "            yield word"
   ]
  },
  {
   "cell_type": "code",
   "execution_count": 72,
   "id": "dc2aaf49-24ae-42fd-b221-a8631ac757a5",
   "metadata": {},
   "outputs": [
    {
     "data": {
      "text/plain": [
       "False"
      ]
     },
     "execution_count": 72,
     "metadata": {},
     "output_type": "execute_result"
    }
   ],
   "source": [
    "isinstance('h', int)"
   ]
  },
  {
   "cell_type": "code",
   "execution_count": 75,
   "id": "a15d2e28-1837-4fb0-a3b2-0427c6c66eea",
   "metadata": {},
   "outputs": [
    {
     "data": {
      "text/plain": [
       "<generator object flatten at 0x7fcf59ca83c0>"
      ]
     },
     "execution_count": 75,
     "metadata": {},
     "output_type": "execute_result"
    }
   ],
   "source": [
    "a = [[1, 2, 3], ([1, 1])]\n",
    "flatten(a)"
   ]
  },
  {
   "cell_type": "code",
   "execution_count": 76,
   "id": "896a8557-b33a-4866-a0cc-3b741b4e6cc1",
   "metadata": {},
   "outputs": [
    {
     "name": "stdout",
     "output_type": "stream",
     "text": [
      "1\n",
      "2\n",
      "3\n",
      "1\n",
      "1\n"
     ]
    }
   ],
   "source": [
    "for i in flatten(a):\n",
    "    print(i)"
   ]
  },
  {
   "cell_type": "markdown",
   "id": "01025f35-30b5-40b1-aace-7501cdc7f185",
   "metadata": {},
   "source": [
    "### 예외 처리 | exception handling\n",
    "- 목적: 프로그램 정상 종료\n",
    "- 예외 발생 시, 사용자에게 알리고 조치 취함\n",
    "- 소프트랜딩"
   ]
  },
  {
   "cell_type": "code",
   "execution_count": 77,
   "id": "ebecf578-a159-4d98-ba0c-ba32675679e1",
   "metadata": {},
   "outputs": [
    {
     "ename": "ZeroDivisionError",
     "evalue": "division by zero",
     "output_type": "error",
     "traceback": [
      "\u001b[0;31m---------------------------------------------------------------------------\u001b[0m",
      "\u001b[0;31mZeroDivisionError\u001b[0m                         Traceback (most recent call last)",
      "\u001b[0;32m/var/folders/wh/tvv7pnrs1dv43fq_ywn935yh0000gn/T/ipykernel_5024/530406163.py\u001b[0m in \u001b[0;36m<module>\u001b[0;34m\u001b[0m\n\u001b[0;32m----> 1\u001b[0;31m \u001b[0;36m10\u001b[0m\u001b[0;34m/\u001b[0m\u001b[0;36m0\u001b[0m\u001b[0;34m\u001b[0m\u001b[0;34m\u001b[0m\u001b[0m\n\u001b[0m",
      "\u001b[0;31mZeroDivisionError\u001b[0m: division by zero"
     ]
    }
   ],
   "source": [
    "10/0"
   ]
  },
  {
   "cell_type": "code",
   "execution_count": 78,
   "id": "0e18c571-2b7c-4bbd-acd3-89a5a4a4a9d8",
   "metadata": {},
   "outputs": [
    {
     "ename": "ValueError",
     "evalue": "invalid literal for int() with base 10: 'sss'",
     "output_type": "error",
     "traceback": [
      "\u001b[0;31m---------------------------------------------------------------------------\u001b[0m",
      "\u001b[0;31mValueError\u001b[0m                                Traceback (most recent call last)",
      "\u001b[0;32m/var/folders/wh/tvv7pnrs1dv43fq_ywn935yh0000gn/T/ipykernel_5024/785759494.py\u001b[0m in \u001b[0;36m<module>\u001b[0;34m\u001b[0m\n\u001b[0;32m----> 1\u001b[0;31m \u001b[0mint\u001b[0m\u001b[0;34m(\u001b[0m\u001b[0;34m'sss'\u001b[0m\u001b[0;34m)\u001b[0m\u001b[0;34m\u001b[0m\u001b[0;34m\u001b[0m\u001b[0m\n\u001b[0m",
      "\u001b[0;31mValueError\u001b[0m: invalid literal for int() with base 10: 'sss'"
     ]
    }
   ],
   "source": [
    "int('sss')"
   ]
  },
  {
   "cell_type": "code",
   "execution_count": 79,
   "id": "41907ebe-bd7e-446d-ab84-223cda02c9ac",
   "metadata": {},
   "outputs": [
    {
     "ename": "NameError",
     "evalue": "name 'hello' is not defined",
     "output_type": "error",
     "traceback": [
      "\u001b[0;31m---------------------------------------------------------------------------\u001b[0m",
      "\u001b[0;31mNameError\u001b[0m                                 Traceback (most recent call last)",
      "\u001b[0;32m/var/folders/wh/tvv7pnrs1dv43fq_ywn935yh0000gn/T/ipykernel_5024/3305111549.py\u001b[0m in \u001b[0;36m<module>\u001b[0;34m\u001b[0m\n\u001b[0;32m----> 1\u001b[0;31m \u001b[0mhello\u001b[0m\u001b[0;34m\u001b[0m\u001b[0;34m\u001b[0m\u001b[0m\n\u001b[0m",
      "\u001b[0;31mNameError\u001b[0m: name 'hello' is not defined"
     ]
    }
   ],
   "source": [
    "hello"
   ]
  },
  {
   "cell_type": "code",
   "execution_count": 80,
   "id": "050d2b17-2d95-4e9b-bcff-939ce0861280",
   "metadata": {},
   "outputs": [
    {
     "ename": "IndexError",
     "evalue": "string index out of range",
     "output_type": "error",
     "traceback": [
      "\u001b[0;31m---------------------------------------------------------------------------\u001b[0m",
      "\u001b[0;31mIndexError\u001b[0m                                Traceback (most recent call last)",
      "\u001b[0;32m/var/folders/wh/tvv7pnrs1dv43fq_ywn935yh0000gn/T/ipykernel_5024/232126533.py\u001b[0m in \u001b[0;36m<module>\u001b[0;34m\u001b[0m\n\u001b[0;32m----> 1\u001b[0;31m \u001b[0;34m'sss'\u001b[0m\u001b[0;34m[\u001b[0m\u001b[0;36m10\u001b[0m\u001b[0;34m]\u001b[0m \u001b[0;31m#가장 흔한 에러\u001b[0m\u001b[0;34m\u001b[0m\u001b[0;34m\u001b[0m\u001b[0m\n\u001b[0m",
      "\u001b[0;31mIndexError\u001b[0m: string index out of range"
     ]
    }
   ],
   "source": [
    "'sss'[10] #가장 흔한 에러"
   ]
  },
  {
   "cell_type": "code",
   "execution_count": 82,
   "id": "2b10d18d-f85c-43a9-881d-1d448102416b",
   "metadata": {},
   "outputs": [
    {
     "name": "stdout",
     "output_type": "stream",
     "text": [
      "0으로 나눌수 없음\n"
     ]
    }
   ],
   "source": [
    "try:\n",
    "    #<에러 발생할법한 코드 블럭>\n",
    "    10/0\n",
    "except ZeroDivisionError: #<에러 타입>\n",
    "    #처리방법\n",
    "    print('0으로 나눌수 없음')"
   ]
  },
  {
   "cell_type": "code",
   "execution_count": 84,
   "id": "7dd62f14-78fb-494d-aeda-adcb953cc419",
   "metadata": {},
   "outputs": [
    {
     "name": "stdout",
     "output_type": "stream",
     "text": [
      "error\n",
      "10.0\n",
      "5.0\n",
      "3.3333333333333335\n",
      "2.5\n",
      "2.0\n",
      "1.6666666666666667\n",
      "1.4285714285714286\n",
      "1.25\n",
      "1.1111111111111112\n"
     ]
    }
   ],
   "source": [
    "for i in range(10):\n",
    "    try:\n",
    "        print(10/i)\n",
    "    except ZeroDivisionError:\n",
    "        print('error')"
   ]
  },
  {
   "cell_type": "code",
   "execution_count": 2,
   "id": "b58876af-80a6-4dc8-9a5d-a9bed98161b5",
   "metadata": {},
   "outputs": [
    {
     "name": "stdin",
     "output_type": "stream",
     "text": [
      "인덱스입력하세요 7\n"
     ]
    },
    {
     "name": "stdout",
     "output_type": "stream",
     "text": [
      "index error\n",
      "string index out of range\n"
     ]
    },
    {
     "name": "stdin",
     "output_type": "stream",
     "text": [
      "인덱스입력하세요 d\n"
     ]
    },
    {
     "name": "stdout",
     "output_type": "stream",
     "text": [
      "type error\n",
      "invalid literal for int() with base 10: 'd'\n"
     ]
    },
    {
     "name": "stdin",
     "output_type": "stream",
     "text": [
      "인덱스입력하세요 q\n"
     ]
    }
   ],
   "source": [
    "word = 'hello'\n",
    "while True:\n",
    "    index = input('인덱스입력하세요')\n",
    "    if index == 'q':\n",
    "        break\n",
    "    try:\n",
    "        print(word[int(index)])\n",
    "    except IndexError as e1:\n",
    "        print('index error')\n",
    "        print(e1)\n",
    "    except ValueError as e2:\n",
    "        print('type error')\n",
    "        print(e2)"
   ]
  },
  {
   "cell_type": "markdown",
   "id": "5b8f2951-323f-4c2b-9445-6f7fcf0ec46b",
   "metadata": {},
   "source": [
    "#### 2. 예외 발생시키기\n",
    "프로그램 강제종료 하고자 할 때\n",
    "- raise\n",
    "- assert\n"
   ]
  },
  {
   "cell_type": "code",
   "execution_count": null,
   "id": "4026cacc-77a2-4a39-96a4-47203912b032",
   "metadata": {},
   "outputs": [],
   "source": [
    "raise ValueError('print...')"
   ]
  },
  {
   "cell_type": "code",
   "execution_count": 2,
   "id": "42192b86-07dc-41f4-98a7-fe8b8c3d5967",
   "metadata": {},
   "outputs": [
    {
     "name": "stdin",
     "output_type": "stream",
     "text": [
      "number>> d\n"
     ]
    },
    {
     "ename": "ValueError",
     "evalue": "숫자가 아닙니다.",
     "output_type": "error",
     "traceback": [
      "\u001b[0;31m---------------------------------------------------------------------------\u001b[0m",
      "\u001b[0;31mValueError\u001b[0m                                Traceback (most recent call last)",
      "\u001b[0;32m/var/folders/wh/tvv7pnrs1dv43fq_ywn935yh0000gn/T/ipykernel_6099/271435371.py\u001b[0m in \u001b[0;36m<module>\u001b[0;34m\u001b[0m\n\u001b[1;32m      2\u001b[0m     \u001b[0mnum\u001b[0m \u001b[0;34m=\u001b[0m \u001b[0minput\u001b[0m\u001b[0;34m(\u001b[0m\u001b[0;34m'number>>'\u001b[0m\u001b[0;34m)\u001b[0m\u001b[0;34m\u001b[0m\u001b[0;34m\u001b[0m\u001b[0m\n\u001b[1;32m      3\u001b[0m     \u001b[0;32mif\u001b[0m \u001b[0;32mnot\u001b[0m \u001b[0mnum\u001b[0m\u001b[0;34m.\u001b[0m\u001b[0misdigit\u001b[0m\u001b[0;34m(\u001b[0m\u001b[0;34m)\u001b[0m\u001b[0;34m:\u001b[0m\u001b[0;34m\u001b[0m\u001b[0;34m\u001b[0m\u001b[0m\n\u001b[0;32m----> 4\u001b[0;31m         \u001b[0;32mraise\u001b[0m \u001b[0mValueError\u001b[0m\u001b[0;34m(\u001b[0m\u001b[0;34m'숫자가 아닙니다.'\u001b[0m\u001b[0;34m)\u001b[0m\u001b[0;34m\u001b[0m\u001b[0;34m\u001b[0m\u001b[0m\n\u001b[0m\u001b[1;32m      5\u001b[0m     \u001b[0;32melse\u001b[0m\u001b[0;34m:\u001b[0m\u001b[0;34m\u001b[0m\u001b[0;34m\u001b[0m\u001b[0m\n\u001b[1;32m      6\u001b[0m         \u001b[0mprint\u001b[0m\u001b[0;34m(\u001b[0m\u001b[0mnum\u001b[0m\u001b[0;34m)\u001b[0m\u001b[0;34m\u001b[0m\u001b[0;34m\u001b[0m\u001b[0m\n",
      "\u001b[0;31mValueError\u001b[0m: 숫자가 아닙니다."
     ]
    }
   ],
   "source": [
    "while True:\n",
    "    num = input('number>>')\n",
    "    if not num.isdigit():\n",
    "        raise ValueError('숫자가 아닙니다.')\n",
    "    else:\n",
    "        print(num)\n",
    "        break"
   ]
  },
  {
   "cell_type": "code",
   "execution_count": null,
   "id": "b321945c-8868-4a7b-a7fd-6f2067a00a4e",
   "metadata": {},
   "outputs": [],
   "source": [
    "assert <참인 조건>, '예외메세지' #AssertionError"
   ]
  },
  {
   "cell_type": "code",
   "execution_count": 4,
   "id": "2d0fa613-4415-4ffb-9ede-ada184be3c52",
   "metadata": {},
   "outputs": [
    {
     "ename": "AssertionError",
     "evalue": "정수 아님",
     "output_type": "error",
     "traceback": [
      "\u001b[0;31m---------------------------------------------------------------------------\u001b[0m",
      "\u001b[0;31mAssertionError\u001b[0m                            Traceback (most recent call last)",
      "\u001b[0;32m/var/folders/wh/tvv7pnrs1dv43fq_ywn935yh0000gn/T/ipykernel_6099/4026479065.py\u001b[0m in \u001b[0;36m<module>\u001b[0;34m\u001b[0m\n\u001b[1;32m      3\u001b[0m     \u001b[0;32mreturn\u001b[0m \u001b[0mbin\u001b[0m\u001b[0;34m(\u001b[0m\u001b[0mnum\u001b[0m\u001b[0;34m)\u001b[0m\u001b[0;34m\u001b[0m\u001b[0;34m\u001b[0m\u001b[0m\n\u001b[1;32m      4\u001b[0m \u001b[0;34m\u001b[0m\u001b[0m\n\u001b[0;32m----> 5\u001b[0;31m \u001b[0mget_binary\u001b[0m\u001b[0;34m(\u001b[0m\u001b[0;34m'ee'\u001b[0m\u001b[0;34m)\u001b[0m\u001b[0;34m\u001b[0m\u001b[0;34m\u001b[0m\u001b[0m\n\u001b[0m",
      "\u001b[0;32m/var/folders/wh/tvv7pnrs1dv43fq_ywn935yh0000gn/T/ipykernel_6099/4026479065.py\u001b[0m in \u001b[0;36mget_binary\u001b[0;34m(num)\u001b[0m\n\u001b[1;32m      1\u001b[0m \u001b[0;32mdef\u001b[0m \u001b[0mget_binary\u001b[0m\u001b[0;34m(\u001b[0m\u001b[0mnum\u001b[0m\u001b[0;34m)\u001b[0m\u001b[0;34m:\u001b[0m\u001b[0;34m\u001b[0m\u001b[0;34m\u001b[0m\u001b[0m\n\u001b[0;32m----> 2\u001b[0;31m     \u001b[0;32massert\u001b[0m \u001b[0misinstance\u001b[0m\u001b[0;34m(\u001b[0m\u001b[0mnum\u001b[0m\u001b[0;34m,\u001b[0m \u001b[0mint\u001b[0m\u001b[0;34m)\u001b[0m\u001b[0;34m,\u001b[0m \u001b[0;34m'정수 아님'\u001b[0m \u001b[0;31m#check 기능\u001b[0m\u001b[0;34m\u001b[0m\u001b[0;34m\u001b[0m\u001b[0m\n\u001b[0m\u001b[1;32m      3\u001b[0m     \u001b[0;32mreturn\u001b[0m \u001b[0mbin\u001b[0m\u001b[0;34m(\u001b[0m\u001b[0mnum\u001b[0m\u001b[0;34m)\u001b[0m\u001b[0;34m\u001b[0m\u001b[0;34m\u001b[0m\u001b[0m\n\u001b[1;32m      4\u001b[0m \u001b[0;34m\u001b[0m\u001b[0m\n\u001b[1;32m      5\u001b[0m \u001b[0mget_binary\u001b[0m\u001b[0;34m(\u001b[0m\u001b[0;34m'ee'\u001b[0m\u001b[0;34m)\u001b[0m\u001b[0;34m\u001b[0m\u001b[0;34m\u001b[0m\u001b[0m\n",
      "\u001b[0;31mAssertionError\u001b[0m: 정수 아님"
     ]
    }
   ],
   "source": [
    "def get_binary(num):\n",
    "    assert isinstance(num, int), '정수 아님' #check 기능\n",
    "    return bin(num)\n",
    "\n",
    "get_binary('ee')"
   ]
  },
  {
   "cell_type": "markdown",
   "id": "9acdfb14-c029-4ced-97ba-87ef3dd201ef",
   "metadata": {},
   "source": [
    "#### 예외 정의하기\n",
    "- 사용자 정의 예외\n",
    "- Exception라는 부모클래스 상속"
   ]
  },
  {
   "cell_type": "code",
   "execution_count": 6,
   "id": "2d80d335-822e-49b4-9003-476b7f81b239",
   "metadata": {},
   "outputs": [],
   "source": [
    "class MyException(Exception):\n",
    "    pass"
   ]
  },
  {
   "cell_type": "code",
   "execution_count": 8,
   "id": "d399c02d-348d-4aad-97af-62b05bf809a6",
   "metadata": {},
   "outputs": [
    {
     "name": "stdout",
     "output_type": "stream",
     "text": [
      "a\n",
      "b\n"
     ]
    },
    {
     "ename": "MyException",
     "evalue": "대문자 안됨",
     "output_type": "error",
     "traceback": [
      "\u001b[0;31m---------------------------------------------------------------------------\u001b[0m",
      "\u001b[0;31mMyException\u001b[0m                               Traceback (most recent call last)",
      "\u001b[0;32m/var/folders/wh/tvv7pnrs1dv43fq_ywn935yh0000gn/T/ipykernel_6099/3870033619.py\u001b[0m in \u001b[0;36m<module>\u001b[0;34m\u001b[0m\n\u001b[1;32m      1\u001b[0m \u001b[0;32mfor\u001b[0m \u001b[0mword\u001b[0m \u001b[0;32min\u001b[0m \u001b[0;34m[\u001b[0m\u001b[0;34m'a'\u001b[0m\u001b[0;34m,\u001b[0m \u001b[0;34m'b'\u001b[0m\u001b[0;34m,\u001b[0m \u001b[0;34m'C'\u001b[0m\u001b[0;34m]\u001b[0m\u001b[0;34m:\u001b[0m\u001b[0;34m\u001b[0m\u001b[0;34m\u001b[0m\u001b[0m\n\u001b[1;32m      2\u001b[0m     \u001b[0;32mif\u001b[0m \u001b[0mword\u001b[0m\u001b[0;34m.\u001b[0m\u001b[0misupper\u001b[0m\u001b[0;34m(\u001b[0m\u001b[0;34m)\u001b[0m\u001b[0;34m:\u001b[0m\u001b[0;34m\u001b[0m\u001b[0;34m\u001b[0m\u001b[0m\n\u001b[0;32m----> 3\u001b[0;31m         \u001b[0;32mraise\u001b[0m \u001b[0mMyException\u001b[0m\u001b[0;34m(\u001b[0m\u001b[0;34m'대문자 안됨'\u001b[0m\u001b[0;34m)\u001b[0m\u001b[0;34m\u001b[0m\u001b[0;34m\u001b[0m\u001b[0m\n\u001b[0m\u001b[1;32m      4\u001b[0m     \u001b[0;32melse\u001b[0m\u001b[0;34m:\u001b[0m\u001b[0;34m\u001b[0m\u001b[0;34m\u001b[0m\u001b[0m\n\u001b[1;32m      5\u001b[0m         \u001b[0mprint\u001b[0m\u001b[0;34m(\u001b[0m\u001b[0mword\u001b[0m\u001b[0;34m)\u001b[0m\u001b[0;34m\u001b[0m\u001b[0;34m\u001b[0m\u001b[0m\n",
      "\u001b[0;31mMyException\u001b[0m: 대문자 안됨"
     ]
    }
   ],
   "source": [
    "for word in ['a', 'b', 'C']:\n",
    "    if word.isupper():\n",
    "        raise MyException('대문자 안됨')\n",
    "    else:\n",
    "        print(word)"
   ]
  },
  {
   "cell_type": "code",
   "execution_count": 10,
   "id": "7a0c61df-6aa0-449b-9ab9-4c53bb5783da",
   "metadata": {},
   "outputs": [
    {
     "name": "stdout",
     "output_type": "stream",
     "text": [
      "a\n",
      "b\n"
     ]
    },
    {
     "ename": "UppercaseException",
     "evalue": "대문자 안된다구",
     "output_type": "error",
     "traceback": [
      "\u001b[0;31m---------------------------------------------------------------------------\u001b[0m",
      "\u001b[0;31mUppercaseException\u001b[0m                        Traceback (most recent call last)",
      "\u001b[0;32m/var/folders/wh/tvv7pnrs1dv43fq_ywn935yh0000gn/T/ipykernel_6099/583830789.py\u001b[0m in \u001b[0;36m<module>\u001b[0;34m\u001b[0m\n\u001b[1;32m      5\u001b[0m \u001b[0;32mfor\u001b[0m \u001b[0mword\u001b[0m \u001b[0;32min\u001b[0m \u001b[0;34m[\u001b[0m\u001b[0;34m'a'\u001b[0m\u001b[0;34m,\u001b[0m \u001b[0;34m'b'\u001b[0m\u001b[0;34m,\u001b[0m \u001b[0;34m'C'\u001b[0m\u001b[0;34m]\u001b[0m\u001b[0;34m:\u001b[0m\u001b[0;34m\u001b[0m\u001b[0;34m\u001b[0m\u001b[0m\n\u001b[1;32m      6\u001b[0m     \u001b[0;32mif\u001b[0m \u001b[0mword\u001b[0m\u001b[0;34m.\u001b[0m\u001b[0misupper\u001b[0m\u001b[0;34m(\u001b[0m\u001b[0;34m)\u001b[0m\u001b[0;34m:\u001b[0m\u001b[0;34m\u001b[0m\u001b[0;34m\u001b[0m\u001b[0m\n\u001b[0;32m----> 7\u001b[0;31m         \u001b[0;32mraise\u001b[0m \u001b[0mUppercaseException\u001b[0m\u001b[0;34m\u001b[0m\u001b[0;34m\u001b[0m\u001b[0m\n\u001b[0m\u001b[1;32m      8\u001b[0m     \u001b[0;32melse\u001b[0m\u001b[0;34m:\u001b[0m\u001b[0;34m\u001b[0m\u001b[0;34m\u001b[0m\u001b[0m\n\u001b[1;32m      9\u001b[0m         \u001b[0mprint\u001b[0m\u001b[0;34m(\u001b[0m\u001b[0mword\u001b[0m\u001b[0;34m)\u001b[0m\u001b[0;34m\u001b[0m\u001b[0;34m\u001b[0m\u001b[0m\n",
      "\u001b[0;31mUppercaseException\u001b[0m: 대문자 안된다구"
     ]
    }
   ],
   "source": [
    "class UppercaseException(Exception):\n",
    "    def __init__(self):\n",
    "        super().__init__('대문자 안된다구')\n",
    "        \n",
    "for word in ['a', 'b', 'C']:\n",
    "    if word.isupper():\n",
    "        raise UppercaseException\n",
    "    else:\n",
    "        print(word)"
   ]
  }
 ],
 "metadata": {
  "kernelspec": {
   "display_name": "Python 3 (ipykernel)",
   "language": "python",
   "name": "python3"
  },
  "language_info": {
   "codemirror_mode": {
    "name": "ipython",
    "version": 3
   },
   "file_extension": ".py",
   "mimetype": "text/x-python",
   "name": "python",
   "nbconvert_exporter": "python",
   "pygments_lexer": "ipython3",
   "version": "3.9.7"
  }
 },
 "nbformat": 4,
 "nbformat_minor": 5
}

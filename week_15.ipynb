{
 "cells": [
  {
   "cell_type": "markdown",
   "id": "1814667d-60eb-4801-8ef1-022d77ae23df",
   "metadata": {},
   "source": [
    "### 파일과 디렉터리\n",
    "\n",
    "- 디렉터리: 폴더의 다른 말. 파일이 논리적으로 묶인 단위\n",
    "- 파일: 컴퓨터를 실행하는 기본 단위.\n",
    "    - 파일명 + 확장자\n",
    "    - 확장자: 파일의 쓰임을 구분하는 글자\n",
    "    - pdf, .xlsx, .txt, ..\n",
    "    - 종류: 바이너리 파일, 텍스트 파일\n",
    "        - 바이너리: 이진정보로 저장됨\n",
    "            - 내용을 확인 못함.\n",
    "            - 해당 확장자를 열 수 있는 프로그램이 필요함.\n",
    "        - 텍스트: 사람이 이해할 수 있는 문자열로 저장됨\n",
    "            - 메모장, html, py\n",
    "            - 변경 기준: 아스키코드, 유니코드\n",
    "            - 인코딩(encoding)\n",
    "            - utf-8\n",
    "            - cp494"
   ]
  },
  {
   "cell_type": "markdown",
   "id": "16104543-e0af-4db5-9bf6-4cf215ebb092",
   "metadata": {},
   "source": [
    "#### 파일 열기\n",
    "- open(파일명, 모드)\n",
    "- 모드\n",
    "\n",
    "    - r: read (default)\n",
    "    - w: write - 파일이 있으면 덮어쓰고, 없으면 생성\n",
    "    - x: 파일이 없을 때만 생성\n",
    "    - a: 있을 때 마지막 라인에 추가\n",
    "    \n",
    "   - 추가 모드\n",
    "        - b: binary\n",
    "        - t: text (default)\n",
    "\n",
    "          'rb', 'rt'"
   ]
  },
  {
   "cell_type": "code",
   "execution_count": 8,
   "id": "e0daa17c-51b7-4479-8325-d978b3dc6a1c",
   "metadata": {},
   "outputs": [],
   "source": [
    "file = 'test.txt'\n",
    "f = open(file, 'r')"
   ]
  },
  {
   "cell_type": "code",
   "execution_count": 9,
   "id": "2975e8e5-797b-4fb4-8a2c-bad019f8cc62",
   "metadata": {},
   "outputs": [
    {
     "data": {
      "text/plain": [
       "<_io.TextIOWrapper name='test.txt' mode='r' encoding='UTF-8'>"
      ]
     },
     "execution_count": 9,
     "metadata": {},
     "output_type": "execute_result"
    }
   ],
   "source": [
    "f"
   ]
  },
  {
   "cell_type": "markdown",
   "id": "8ee7040e-25e8-4b73-8735-f337503abaf1",
   "metadata": {},
   "source": [
    "#### 파일 읽기\n",
    "- read(): 전체를 하나의 str\n",
    "- readline(): 한줄만 str\n",
    "- readlines(): 전체를 list, 각 줄이 한 str"
   ]
  },
  {
   "cell_type": "code",
   "execution_count": 14,
   "id": "8c1c8172-cb25-48c9-b631-f4a18ba78173",
   "metadata": {
    "tags": []
   },
   "outputs": [
    {
     "data": {
      "text/plain": [
       "'eadin'"
      ]
     },
     "execution_count": 14,
     "metadata": {},
     "output_type": "execute_result"
    }
   ],
   "source": [
    "f.read(5) #다음 5개"
   ]
  },
  {
   "cell_type": "code",
   "execution_count": null,
   "id": "7cfa0a46-0eae-4f47-9e37-d0463d5df438",
   "metadata": {},
   "outputs": [],
   "source": [
    "f.close() #다른 프로그램에서 동시 호출하면 에러"
   ]
  },
  {
   "cell_type": "code",
   "execution_count": 12,
   "id": "cca7c54a-67e9-4b5c-a15e-f86084264c63",
   "metadata": {},
   "outputs": [
    {
     "data": {
      "text/plain": [
       "'hello world\\n'"
      ]
     },
     "execution_count": 12,
     "metadata": {},
     "output_type": "execute_result"
    }
   ],
   "source": [
    "f.readline()"
   ]
  },
  {
   "cell_type": "markdown",
   "id": "70bb1292-3f4f-429b-8cee-b4f8194667bf",
   "metadata": {},
   "source": [
    "with open(파일, 모드) as f: .... open 함수 기능이 유지되는 블록\n",
    "\n",
    "자원 해제됨(자동)"
   ]
  },
  {
   "cell_type": "code",
   "execution_count": 15,
   "id": "3522ce44-0a91-433d-9ff9-c8ca9aab1731",
   "metadata": {},
   "outputs": [],
   "source": [
    "f = open(file, 'r')\n",
    "sents = f.readlines()\n",
    "sents = [s.strip() for s in sents]\n",
    "f.close()"
   ]
  },
  {
   "cell_type": "code",
   "execution_count": 16,
   "id": "14cfc838-7bfd-4661-8042-a5900300a08a",
   "metadata": {},
   "outputs": [
    {
     "data": {
      "text/plain": [
       "['hello world', \"I'm reading a book.\"]"
      ]
     },
     "execution_count": 16,
     "metadata": {},
     "output_type": "execute_result"
    }
   ],
   "source": [
    "sents"
   ]
  },
  {
   "cell_type": "markdown",
   "id": "10216ab9-253a-4ffa-8f7e-c5cbcd4466be",
   "metadata": {},
   "source": [
    "#### 파일 닫기\n",
    "- 파일을 여는 즉시 닫기\n",
    "- 자원 해제"
   ]
  },
  {
   "cell_type": "code",
   "execution_count": 17,
   "id": "5b253175-b8c4-46cd-9319-27ee4fe12570",
   "metadata": {},
   "outputs": [],
   "source": [
    "with open(file, 'r') as f: #file\n",
    "    # open() 적용되는 블럭\n",
    "    content = f.read()\n",
    "#파일 자동으로 닫힘"
   ]
  },
  {
   "cell_type": "code",
   "execution_count": 18,
   "id": "a8e89cd9-d8e0-4e2c-8936-5ca63762c96d",
   "metadata": {},
   "outputs": [
    {
     "data": {
      "text/plain": [
       "\"hello world\\nI'm reading a book.\""
      ]
     },
     "execution_count": 18,
     "metadata": {},
     "output_type": "execute_result"
    }
   ],
   "source": [
    "content"
   ]
  },
  {
   "cell_type": "code",
   "execution_count": 19,
   "id": "53d900c3-6a8f-4532-9cfb-56cd926907c7",
   "metadata": {},
   "outputs": [],
   "source": [
    "# readline 파일 읽는데, while 사용해서 한줄씩 읽고, strip()해서 리스트에 반환\n",
    "\n",
    "file = 'test.txt'\n",
    "sents = []\n",
    "with open(file, 'r') as f:\n",
    "    while True:\n",
    "        line = f.readline()\n",
    "        if not line:\n",
    "            break\n",
    "        sent = line.strip()\n",
    "        sents.append(sent)"
   ]
  },
  {
   "cell_type": "markdown",
   "id": "cf04936d-efed-4221-8180-717b9f04d018",
   "metadata": {},
   "source": [
    "#### 경로가 달라질 때\n",
    "- . : 현재 경로\n",
    "- ..: 상위 경로"
   ]
  },
  {
   "cell_type": "code",
   "execution_count": 34,
   "id": "c917f0db-2f0c-4af9-8013-cca80f6fe8d5",
   "metadata": {},
   "outputs": [
    {
     "ename": "FileNotFoundError",
     "evalue": "[Errno 2] No such file or directory: './Desktop/test.txt'",
     "output_type": "error",
     "traceback": [
      "\u001b[0;31m---------------------------------------------------------------------------\u001b[0m",
      "\u001b[0;31mFileNotFoundError\u001b[0m                         Traceback (most recent call last)",
      "\u001b[0;32m/var/folders/wh/tvv7pnrs1dv43fq_ywn935yh0000gn/T/ipykernel_2212/2413418220.py\u001b[0m in \u001b[0;36m<module>\u001b[0;34m\u001b[0m\n\u001b[1;32m      1\u001b[0m \u001b[0mfile\u001b[0m \u001b[0;34m=\u001b[0m \u001b[0;34m'./Desktop/test.txt'\u001b[0m\u001b[0;34m\u001b[0m\u001b[0;34m\u001b[0m\u001b[0m\n\u001b[0;32m----> 2\u001b[0;31m \u001b[0;32mwith\u001b[0m \u001b[0mopen\u001b[0m\u001b[0;34m(\u001b[0m\u001b[0mfile\u001b[0m\u001b[0;34m)\u001b[0m \u001b[0;32mas\u001b[0m \u001b[0mf\u001b[0m\u001b[0;34m:\u001b[0m\u001b[0;34m\u001b[0m\u001b[0;34m\u001b[0m\u001b[0m\n\u001b[0m\u001b[1;32m      3\u001b[0m     \u001b[0mprint\u001b[0m\u001b[0;34m(\u001b[0m\u001b[0mf\u001b[0m\u001b[0;34m.\u001b[0m\u001b[0mread\u001b[0m\u001b[0;34m(\u001b[0m\u001b[0;34m)\u001b[0m\u001b[0;34m)\u001b[0m\u001b[0;34m\u001b[0m\u001b[0;34m\u001b[0m\u001b[0m\n",
      "\u001b[0;31mFileNotFoundError\u001b[0m: [Errno 2] No such file or directory: './Desktop/test.txt'"
     ]
    }
   ],
   "source": [
    "file = './Desktop/test.txt'\n",
    "with open(file) as f:\n",
    "    print(f.read())"
   ]
  },
  {
   "cell_type": "markdown",
   "id": "4b4fea12-f52d-4a91-8e8a-f3a03fc7182f",
   "metadata": {},
   "source": [
    "#### 쓰기\n",
    "- 인코딩 유의"
   ]
  },
  {
   "cell_type": "code",
   "execution_count": 21,
   "id": "2736ae90-3401-4fe2-8cb9-f3c8670edd4d",
   "metadata": {},
   "outputs": [],
   "source": [
    "data = list(range(10))\n",
    "with open('test2.txt', 'w', encoding = 'utf-8') as f:\n",
    "    for i in range(10):\n",
    "        data = f'{i}번째 줄입니다.\\n'\n",
    "        f.write(data)"
   ]
  },
  {
   "cell_type": "code",
   "execution_count": 22,
   "id": "7aff22c6-a600-4faf-bbfe-ae3e938ba3ad",
   "metadata": {},
   "outputs": [],
   "source": [
    "#print\n",
    "file_out = open('test', 'a', encoding = 'utf-8')\n",
    "print('한 줄 추가했습니다.', file = file_out)\n",
    "file_out.close()"
   ]
  },
  {
   "cell_type": "markdown",
   "id": "f2342b81-8bdd-4b1d-b10e-be4c66261cd2",
   "metadata": {},
   "source": [
    "#### folder 만들어서 추가하는 방법\n",
    "- 폴더 만들어야 함\n",
    "- 접근"
   ]
  },
  {
   "cell_type": "code",
   "execution_count": 23,
   "id": "672dd902-cbf0-4e7b-a26b-def95139dabc",
   "metadata": {},
   "outputs": [],
   "source": [
    "import os"
   ]
  },
  {
   "cell_type": "code",
   "execution_count": null,
   "id": "ab0514bd-353c-4940-9b66-fae6c1135a99",
   "metadata": {},
   "outputs": [],
   "source": [
    "os.mkdir('abc')"
   ]
  },
  {
   "cell_type": "code",
   "execution_count": null,
   "id": "53ca8125-df92-4de6-a101-1cf4662aff7d",
   "metadata": {},
   "outputs": [],
   "source": [
    "#있는지 확인하기\n",
    "path = abc\n",
    "if not os.isdir(path):\n",
    "    os.mkdir(path)\n",
    "dir_name = os.path.join(path, 'test2.txt')\n",
    "#재확인\n",
    "if not os.path.exists(dir_name):\n",
    "    with open(dir_name, 'w') as f: #덮어쓸 가능성 배제\n",
    "        #..."
   ]
  },
  {
   "cell_type": "code",
   "execution_count": null,
   "id": "75e97509-0960-4e55-abeb-3a025cee17ca",
   "metadata": {},
   "outputs": [],
   "source": [
    "os.remove(file_name)\n",
    "os.rmdir(dir_name) #폴더 안에 파일 있으면 삭제 못함"
   ]
  },
  {
   "cell_type": "code",
   "execution_count": null,
   "id": "f3260fd7-311c-4a54-bb9c-b6b885d1f7a8",
   "metadata": {},
   "outputs": [],
   "source": [
    "import shutil\n",
    "shutil.rmtree(dir_name) #강제로 전부 삭제"
   ]
  },
  {
   "cell_type": "code",
   "execution_count": null,
   "id": "3c87ac69-ee0c-496a-a008-4656307eaedc",
   "metadata": {},
   "outputs": [],
   "source": [
    "#folder 새로 만들어서\n",
    "# 파일에 내용 쓰기\n",
    "# 파일 열기"
   ]
  },
  {
   "cell_type": "code",
   "execution_count": 26,
   "id": "19103861-b56a-419c-9b48-efc289153eba",
   "metadata": {},
   "outputs": [
    {
     "data": {
      "text/plain": [
       "'/Users/minizi'"
      ]
     },
     "execution_count": 26,
     "metadata": {},
     "output_type": "execute_result"
    }
   ],
   "source": [
    "os.getcwd()"
   ]
  },
  {
   "cell_type": "code",
   "execution_count": 27,
   "id": "e48fd041-f8f7-4456-bfb8-ff6630a116cc",
   "metadata": {},
   "outputs": [],
   "source": [
    "os.chdir('..')"
   ]
  },
  {
   "cell_type": "code",
   "execution_count": 28,
   "id": "e7183357-97aa-4762-9178-f8a50b23dd00",
   "metadata": {},
   "outputs": [
    {
     "data": {
      "text/plain": [
       "'/Users'"
      ]
     },
     "execution_count": 28,
     "metadata": {},
     "output_type": "execute_result"
    }
   ],
   "source": [
    "os.getcwd()"
   ]
  },
  {
   "cell_type": "markdown",
   "id": "e6c0fab6-34bd-4d76-b458-5aa55c84f654",
   "metadata": {},
   "source": [
    "#### pickle\n",
    "- 객체를 파일로 저장하는 기능 제공"
   ]
  },
  {
   "cell_type": "code",
   "execution_count": 29,
   "id": "903fb03d-5ea8-49df-8d82-f3bb018a92a5",
   "metadata": {},
   "outputs": [],
   "source": [
    "import pickle"
   ]
  },
  {
   "cell_type": "code",
   "execution_count": null,
   "id": "a3cba682-462c-4824-8403-773242056331",
   "metadata": {},
   "outputs": [],
   "source": [
    "with open('test.pickle', 'wb') as f:\n",
    "    pickle.dump(nums, f)"
   ]
  },
  {
   "cell_type": "code",
   "execution_count": null,
   "id": "8ea654c0-589a-45c3-bfdc-709a278f247b",
   "metadata": {},
   "outputs": [],
   "source": [
    "nums = list(range(10))"
   ]
  },
  {
   "cell_type": "code",
   "execution_count": null,
   "id": "e67164fc-b405-4cec-abc0-512cf955149e",
   "metadata": {},
   "outputs": [],
   "source": [
    "with open('test.pickle','rb') as f:\n",
    "    number = pickle.load(f)"
   ]
  },
  {
   "cell_type": "code",
   "execution_count": null,
   "id": "bbfcf807-c53a-4082-975c-d6d291c8a1d6",
   "metadata": {},
   "outputs": [],
   "source": [
    "number"
   ]
  }
 ],
 "metadata": {
  "kernelspec": {
   "display_name": "Python 3 (ipykernel)",
   "language": "python",
   "name": "python3"
  },
  "language_info": {
   "codemirror_mode": {
    "name": "ipython",
    "version": 3
   },
   "file_extension": ".py",
   "mimetype": "text/x-python",
   "name": "python",
   "nbconvert_exporter": "python",
   "pygments_lexer": "ipython3",
   "version": "3.9.7"
  }
 },
 "nbformat": 4,
 "nbformat_minor": 5
}
